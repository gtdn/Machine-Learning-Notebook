{
  "nbformat": 4,
  "nbformat_minor": 0,
  "metadata": {
    "colab": {
      "name": "tp2.ipynb",
      "provenance": [],
      "collapsed_sections": []
    },
    "kernelspec": {
      "name": "python3",
      "display_name": "Python 3"
    },
    "language_info": {
      "name": "python"
    },
    "accelerator": "GPU"
  },
  "cells": [
    {
      "cell_type": "code",
      "metadata": {
        "id": "ZLP2m-jDVPl_"
      },
      "source": [
        "import numpy as np\n",
        "np.set_printoptions(threshold=10000,suppress=True)\n",
        "import pandas as pd\n",
        "import warnings\n",
        "import matplotlib.pyplot as plt\n",
        "warnings.filterwarnings('ignore')"
      ],
      "execution_count": null,
      "outputs": []
    },
    {
      "cell_type": "code",
      "metadata": {
        "colab": {
          "base_uri": "https://localhost:8080/",
          "height": 206
        },
        "id": "exx7ySYvVVpr",
        "outputId": "2146a26e-2d3d-4171-aecf-da7171a99998"
      },
      "source": [
        "data = pd.read_csv('./credit_scoring.csv', sep=';', header = 0)\n",
        "X = data.iloc[:, 1:16].values\n",
        "data.head(5)"
      ],
      "execution_count": null,
      "outputs": [
        {
          "output_type": "execute_result",
          "data": {
            "text/html": [
              "<div>\n",
              "<style scoped>\n",
              "    .dataframe tbody tr th:only-of-type {\n",
              "        vertical-align: middle;\n",
              "    }\n",
              "\n",
              "    .dataframe tbody tr th {\n",
              "        vertical-align: top;\n",
              "    }\n",
              "\n",
              "    .dataframe thead th {\n",
              "        text-align: right;\n",
              "    }\n",
              "</style>\n",
              "<table border=\"1\" class=\"dataframe\">\n",
              "  <thead>\n",
              "    <tr style=\"text-align: right;\">\n",
              "      <th></th>\n",
              "      <th>Seniority</th>\n",
              "      <th>Home</th>\n",
              "      <th>Time</th>\n",
              "      <th>Age</th>\n",
              "      <th>Marital</th>\n",
              "      <th>Records</th>\n",
              "      <th>Job</th>\n",
              "      <th>Expenses</th>\n",
              "      <th>Income</th>\n",
              "      <th>Assets</th>\n",
              "      <th>Debt</th>\n",
              "      <th>Amount</th>\n",
              "      <th>Price</th>\n",
              "      <th>Status</th>\n",
              "    </tr>\n",
              "  </thead>\n",
              "  <tbody>\n",
              "    <tr>\n",
              "      <th>0</th>\n",
              "      <td>9.0</td>\n",
              "      <td>1.0</td>\n",
              "      <td>60.0</td>\n",
              "      <td>30.0</td>\n",
              "      <td>0.0</td>\n",
              "      <td>1.0</td>\n",
              "      <td>1.0</td>\n",
              "      <td>73.0</td>\n",
              "      <td>129.0</td>\n",
              "      <td>0.0</td>\n",
              "      <td>0.0</td>\n",
              "      <td>800.0</td>\n",
              "      <td>846.0</td>\n",
              "      <td>1</td>\n",
              "    </tr>\n",
              "    <tr>\n",
              "      <th>1</th>\n",
              "      <td>17.0</td>\n",
              "      <td>1.0</td>\n",
              "      <td>60.0</td>\n",
              "      <td>58.0</td>\n",
              "      <td>1.0</td>\n",
              "      <td>1.0</td>\n",
              "      <td>0.0</td>\n",
              "      <td>48.0</td>\n",
              "      <td>131.0</td>\n",
              "      <td>0.0</td>\n",
              "      <td>0.0</td>\n",
              "      <td>1000.0</td>\n",
              "      <td>1658.0</td>\n",
              "      <td>1</td>\n",
              "    </tr>\n",
              "    <tr>\n",
              "      <th>2</th>\n",
              "      <td>10.0</td>\n",
              "      <td>0.0</td>\n",
              "      <td>36.0</td>\n",
              "      <td>46.0</td>\n",
              "      <td>0.0</td>\n",
              "      <td>2.0</td>\n",
              "      <td>1.0</td>\n",
              "      <td>90.0</td>\n",
              "      <td>200.0</td>\n",
              "      <td>3000.0</td>\n",
              "      <td>0.0</td>\n",
              "      <td>2000.0</td>\n",
              "      <td>2985.0</td>\n",
              "      <td>0</td>\n",
              "    </tr>\n",
              "    <tr>\n",
              "      <th>3</th>\n",
              "      <td>0.0</td>\n",
              "      <td>1.0</td>\n",
              "      <td>60.0</td>\n",
              "      <td>24.0</td>\n",
              "      <td>1.0</td>\n",
              "      <td>1.0</td>\n",
              "      <td>0.0</td>\n",
              "      <td>63.0</td>\n",
              "      <td>182.0</td>\n",
              "      <td>2500.0</td>\n",
              "      <td>0.0</td>\n",
              "      <td>900.0</td>\n",
              "      <td>1325.0</td>\n",
              "      <td>1</td>\n",
              "    </tr>\n",
              "    <tr>\n",
              "      <th>4</th>\n",
              "      <td>0.0</td>\n",
              "      <td>1.0</td>\n",
              "      <td>36.0</td>\n",
              "      <td>26.0</td>\n",
              "      <td>1.0</td>\n",
              "      <td>1.0</td>\n",
              "      <td>0.0</td>\n",
              "      <td>46.0</td>\n",
              "      <td>107.0</td>\n",
              "      <td>0.0</td>\n",
              "      <td>0.0</td>\n",
              "      <td>310.0</td>\n",
              "      <td>910.0</td>\n",
              "      <td>1</td>\n",
              "    </tr>\n",
              "  </tbody>\n",
              "</table>\n",
              "</div>"
            ],
            "text/plain": [
              "   Seniority  Home  Time   Age  Marital  ...  Assets  Debt  Amount   Price  Status\n",
              "0        9.0   1.0  60.0  30.0      0.0  ...     0.0   0.0   800.0   846.0       1\n",
              "1       17.0   1.0  60.0  58.0      1.0  ...     0.0   0.0  1000.0  1658.0       1\n",
              "2       10.0   0.0  36.0  46.0      0.0  ...  3000.0   0.0  2000.0  2985.0       0\n",
              "3        0.0   1.0  60.0  24.0      1.0  ...  2500.0   0.0   900.0  1325.0       1\n",
              "4        0.0   1.0  36.0  26.0      1.0  ...     0.0   0.0   310.0   910.0       1\n",
              "\n",
              "[5 rows x 14 columns]"
            ]
          },
          "metadata": {},
          "execution_count": 2
        }
      ]
    },
    {
      "cell_type": "code",
      "metadata": {
        "colab": {
          "base_uri": "https://localhost:8080/"
        },
        "id": "iHSRtSgdX_GQ",
        "outputId": "2e53ae9c-0108-4c51-dd82-32983d2d5bd4"
      },
      "source": [
        "array = np.array(data)\n",
        "type(array)"
      ],
      "execution_count": null,
      "outputs": [
        {
          "output_type": "execute_result",
          "data": {
            "text/plain": [
              "numpy.ndarray"
            ]
          },
          "metadata": {},
          "execution_count": 3
        }
      ]
    },
    {
      "cell_type": "code",
      "metadata": {
        "colab": {
          "base_uri": "https://localhost:8080/"
        },
        "id": "O_L245zGWnYb",
        "outputId": "097c2e48-443c-4abd-a69d-31182ea8c4e3"
      },
      "source": [
        "print(data.shape)"
      ],
      "execution_count": null,
      "outputs": [
        {
          "output_type": "stream",
          "name": "stdout",
          "text": [
            "(4375, 14)\n"
          ]
        }
      ]
    },
    {
      "cell_type": "code",
      "metadata": {
        "colab": {
          "base_uri": "https://localhost:8080/",
          "height": 265
        },
        "id": "HsjV1KMiY6CK",
        "outputId": "5fa2a141-e1d2-4399-a9f7-e924bef5746d"
      },
      "source": [
        "def print_hist(statueVal) :\n",
        "    nb_pos = 0\n",
        "    nb_neg = 0\n",
        "    for Y in statueVal :\n",
        "        if Y == 1 :\n",
        "            nb_pos+=1\n",
        "        else :\n",
        "            nb_neg+=1\n",
        "    fig = plt.figure()\n",
        "    x = ['neg','pos']\n",
        "    height = [nb_neg,nb_pos]\n",
        "    width = 0.8\n",
        "    plt.bar(x, height, width)\n",
        "    plt.show()\n",
        "\n",
        "print_hist(data.Status)\n",
        "\n",
        "# On remarque qu'il y a plus de cas positifs que négatifs"
      ],
      "execution_count": null,
      "outputs": [
        {
          "output_type": "display_data",
          "data": {
            "image/png": "[encoded data removed]",
            "text/plain": [
              "<Figure size 432x288 with 1 Axes>"
            ]
          },
          "metadata": {
            "needs_background": "light"
          }
        }
      ]
    },
    {
      "cell_type": "code",
      "metadata": {
        "colab": {
          "base_uri": "https://localhost:8080/"
        },
        "id": "i12053yxZpd8",
        "outputId": "18d0f36b-2867-4c42-92ee-b0546452e88c"
      },
      "source": [
        "from sklearn.model_selection import train_test_split\n",
        "\n",
        "x = data.iloc[:,:13].values\n",
        "y = data.iloc[:,13].values \n",
        "\n",
        "x_train,x_test,y_train,y_test=train_test_split(x,y,test_size=0.5, random_state=1)\n",
        "\n",
        "x_train.shape"
      ],
      "execution_count": null,
      "outputs": [
        {
          "output_type": "execute_result",
          "data": {
            "text/plain": [
              "(2187, 13)"
            ]
          },
          "metadata": {},
          "execution_count": 6
        }
      ]
    },
    {
      "cell_type": "code",
      "metadata": {
        "colab": {
          "base_uri": "https://localhost:8080/"
        },
        "id": "N0ph7YlRb3x7",
        "outputId": "cee1e334-a54e-4539-bce6-2d6842cba77c"
      },
      "source": [
        "y_train.shape"
      ],
      "execution_count": null,
      "outputs": [
        {
          "output_type": "execute_result",
          "data": {
            "text/plain": [
              "(2187,)"
            ]
          },
          "metadata": {},
          "execution_count": 7
        }
      ]
    },
    {
      "cell_type": "code",
      "metadata": {
        "colab": {
          "base_uri": "https://localhost:8080/"
        },
        "id": "ooqS_je5z5lW",
        "outputId": "2dff226b-c837-414c-a762-f17b12b3c8c5"
      },
      "source": [
        "# Exercice 2 - Prediction \n",
        "\n",
        "# CART\n",
        "from sklearn.tree import DecisionTreeClassifier\n",
        "from sklearn.neighbors import KNeighborsClassifier\n",
        "from sklearn.neural_network import MLPClassifier\n",
        "from sklearn.metrics import accuracy_score\n",
        "from sklearn.metrics import precision_score\n",
        "\n",
        "def clf_decision_tree(x_train, x_test, y_train, y_test):\n",
        "  clf_decision_tree = DecisionTreeClassifier(random_state=1)\n",
        "  clf_decision_tree.fit(x_train,y_train)\n",
        "  pred_tree = clf_decision_tree.predict(x_test)\n",
        "  acc_tree = accuracy_score(y_test, pred_tree)*100\n",
        "  prec_tree = precision_score(y_test, pred_tree)\n",
        "  tuple = (acc_tree, prec_tree)\n",
        "  return tuple\n",
        "  \n",
        "\n",
        "def clf_knn(x_train, x_test, y_train, y_test):\n",
        "  clf_neigh = KNeighborsClassifier(n_neighbors=5)\n",
        "  clf_neigh.fit(x_train, y_train)\n",
        "  pred_knn = clf_neigh.predict(x_test)\n",
        "  acc_knn = accuracy_score(y_test, pred_knn)*100\n",
        "  prec_knn = precision_score(y_test, pred_knn)\n",
        "  tuple = (acc_knn, prec_knn)  \n",
        "  return tuple\n",
        "\n",
        "def clf_mlp(x_train, x_test, y_train, y_test):\n",
        "  clf_mlp = MLPClassifier(random_state=1, hidden_layer_sizes=(40,20))\n",
        "  clf_mlp.fit(x_train, y_train)\n",
        "  pred_mlp = clf_mlp.predict(x_test)\n",
        "  acc_mlp = accuracy_score(y_test, pred_mlp)*100\n",
        "  prec_mlp = precision_score(y_test, pred_mlp)\n",
        "  tuple = (acc_mlp, prec_mlp)  \n",
        "  return tuple\n",
        "\n",
        "def printRes(res_tree,res_knn,res_mlp, string):\n",
        "  print(\"__________ACCURACY________\" + string)\n",
        "  print(\"| CART |\" + str(res_tree[0]) + \" |\")\n",
        "  print(\"| KNN  |\" + str(res_knn[0]) + \" |\")\n",
        "  print(\"| MLP  |\" + str(res_mlp[0])  + \" | \" )\n",
        "\n",
        "  print(\"__________PRECISION________\" + string)\n",
        "  print(\"| CART |\" + str(res_tree[1]) + \" |\")\n",
        "  print(\"| KNN  |\" + str(res_knn[1]) + \" |\")\n",
        "  print(\"| MLP  |\" + str(res_mlp[1])  + \" | \" )\n",
        "\n",
        "\n",
        "res_tree = clf_decision_tree(x_train, x_test, y_train, y_test)\n",
        "res_knn  = clf_knn(x_train, x_test, y_train, y_test)\n",
        "res_mlp  = clf_mlp(x_train, x_test, y_train, y_test)\n",
        "\n",
        "printRes(res_tree,res_knn,res_mlp,'Non normalisé')\n",
        "\n",
        "# Ici, le CART est le meilleur classifier car il a l'accuracy la plus élevé et la précision la plus élevé\n",
        "# On choisi la précision ici car prendre le rappel n'aurait pas de sens, car on veut que celui que l'on choisi\n",
        "# soit vraiment éligibible.\n",
        "# Avec le rappel on se tromperait car il y en a pleins qui peuvent ne pas avoir de crédit"
      ],
      "execution_count": null,
      "outputs": [
        {
          "output_type": "stream",
          "name": "stdout",
          "text": [
            "__________ACCURACY________Non normalisé\n",
            "| CART |72.71480804387569 |\n",
            "| KNN  |72.48628884826326 |\n",
            "| MLP  |69.78976234003656 | \n",
            "__________PRECISION________Non normalisé\n",
            "| CART |0.8194174757281554 |\n",
            "| KNN  |0.7709713024282561 |\n",
            "| MLP  |0.7956438180653427 | \n"
          ]
        }
      ]
    },
    {
      "cell_type": "code",
      "metadata": {
        "id": "dF4kk8ovBu12"
      },
      "source": [
        "# Partie 3 - Normalisation \n",
        "from sklearn.preprocessing import StandardScaler\n",
        "scaler = StandardScaler()\n",
        "scaler.fit(x_train)\n",
        "x_train_norm = scaler.transform(x_train)\n",
        "x_test_norm = scaler.transform(x_test)"
      ],
      "execution_count": null,
      "outputs": []
    },
    {
      "cell_type": "code",
      "metadata": {
        "colab": {
          "base_uri": "https://localhost:8080/"
        },
        "id": "10I9i2rvDJa7",
        "outputId": "40dda664-4a1c-4516-bb03-ff7ead6ba8ed"
      },
      "source": [
        "res_tree_norm = clf_decision_tree(x_train_norm, x_test_norm, y_train, y_test)\n",
        "res_knn_norm  = clf_knn(x_train_norm, x_test_norm, y_train, y_test)\n",
        "res_mlp_norm  = clf_mlp(x_train_norm, x_test_norm, y_train, y_test)\n",
        "\n",
        "printRes(res_tree_norm,res_knn_norm,res_mlp_norm, 'Normalisé')\n",
        "\n",
        "# L'accuracy pour MLP et KNN sont devenue bien meilleures\n",
        "# De meme pour le precision elle a augmenté pour MLP et KNN, et à très légèrement \n",
        "# baissé pour CART\n"
      ],
      "execution_count": null,
      "outputs": [
        {
          "output_type": "stream",
          "name": "stdout",
          "text": [
            "__________ACCURACY________Normalisé\n",
            "| CART |72.71480804387569 |\n",
            "| KNN  |75.27422303473492 |\n",
            "| MLP  |77.6508226691042 | \n",
            "__________PRECISION________Normalisé\n",
            "| CART |0.8181818181818182 |\n",
            "| KNN  |0.8106015485407981 |\n",
            "| MLP  |0.8381717109326745 | \n"
          ]
        }
      ]
    },
    {
      "cell_type": "code",
      "metadata": {
        "colab": {
          "base_uri": "https://localhost:8080/"
        },
        "id": "20YFhwdTFDGI",
        "outputId": "31509daf-ab6b-4203-a3ca-51e207d12a2a"
      },
      "source": [
        "# Partie 4 - Création de variable\n",
        "from sklearn.decomposition import PCA\n",
        "# PCA permet de faire une reduction de dimension \n",
        "pca = PCA(n_components=3)\n",
        "pca.fit(x_train_norm)\n",
        "\n",
        "x_train_pca = np.concatenate((x_train_norm,pca.transform(x_train_norm)),axis=1)\n",
        "x_test_pca  = np.concatenate((x_test_norm,pca.transform(x_test_norm)),axis=1)\n",
        "\n",
        "res_tree_pca = clf_decision_tree(x_train_pca, x_test_pca, y_train, y_test)\n",
        "res_knn_pca  = clf_knn(x_train_pca, x_test_pca, y_train, y_test)\n",
        "res_mlp_pca  = clf_mlp(x_train_pca, x_test_pca, y_train, y_test)\n",
        "\n",
        "printRes(res_tree_pca,res_knn_pca,res_mlp_pca, 'Normalisé et PCA')\n",
        "\n",
        "# CART augmente en accuracy et en precision\n",
        "# MLP reste stable\n",
        "# KNN reste stable\n",
        "# On se rend compte que l'accuracy et la precision augmente ou reste stable.\n",
        "# L APC sur des données normalisés sur notre jeu de donnéé est le plus optimal"
      ],
      "execution_count": null,
      "outputs": [
        {
          "output_type": "stream",
          "name": "stdout",
          "text": [
            "__________ACCURACY________Normalisé et PCA\n",
            "| CART |73.62888482632542 |\n",
            "| KNN  |75.6398537477148 |\n",
            "| MLP  |77.0109689213894 | \n",
            "__________PRECISION________Normalisé et PCA\n",
            "| CART |0.8327825512227363 |\n",
            "| KNN  |0.8103957471943296 |\n",
            "| MLP  |0.8269812462189957 | \n"
          ]
        }
      ]
    },
    {
      "cell_type": "code",
      "metadata": {
        "colab": {
          "base_uri": "https://localhost:8080/",
          "height": 332
        },
        "id": "1vD2yXt2J-jB",
        "outputId": "6387574e-abcf-4f1c-b582-9bd718c1a4a6"
      },
      "source": [
        "# Partie 5 - Selection de variable\n",
        "from sklearn.ensemble import RandomForestClassifier\n",
        "clf = RandomForestClassifier(n_estimators=100)\n",
        "clf.fit(x_train_pca, y_train)\n",
        "importances=clf.feature_importances_\n",
        "std = np.std([tree.feature_importances_ for tree in clf.estimators_],axis=0)\n",
        "sorted_idx = np.argsort(importances)[::-1]\n",
        "\n",
        "features = np.append(data.columns.values[:-1], ['ACP1','ACP2','ACP3'])\n",
        "print(features[sorted_idx])\n",
        "padding = np.arange(x_train_pca.size/len(x_train_pca)) + 0.5\n",
        "plt.barh(padding, importances[sorted_idx],xerr=std[sorted_idx], align='center')\n",
        "plt.yticks(padding, features[sorted_idx])\n",
        "plt.xlabel(\"Relative Importance\")\n",
        "plt.title(\"Variable Importance\")\n",
        "plt.show()"
      ],
      "execution_count": null,
      "outputs": [
        {
          "output_type": "stream",
          "name": "stdout",
          "text": [
            "['Income' 'Seniority' 'ACP2' 'ACP3' 'Price' 'ACP1' 'Amount' 'Age' 'Assets'\n",
            " 'Records' 'Expenses' 'Job' 'Time' 'Debt' 'Home' 'Marital']\n"
          ]
        },
        {
          "output_type": "display_data",
          "data": {
            "image/png": "[encoded data removed]",
            "text/plain": [
              "<Figure size 432x288 with 1 Axes>"
            ]
          },
          "metadata": {
            "needs_background": "light"
          }
        }
      ]
    },
    {
      "cell_type": "code",
      "metadata": {
        "colab": {
          "base_uri": "https://localhost:8080/",
          "height": 295
        },
        "id": "DPcufBM-c0GR",
        "outputId": "0111fbf8-7d9b-4a15-d133-e951251612b3"
      },
      "source": [
        "KNN=KNeighborsClassifier(n_neighbors=5)\n",
        "scores=np.zeros(x_train_pca.shape[1]+1)\n",
        "for f in np.arange(0, x_train_pca.shape[1]+1):\n",
        "  X1_f = x_train_pca[:,sorted_idx[:f+1]]\n",
        "  X2_f = x_test_pca[:,sorted_idx[:f+1]]\n",
        "  KNN.fit(X1_f,y_train)\n",
        "  YKNN=KNN.predict(X2_f)\n",
        "  scores[f]=np.round(accuracy_score(y_test,YKNN),3)\n",
        "plt.plot(scores)\n",
        "plt.xlabel(\"Nombre de Variables\")\n",
        "plt.ylabel(\"Accuracy\")\n",
        "plt.title(\"Evolution de l'accuracy en fonction des variables\")\n",
        "plt.show()"
      ],
      "execution_count": null,
      "outputs": [
        {
          "output_type": "display_data",
          "data": {
            "image/png": "[encoded data removed]",
            "text/plain": [
              "<Figure size 432x288 with 1 Axes>"
            ]
          },
          "metadata": {
            "needs_background": "light"
          }
        }
      ]
    },
    {
      "cell_type": "code",
      "metadata": {
        "colab": {
          "base_uri": "https://localhost:8080/"
        },
        "id": "IUdTEuPWPzEx",
        "outputId": "1165e2f5-70a4-4145-e849-74c05c46bbe3"
      },
      "source": [
        "max_var = np.argmax(scores)\n",
        "Xtrain_opt = x_train_pca[:,sorted_idx[:max_var]]\n",
        "Xtest_opt = x_test_pca[:,sorted_idx[:max_var]]\n",
        "\n",
        "print(\"Le nombre de variables optimales est : \" + str(max_var) + '\\n')\n",
        "print(\"Son accuracy est : \" + str(np.amax(scores))  + '\\n')\n",
        "print(\"Les variables retenues sont : \" + str(features[:max_var]))"
      ],
      "execution_count": null,
      "outputs": [
        {
          "output_type": "stream",
          "name": "stdout",
          "text": [
            "Le nombre de variables optimales est : 10\n",
            "\n",
            "Son accuracy est : 0.761\n",
            "\n",
            "Les variables retenues sont : ['Seniority' 'Home' 'Time' 'Age' 'Marital' 'Records' 'Job' 'Expenses'\n",
            " 'Income' 'Assets']\n"
          ]
        }
      ]
    },
    {
      "cell_type": "code",
      "metadata": {
        "id": "s3ZCmn-kzwkj"
      },
      "source": [
        "# Partie 6 - Paramétrage des classifieurs\n",
        "from sklearn.model_selection import GridSearchCV"
      ],
      "execution_count": null,
      "outputs": []
    },
    {
      "cell_type": "code",
      "metadata": {
        "colab": {
          "base_uri": "https://localhost:8080/"
        },
        "id": "-1o0KFitiztB",
        "outputId": "9dd50f53-ba3d-4394-cc93-7b3aad07d545"
      },
      "source": [
        "# Tunning - KNN\n",
        "k_range        = list(range(1,31))\n",
        "weight_options = [\"uniform\", \"distance\"]\n",
        "algo           = ['auto', 'ball_tree', 'kd_tree', 'brute']\n",
        "metric         = ['euclidean','manhattan']\n",
        "param_grid = dict(n_neighbors = k_range, \n",
        "                  weights = weight_options, \n",
        "                  algorithm = algo,\n",
        "                  metric = metric)\n",
        "\n",
        "grid_knn = GridSearchCV(KNeighborsClassifier(), param_grid, cv = 10, scoring = 'accuracy')\n",
        "grid_knn.fit(x_train_norm,  y_train)\n",
        "\n",
        "print (grid_knn.best_score_)\n",
        "print (grid_knn.best_params_)\n",
        "print (grid_knn.best_estimator_)\n",
        "\n",
        "# Le meilleur résultat s'obtient avec \n",
        "# 'algorithm': 'auto'\n",
        "# 'metric': 'manhattan'\n",
        "# 'n_neighbors': 26\n",
        "# 'weights': 'distance'\n",
        "# Resultat : 0.7773134766034099"
      ],
      "execution_count": null,
      "outputs": [
        {
          "output_type": "stream",
          "name": "stdout",
          "text": [
            "0.7773134766034099\n",
            "{'algorithm': 'auto', 'metric': 'manhattan', 'n_neighbors': 26, 'weights': 'distance'}\n",
            "KNeighborsClassifier(metric='manhattan', n_neighbors=26, weights='distance')\n"
          ]
        }
      ]
    },
    {
      "cell_type": "code",
      "metadata": {
        "id": "0-85Y4KRp60K",
        "colab": {
          "base_uri": "https://localhost:8080/"
        },
        "outputId": "9dff7e2e-a836-467c-ae8b-ce648e61fbe3"
      },
      "source": [
        "# Tunning - MLP\n",
        "param_mlp = {'solver': ['lbfgs', 'sgd'], \n",
        "              'max_iter': [300], \n",
        "              'alpha': 10.0 ** -np.arange(1, 10), \n",
        "              'hidden_layer_sizes':[40,20], \n",
        "              'random_state':[0,1,2]}\n",
        "\n",
        "grid_mlp  = GridSearchCV(MLPClassifier(), param_mlp, n_jobs=-1)\n",
        "grid_mlp.fit(x_train_norm,  y_train)\n",
        "\n",
        "print (grid_mlp.best_score_)\n",
        "print (grid_mlp.best_params_)\n",
        "\n",
        "# Le meilleur résultat s'obtient avec \n",
        "# 'alpha': '0.1'\n",
        "# 'hidden_layer_sizes': '20'\n",
        "# 'max_iter': 300\n",
        "# 'random_state': '0'\n",
        "# 'solver': 'sgd'\n",
        "# Resultat : 0.7773134766034099"
      ],
      "execution_count": null,
      "outputs": [
        {
          "output_type": "stream",
          "name": "stdout",
          "text": [
            "0.7887370301871415\n",
            "{'alpha': 0.1, 'hidden_layer_sizes': 20, 'max_iter': 300, 'random_state': 0, 'solver': 'sgd'}\n"
          ]
        }
      ]
    },
    {
      "cell_type": "code",
      "metadata": {
        "colab": {
          "base_uri": "https://localhost:8080/"
        },
        "id": "yXd8AuaTs8dc",
        "outputId": "f3ff33e8-eec8-47b9-f662-375ba9f9bb4f"
      },
      "source": [
        "# Tunning - CART \n",
        "params = {\n",
        "    'max_leaf_nodes': list(range(2, 100)), \n",
        "    'min_samples_split': [2, 3, 4]\n",
        "    }\n",
        "\n",
        "grid_cart = GridSearchCV(DecisionTreeClassifier(random_state=1), param_grid = params, verbose = 1, cv = 5, n_jobs = -1)\n",
        "grid_cart.fit(x_train_norm,  y_train)\n",
        "\n",
        "print (grid_cart.best_score_)\n",
        "print (grid_cart.best_params_)\n",
        "# Le meilleur résultat s'obtient avec \n",
        "# 'max_leaf_nodes': '14'\n",
        "# 'min_samples_split': '2'\n",
        "# Resultat : 0.7672570347846984"
      ],
      "execution_count": null,
      "outputs": [
        {
          "output_type": "stream",
          "name": "stdout",
          "text": [
            "Fitting 5 folds for each of 294 candidates, totalling 1470 fits\n",
            "0.7672570347846984\n",
            "{'max_leaf_nodes': 14, 'min_samples_split': 2}\n"
          ]
        }
      ]
    },
    {
      "cell_type": "code",
      "metadata": {
        "id": "YAUcgHUY3n1D"
      },
      "source": [
        "# Partie 7 - Creation d'un pipeline\n",
        "from sklearn.pipeline import Pipeline\n",
        "from sklearn.pipeline import FeatureUnion\n",
        "import pickle"
      ],
      "execution_count": null,
      "outputs": []
    },
    {
      "cell_type": "code",
      "metadata": {
        "colab": {
          "base_uri": "https://localhost:8080/"
        },
        "id": "UJRMQjBpuOcX",
        "outputId": "81100c42-0812-4be4-c3ea-71169fd15a5c"
      },
      "source": [
        "def pipeline(classifier, pickle_name) :  \n",
        "  pipe = Pipeline([('scaler', StandardScaler()),\n",
        "                 ('FU',FeatureUnion([('scaler',StandardScaler()),(\"pca\", PCA(n_components=3))])), \n",
        "                 ('classifier', classifier)])\n",
        "  with open(pickle_name, \"wb\") as f:\n",
        "    pickle.dump(pipe, f)\n",
        "\n",
        "  return pipe\n",
        "\n",
        "def get_pickle(pickle_name) :\n",
        "  with open(pickle_name, \"rb\") as f:\n",
        "    pipe = pickle.load(f)\n",
        "    return pipe\n",
        "\n",
        "\n",
        "knn = KNeighborsClassifier(n_neighbors=5)\n",
        "pipe_knn = pipeline(knn, 'knn_pipeline')\n",
        "pipe_knn.fit(x_train,  y_train)\n",
        "pipe_knn.score(x_test, y_test)\n",
        "# On retrouve bien le meme resultats que dans l'exécution fait plus haut avec le PCA"
      ],
      "execution_count": null,
      "outputs": [
        {
          "output_type": "execute_result",
          "data": {
            "text/plain": [
              "0.756398537477148"
            ]
          },
          "metadata": {},
          "execution_count": 14
        }
      ]
    },
    {
      "cell_type": "code",
      "metadata": {
        "colab": {
          "base_uri": "https://localhost:8080/"
        },
        "id": "rUqL7Gc9Opsi",
        "outputId": "666960db-8cbc-4cce-efd4-5508684251a4"
      },
      "source": [
        "# On test si le pickle fonctionne\n",
        "pipe_knn_get = get_pickle('knn_pipeline')\n",
        "pipe_knn_get.fit(x_train,  y_train)\n",
        "pipe_knn_get.score(x_test, y_test)"
      ],
      "execution_count": null,
      "outputs": [
        {
          "output_type": "execute_result",
          "data": {
            "text/plain": [
              "0.756398537477148"
            ]
          },
          "metadata": {},
          "execution_count": 109
        }
      ]
    },
    {
      "cell_type": "code",
      "metadata": {
        "colab": {
          "base_uri": "https://localhost:8080/"
        },
        "id": "js9ogrsg1yAX",
        "outputId": "ed6ae4cd-f9e7-467d-977e-8139adbe49e9"
      },
      "source": [
        "mlp = MLPClassifier(random_state=1, hidden_layer_sizes=(40,20))\n",
        "pip_mlp = pipeline(mlp, 'mlp_pipeline')\n",
        "pip_mlp.fit(x_train,  y_train)\n",
        "pip_mlp.score(x_test, y_test)"
      ],
      "execution_count": null,
      "outputs": [
        {
          "output_type": "execute_result",
          "data": {
            "text/plain": [
              "0.770109689213894"
            ]
          },
          "metadata": {},
          "execution_count": 102
        }
      ]
    },
    {
      "cell_type": "code",
      "metadata": {
        "colab": {
          "base_uri": "https://localhost:8080/"
        },
        "id": "F0K7Pets2JIO",
        "outputId": "706f68e0-b456-4730-ef22-70c4eeaaf82f"
      },
      "source": [
        "dt = DecisionTreeClassifier(random_state=1)\n",
        "pip_dt = pipeline(dt,'dt_pipeline')\n",
        "pip_dt.fit(x_train,  y_train)\n",
        "pip_dt.score(x_test, y_test)"
      ],
      "execution_count": null,
      "outputs": [
        {
          "output_type": "execute_result",
          "data": {
            "text/plain": [
              "0.7362888482632541"
            ]
          },
          "metadata": {},
          "execution_count": 103
        }
      ]
    },
    {
      "cell_type": "code",
      "metadata": {
        "id": "7_GubXvBEYrz"
      },
      "source": [
        "# Partie 8 - Comparaison des algorithmes\n",
        "from sklearn.model_selection import KFold\n",
        "from sklearn.model_selection import cross_val_score\n",
        "from sklearn.naive_bayes import GaussianNB\n",
        "from sklearn.ensemble import AdaBoostClassifier\n",
        "from sklearn.ensemble import BaggingClassifier\n",
        "import time\n",
        "\n",
        "clfs = {\n",
        "  'BY' : GaussianNB(),\n",
        "  'RF' : RandomForestClassifier(n_estimators=50, random_state=1),\n",
        "  'KNN': KNeighborsClassifier(n_neighbors=5),\n",
        "  'MLP': MLPClassifier(random_state=1, hidden_layer_sizes=(20,10)),\n",
        "  'CART' : DecisionTreeClassifier(criterion='gini', random_state=1),\n",
        "  'ID3' : DecisionTreeClassifier(criterion='entropy',random_state=1),\n",
        "  # 'BAG': BaggingClassifier(n_estimators=50, random_state=0),\n",
        "  'ADA' : AdaBoostClassifier(n_estimators=50, random_state=0),\n",
        "  'STUMP' : DecisionTreeClassifier(max_depth=1,random_state=1),\n",
        "}\n",
        "\n",
        "def run_classifiers(x_test,y_test,clfs):    \n",
        "  kf = KFold(n_splits=10, shuffle=True, random_state=0)\n",
        "  for i in clfs:\n",
        "    debut_time = time.time()\n",
        "    clf = clfs[i]\n",
        "    cv_acc = cross_val_score(clf, x_test, y_test, cv=kf)\n",
        "    cv_auc = cross_val_score(clf, x_test, y_test, cv=kf, scoring='roc_auc')\n",
        "    cv_rec = cross_val_score(clf, x_test, y_test, cv=kf, scoring='precision')\n",
        "    cv_rcl = cross_val_score(clf, x_test, y_test, cv=kf, scoring='recall')\n",
        "    total_time = time.time() - debut_time\n",
        "    print('{0}'.format(i))  \n",
        "    print(\"Accuracy  is: {1:.3f} +/- {2:.3f}\".format(i, np.mean(cv_acc), np.std(cv_acc)))\n",
        "    print(\"AUC       is: {1:.3f} +/- {2:.3f}\".format(i, np.mean(cv_auc), np.std(cv_auc)))\n",
        "    print(\"Precision is: {1:.3f} +/- {2:.3f}\".format(i, np.mean(cv_rec), np.std(cv_rec)))\n",
        "    print(\"Recall    is: {1:.3f} +/- {2:.3f}\".format(i, np.mean(cv_rcl), np.std(cv_rcl)))\n",
        "    print('Le temps d execution est : ' + str(total_time))"
      ],
      "execution_count": null,
      "outputs": []
    },
    {
      "cell_type": "code",
      "metadata": {
        "colab": {
          "base_uri": "https://localhost:8080/"
        },
        "id": "VZ0JGZsj2P0n",
        "outputId": "e7c44802-0446-4130-bb57-26fb6820395b"
      },
      "source": [
        "run_classifiers(x_test_pca,y_test,clfs)\n",
        "# On choisi toujours la precision car c est toujours le plus pertinent. Ici on veut savoir si le client est sovable, il ne faut donc \n",
        "# pas se tromper. On veut donc un modele qui maximise le nombre de bonne prédiction.\n",
        "# Si on veut maximiser la precision : c est le NaiveBayesSimple qui est le plus pertinent\n",
        "# Si on veut maximiser l accuracy : c'est MLP que l on choisira\n",
        "# Celui qui possede le meilleur temps est le stump ce qui est logique\n",
        "# Celui qui a le pire temps est le reseau de neuronne, ce qui est logique aussi"
      ],
      "execution_count": null,
      "outputs": [
        {
          "output_type": "stream",
          "name": "stdout",
          "text": [
            "BY\n",
            "Accuracy  is: 0.722 +/- 0.016\n",
            "AUC       is: 0.783 +/- 0.020\n",
            "Precision is: 0.860 +/- 0.023\n",
            "Recall    is: 0.736 +/- 0.023\n",
            "Le temps d execution est : 0.14975261688232422\n",
            "RF\n",
            "Accuracy  is: 0.784 +/- 0.023\n",
            "AUC       is: 0.815 +/- 0.022\n",
            "Precision is: 0.818 +/- 0.024\n",
            "Recall    is: 0.903 +/- 0.017\n",
            "Le temps d execution est : 9.06710958480835\n",
            "KNN\n",
            "Accuracy  is: 0.757 +/- 0.017\n",
            "AUC       is: 0.757 +/- 0.024\n",
            "Precision is: 0.811 +/- 0.016\n",
            "Recall    is: 0.866 +/- 0.027\n",
            "Le temps d execution est : 0.9419090747833252\n",
            "MLP\n",
            "Accuracy  is: 0.790 +/- 0.024\n",
            "AUC       is: 0.825 +/- 0.027\n",
            "Precision is: 0.835 +/- 0.031\n",
            "Recall    is: 0.885 +/- 0.023\n",
            "Le temps d execution est : 58.71171164512634\n",
            "CART\n",
            "Accuracy  is: 0.704 +/- 0.025\n",
            "AUC       is: 0.637 +/- 0.023\n",
            "Precision is: 0.801 +/- 0.023\n",
            "Recall    is: 0.786 +/- 0.029\n",
            "Le temps d execution est : 0.7019515037536621\n",
            "ID3\n",
            "Accuracy  is: 0.700 +/- 0.026\n",
            "AUC       is: 0.635 +/- 0.024\n",
            "Precision is: 0.800 +/- 0.029\n",
            "Recall    is: 0.780 +/- 0.023\n",
            "Le temps d execution est : 1.0647542476654053\n",
            "BAG\n",
            "Accuracy  is: 0.784 +/- 0.030\n",
            "AUC       is: 0.808 +/- 0.027\n",
            "Precision is: 0.826 +/- 0.024\n",
            "Recall    is: 0.888 +/- 0.027\n",
            "Le temps d execution est : 21.843634605407715\n",
            "ADA\n",
            "Accuracy  is: 0.789 +/- 0.021\n",
            "AUC       is: 0.829 +/- 0.027\n",
            "Precision is: 0.824 +/- 0.021\n",
            "Recall    is: 0.902 +/- 0.022\n",
            "Le temps d execution est : 7.802285432815552\n",
            "STUMP\n",
            "Accuracy  is: 0.715 +/- 0.023\n",
            "AUC       is: 0.612 +/- 0.037\n",
            "Precision is: 0.734 +/- 0.031\n",
            "Recall    is: 0.957 +/- 0.067\n",
            "Le temps d execution est : 0.18405890464782715\n"
          ]
        }
      ]
    },
    {
      "cell_type": "code",
      "metadata": {
        "colab": {
          "base_uri": "https://localhost:8080/",
          "height": 206
        },
        "id": "RINz4HGJ1rp-",
        "outputId": "7daee2d5-d977-499c-d644-c8a866bbaca6"
      },
      "source": [
        "# Exercice 2 - Apprentissage supervisé\n",
        "\n",
        "# Partie 1 - Chargement des données\n",
        "credit_scor = pd.read_csv('./credit.data', sep='\\t', header = None)\n",
        "credit_scor.head(5)"
      ],
      "execution_count": null,
      "outputs": [
        {
          "output_type": "execute_result",
          "data": {
            "text/html": [
              "<div>\n",
              "<style scoped>\n",
              "    .dataframe tbody tr th:only-of-type {\n",
              "        vertical-align: middle;\n",
              "    }\n",
              "\n",
              "    .dataframe tbody tr th {\n",
              "        vertical-align: top;\n",
              "    }\n",
              "\n",
              "    .dataframe thead th {\n",
              "        text-align: right;\n",
              "    }\n",
              "</style>\n",
              "<table border=\"1\" class=\"dataframe\">\n",
              "  <thead>\n",
              "    <tr style=\"text-align: right;\">\n",
              "      <th></th>\n",
              "      <th>0</th>\n",
              "      <th>1</th>\n",
              "      <th>2</th>\n",
              "      <th>3</th>\n",
              "      <th>4</th>\n",
              "      <th>5</th>\n",
              "      <th>6</th>\n",
              "      <th>7</th>\n",
              "      <th>8</th>\n",
              "      <th>9</th>\n",
              "      <th>10</th>\n",
              "      <th>11</th>\n",
              "      <th>12</th>\n",
              "      <th>13</th>\n",
              "      <th>14</th>\n",
              "      <th>15</th>\n",
              "    </tr>\n",
              "  </thead>\n",
              "  <tbody>\n",
              "    <tr>\n",
              "      <th>0</th>\n",
              "      <td>b</td>\n",
              "      <td>30.83</td>\n",
              "      <td>0.000</td>\n",
              "      <td>u</td>\n",
              "      <td>g</td>\n",
              "      <td>w</td>\n",
              "      <td>v</td>\n",
              "      <td>1.25</td>\n",
              "      <td>t</td>\n",
              "      <td>t</td>\n",
              "      <td>1</td>\n",
              "      <td>f</td>\n",
              "      <td>g</td>\n",
              "      <td>202</td>\n",
              "      <td>0</td>\n",
              "      <td>+</td>\n",
              "    </tr>\n",
              "    <tr>\n",
              "      <th>1</th>\n",
              "      <td>a</td>\n",
              "      <td>58.67</td>\n",
              "      <td>4.460</td>\n",
              "      <td>u</td>\n",
              "      <td>g</td>\n",
              "      <td>q</td>\n",
              "      <td>h</td>\n",
              "      <td>3.04</td>\n",
              "      <td>t</td>\n",
              "      <td>t</td>\n",
              "      <td>6</td>\n",
              "      <td>f</td>\n",
              "      <td>g</td>\n",
              "      <td>43</td>\n",
              "      <td>560</td>\n",
              "      <td>+</td>\n",
              "    </tr>\n",
              "    <tr>\n",
              "      <th>2</th>\n",
              "      <td>a</td>\n",
              "      <td>24.50</td>\n",
              "      <td>0.500</td>\n",
              "      <td>u</td>\n",
              "      <td>g</td>\n",
              "      <td>q</td>\n",
              "      <td>h</td>\n",
              "      <td>1.50</td>\n",
              "      <td>t</td>\n",
              "      <td>f</td>\n",
              "      <td>0</td>\n",
              "      <td>f</td>\n",
              "      <td>g</td>\n",
              "      <td>280</td>\n",
              "      <td>824</td>\n",
              "      <td>+</td>\n",
              "    </tr>\n",
              "    <tr>\n",
              "      <th>3</th>\n",
              "      <td>b</td>\n",
              "      <td>27.83</td>\n",
              "      <td>1.540</td>\n",
              "      <td>u</td>\n",
              "      <td>g</td>\n",
              "      <td>w</td>\n",
              "      <td>v</td>\n",
              "      <td>3.75</td>\n",
              "      <td>t</td>\n",
              "      <td>t</td>\n",
              "      <td>5</td>\n",
              "      <td>t</td>\n",
              "      <td>g</td>\n",
              "      <td>100</td>\n",
              "      <td>3</td>\n",
              "      <td>+</td>\n",
              "    </tr>\n",
              "    <tr>\n",
              "      <th>4</th>\n",
              "      <td>b</td>\n",
              "      <td>20.17</td>\n",
              "      <td>5.625</td>\n",
              "      <td>u</td>\n",
              "      <td>g</td>\n",
              "      <td>w</td>\n",
              "      <td>v</td>\n",
              "      <td>1.71</td>\n",
              "      <td>t</td>\n",
              "      <td>f</td>\n",
              "      <td>0</td>\n",
              "      <td>f</td>\n",
              "      <td>s</td>\n",
              "      <td>120</td>\n",
              "      <td>0</td>\n",
              "      <td>+</td>\n",
              "    </tr>\n",
              "  </tbody>\n",
              "</table>\n",
              "</div>"
            ],
            "text/plain": [
              "  0      1      2  3  4  5  6     7  8  9   10 11 12   13   14 15\n",
              "0  b  30.83  0.000  u  g  w  v  1.25  t  t   1  f  g  202    0  +\n",
              "1  a  58.67  4.460  u  g  q  h  3.04  t  t   6  f  g   43  560  +\n",
              "2  a  24.50  0.500  u  g  q  h  1.50  t  f   0  f  g  280  824  +\n",
              "3  b  27.83  1.540  u  g  w  v  3.75  t  t   5  t  g  100    3  +\n",
              "4  b  20.17  5.625  u  g  w  v  1.71  t  f   0  f  s  120    0  +"
            ]
          },
          "metadata": {},
          "execution_count": 16
        }
      ]
    },
    {
      "cell_type": "code",
      "metadata": {
        "colab": {
          "base_uri": "https://localhost:8080/",
          "height": 302
        },
        "id": "wjCUsLtZBgrG",
        "outputId": "2a117867-3e4a-4ddf-af83-bb0b1547d905"
      },
      "source": [
        "X_credit_scor = credit_scor.iloc[:,:15].values\n",
        "Y_credit_scor = credit_scor.iloc[:,15:].values\n",
        "X_credit_scor_new1 = ((credit_scor.iloc[:,[1,2,7,10,13,14]]).replace('?',np.nan)).astype(float)\n",
        "X_credit_scor_new2 = X_credit_scor_new1[~np.isnan(X_credit_scor_new1).any(axis=1)]\n",
        "\n",
        "Y_credit_scor_new = Y_credit_scor[~np.isnan(X_credit_scor_new1).any(axis=1)]\n",
        "Y_credit_scor = np.where(Y_credit_scor_new=='+',1, 0)\n",
        "\n",
        "print_hist(Y_credit_scor)\n",
        "print(X_credit_scor.shape)\n",
        "print(X_credit_scor_new2.shape)\n",
        "# On a plus de cas negatif que positif"
      ],
      "execution_count": null,
      "outputs": [
        {
          "output_type": "display_data",
          "data": {
            "image/png": "[encoded data removed]",
            "text/plain": [
              "<Figure size 432x288 with 1 Axes>"
            ]
          },
          "metadata": {
            "needs_background": "light"
          }
        },
        {
          "output_type": "stream",
          "name": "stdout",
          "text": [
            "(688, 15)\n",
            "(666, 6)\n"
          ]
        }
      ]
    },
    {
      "cell_type": "code",
      "metadata": {
        "colab": {
          "base_uri": "https://localhost:8080/"
        },
        "id": "4--1nY_YHPLu",
        "outputId": "f41d95ce-f0bf-4d91-a278-274b06777a9b"
      },
      "source": [
        "run_classifiers(X_credit_scor_new2, Y_credit_scor,clfs)\n",
        "# Le stump a la meilleur precision\n",
        "# Le classifier RF a la meilleur accuracy"
      ],
      "execution_count": null,
      "outputs": [
        {
          "output_type": "stream",
          "name": "stdout",
          "text": [
            "BY\n",
            "Accuracy  is: 0.716 +/- 0.050\n",
            "AUC       is: 0.793 +/- 0.058\n",
            "Precision is: 0.832 +/- 0.052\n",
            "Recall    is: 0.467 +/- 0.061\n",
            "Le temps d execution est : 0.26937413215637207\n",
            "RF\n",
            "Accuracy  is: 0.788 +/- 0.053\n",
            "AUC       is: 0.841 +/- 0.046\n",
            "Precision is: 0.808 +/- 0.058\n",
            "Recall    is: 0.694 +/- 0.075\n",
            "Le temps d execution est : 4.602397441864014\n",
            "KNN\n",
            "Accuracy  is: 0.709 +/- 0.039\n",
            "AUC       is: 0.733 +/- 0.047\n",
            "Precision is: 0.712 +/- 0.064\n",
            "Recall    is: 0.588 +/- 0.051\n",
            "Le temps d execution est : 0.3644547462463379\n",
            "MLP\n",
            "Accuracy  is: 0.694 +/- 0.055\n",
            "AUC       is: 0.724 +/- 0.064\n",
            "Precision is: 0.701 +/- 0.070\n",
            "Recall    is: 0.589 +/- 0.119\n",
            "Le temps d execution est : 6.817264556884766\n",
            "CART\n",
            "Accuracy  is: 0.716 +/- 0.047\n",
            "AUC       is: 0.711 +/- 0.051\n",
            "Precision is: 0.680 +/- 0.045\n",
            "Recall    is: 0.682 +/- 0.102\n",
            "Le temps d execution est : 0.3251461982727051\n",
            "ID3\n",
            "Accuracy  is: 0.739 +/- 0.038\n",
            "AUC       is: 0.734 +/- 0.045\n",
            "Precision is: 0.705 +/- 0.053\n",
            "Recall    is: 0.710 +/- 0.113\n",
            "Le temps d execution est : 0.3935205936431885\n",
            "BAG\n",
            "Accuracy  is: 0.784 +/- 0.055\n",
            "AUC       is: 0.839 +/- 0.049\n",
            "Precision is: 0.797 +/- 0.060\n",
            "Recall    is: 0.694 +/- 0.100\n",
            "Le temps d execution est : 6.291289329528809\n",
            "ADA\n",
            "Accuracy  is: 0.770 +/- 0.063\n",
            "AUC       is: 0.841 +/- 0.053\n",
            "Precision is: 0.761 +/- 0.060\n",
            "Recall    is: 0.721 +/- 0.071\n",
            "Le temps d execution est : 4.609725713729858\n",
            "STUMP\n",
            "Accuracy  is: 0.743 +/- 0.064\n",
            "AUC       is: 0.723 +/- 0.052\n",
            "Precision is: 0.864 +/- 0.077\n",
            "Recall    is: 0.512 +/- 0.081\n",
            "Le temps d execution est : 0.25116872787475586\n"
          ]
        }
      ]
    },
    {
      "cell_type": "code",
      "metadata": {
        "colab": {
          "base_uri": "https://localhost:8080/"
        },
        "id": "z8Gm8G_jIKJ_",
        "outputId": "937f59ee-8857-40cd-9f66-0fcbd54e7570"
      },
      "source": [
        "# Normalisation des données\n",
        "\n",
        "scaler = StandardScaler()\n",
        "scaler.fit(X_credit_scor_new2)\n",
        "x_credit_scor_norm = scaler.transform(X_credit_scor_new2)\n",
        "\n",
        "run_classifiers(x_credit_scor_norm, Y_credit_scor,clfs)\n",
        "# Globalement la normalisation n'a pas changé beaucoup de chose\n",
        "# Mise a part pour le knn ou l'accuracy est passé de 0.70 à 0.74\n",
        "# Et pour le MLP pour qui la normalisation a clairement amélioré son accuracy passe de 0.69 à 0.77\n",
        "# Et leurs precisions on bien augmentés aussi\n",
        "# Pour les autres classifiers (Bayes, Ada, Stump, ect..) la normalisation n'a rien changé"
      ],
      "execution_count": null,
      "outputs": [
        {
          "output_type": "stream",
          "name": "stdout",
          "text": [
            "BY\n",
            "Accuracy  is: 0.716 +/- 0.050\n",
            "AUC       is: 0.793 +/- 0.058\n",
            "Precision is: 0.832 +/- 0.052\n",
            "Recall    is: 0.467 +/- 0.061\n",
            "Le temps d execution est : 0.10885334014892578\n",
            "RF\n",
            "Accuracy  is: 0.790 +/- 0.050\n",
            "AUC       is: 0.841 +/- 0.046\n",
            "Precision is: 0.809 +/- 0.058\n",
            "Recall    is: 0.698 +/- 0.072\n",
            "Le temps d execution est : 4.572417736053467\n",
            "KNN\n",
            "Accuracy  is: 0.745 +/- 0.062\n",
            "AUC       is: 0.808 +/- 0.049\n",
            "Precision is: 0.790 +/- 0.096\n",
            "Recall    is: 0.605 +/- 0.094\n",
            "Le temps d execution est : 0.22188138961791992\n",
            "MLP\n",
            "Accuracy  is: 0.776 +/- 0.034\n",
            "AUC       is: 0.839 +/- 0.044\n",
            "Precision is: 0.791 +/- 0.057\n",
            "Recall    is: 0.683 +/- 0.074\n",
            "Le temps d execution est : 19.045044660568237\n",
            "CART\n",
            "Accuracy  is: 0.716 +/- 0.048\n",
            "AUC       is: 0.711 +/- 0.052\n",
            "Precision is: 0.679 +/- 0.048\n",
            "Recall    is: 0.685 +/- 0.100\n",
            "Le temps d execution est : 0.18248510360717773\n",
            "ID3\n",
            "Accuracy  is: 0.739 +/- 0.038\n",
            "AUC       is: 0.734 +/- 0.045\n",
            "Precision is: 0.705 +/- 0.053\n",
            "Recall    is: 0.710 +/- 0.113\n",
            "Le temps d execution est : 0.2734496593475342\n",
            "BAG\n",
            "Accuracy  is: 0.785 +/- 0.054\n",
            "AUC       is: 0.839 +/- 0.049\n",
            "Precision is: 0.800 +/- 0.060\n",
            "Recall    is: 0.694 +/- 0.100\n",
            "Le temps d execution est : 6.992099761962891\n",
            "ADA\n",
            "Accuracy  is: 0.770 +/- 0.063\n",
            "AUC       is: 0.841 +/- 0.053\n",
            "Precision is: 0.761 +/- 0.060\n",
            "Recall    is: 0.721 +/- 0.071\n",
            "Le temps d execution est : 4.4786481857299805\n",
            "STUMP\n",
            "Accuracy  is: 0.743 +/- 0.064\n",
            "AUC       is: 0.723 +/- 0.052\n",
            "Precision is: 0.864 +/- 0.077\n",
            "Recall    is: 0.512 +/- 0.081\n",
            "Le temps d execution est : 0.11911511421203613\n"
          ]
        }
      ]
    },
    {
      "cell_type": "code",
      "metadata": {
        "colab": {
          "base_uri": "https://localhost:8080/"
        },
        "id": "sp6gkBfVLrnN",
        "outputId": "e47039a0-2c84-4223-fe28-6d785f3472c2"
      },
      "source": [
        "# Partie 2 - Traitement des données manquantes\n",
        "from sklearn.impute import SimpleImputer\n",
        "from sklearn.preprocessing import OneHotEncoder\n",
        "\n",
        "# Pour les variables catégorielles\n",
        "X_scoring = credit_scor.iloc[:,:15].values  \n",
        "col_cat = np.array([0,3,4,5,6,8,9,11,12])\n",
        "X_cat = np.copy(X_scoring[:, col_cat])\n",
        "\n",
        "for col_id in range(len(col_cat)):\n",
        "    unique_val, val_idx = np.unique(X_cat[:, col_id], return_inverse=True)\n",
        "    X_cat[:, col_id] = val_idx\n",
        "imp_cat = SimpleImputer(missing_values=0, strategy='most_frequent')\n",
        "X_cat[:, range(5)] = imp_cat.fit_transform(X_cat[:, range(5)])\n",
        "X_cat_bin = OneHotEncoder().fit_transform(X_cat).toarray()\n",
        "\n",
        "# Pour les variables numériques\n",
        "col_num = np.array([1,2,7,10,13,14])\n",
        "X_num = np.copy(X_scoring[:, col_num])\n",
        "X_num[X_num == '?'] = np.nan\n",
        "X_num = X_num.astype(float)\n",
        "\n",
        "imp_num = SimpleImputer(missing_values=np.nan, strategy='mean')\n",
        "X_num = imp_num.fit_transform(X_num)\n",
        "X_num.shape"
      ],
      "execution_count": null,
      "outputs": [
        {
          "output_type": "execute_result",
          "data": {
            "text/plain": [
              "(688, 6)"
            ]
          },
          "metadata": {},
          "execution_count": 18
        }
      ]
    },
    {
      "cell_type": "code",
      "metadata": {
        "colab": {
          "base_uri": "https://localhost:8080/"
        },
        "id": "ugIdzy5jTMV7",
        "outputId": "5b020051-78fd-42db-feba-d473e327b0ef"
      },
      "source": [
        "# Construction du jeu de donnée\n",
        "# On commence par Normalisé\n",
        "scaler_cat = StandardScaler()\n",
        "scaler_cat.fit(X_num)\n",
        "X_num_norm = scaler_cat.transform(X_num)\n",
        "X_num_cat = np.concatenate((X_cat_bin,X_num_norm), axis=1)\n",
        "\n",
        "Y_scoring = credit_scor.iloc[:,15].values\n",
        "Y_num_cat_bin = np.where(Y_scoring=='+',1, 0)\n",
        "\n",
        "run_classifiers(X_num_cat,Y_num_cat_bin,clfs)\n",
        "# Le random forest donne le meilleur resultat pour l'accuracy et la meilleur precision"
      ],
      "execution_count": null,
      "outputs": [
        {
          "output_type": "stream",
          "name": "stdout",
          "text": [
            "BY\n",
            "Accuracy  is: 0.721 +/- 0.048\n",
            "AUC       is: 0.878 +/- 0.044\n",
            "Precision is: 0.868 +/- 0.094\n",
            "Recall    is: 0.868 +/- 0.162\n",
            "Le temps d execution est : 0.11820864677429199\n",
            "RF\n",
            "Accuracy  is: 0.879 +/- 0.042\n",
            "AUC       is: 0.929 +/- 0.023\n",
            "Precision is: 0.856 +/- 0.052\n",
            "Recall    is: 0.856 +/- 0.070\n",
            "Le temps d execution est : 4.449160814285278\n",
            "KNN\n",
            "Accuracy  is: 0.840 +/- 0.052\n",
            "AUC       is: 0.900 +/- 0.037\n",
            "Precision is: 0.841 +/- 0.043\n",
            "Recall    is: 0.841 +/- 0.099\n",
            "Le temps d execution est : 0.3481149673461914\n",
            "MLP\n",
            "Accuracy  is: 0.858 +/- 0.044\n",
            "AUC       is: 0.922 +/- 0.039\n",
            "Precision is: 0.837 +/- 0.053\n",
            "Recall    is: 0.837 +/- 0.084\n",
            "Le temps d execution est : 24.057372331619263\n",
            "CART\n",
            "Accuracy  is: 0.831 +/- 0.038\n",
            "AUC       is: 0.832 +/- 0.039\n",
            "Precision is: 0.805 +/- 0.064\n",
            "Recall    is: 0.805 +/- 0.084\n",
            "Le temps d execution est : 0.22067856788635254\n",
            "ID3\n",
            "Accuracy  is: 0.814 +/- 0.046\n",
            "AUC       is: 0.811 +/- 0.046\n",
            "Precision is: 0.795 +/- 0.082\n",
            "Recall    is: 0.795 +/- 0.068\n",
            "Le temps d execution est : 0.272963285446167\n",
            "BAG\n",
            "Accuracy  is: 0.868 +/- 0.041\n",
            "AUC       is: 0.927 +/- 0.024\n",
            "Precision is: 0.846 +/- 0.054\n",
            "Recall    is: 0.846 +/- 0.075\n",
            "Le temps d execution est : 7.630049228668213\n",
            "ADA\n",
            "Accuracy  is: 0.844 +/- 0.037\n",
            "AUC       is: 0.916 +/- 0.032\n",
            "Precision is: 0.814 +/- 0.069\n",
            "Recall    is: 0.814 +/- 0.051\n",
            "Le temps d execution est : 4.9774675369262695\n",
            "STUMP\n",
            "Accuracy  is: 0.856 +/- 0.044\n",
            "AUC       is: 0.866 +/- 0.040\n",
            "Precision is: 0.789 +/- 0.074\n",
            "Recall    is: 0.789 +/- 0.052\n",
            "Le temps d execution est : 0.12348675727844238\n"
          ]
        }
      ]
    },
    {
      "cell_type": "code",
      "metadata": {
        "id": "IoSfwiyDW3c4"
      },
      "source": [
        "# Exercice 3 -  Apprentissage supervisé sur des données textuelles\n",
        "from sklearn.feature_extraction.text import CountVectorizer\n",
        "\n",
        "# CountVectorizer\n",
        "spam = pd.read_csv('./SMSSpamCollection.data', sep='\\t', header = None).to_numpy()\n",
        "X_spam = spam[:,1]\n",
        "\n",
        "vectorizer = CountVectorizer(stop_words = 'english')\n",
        "X_train_spam = vectorizer.fit_transform(X_spam).toarray()\n",
        "\n",
        "Y_spam = spam[:,0]\n",
        "Y_spam_bin = np.where(Y_spam=='ham',1, 0)"
      ],
      "execution_count": null,
      "outputs": []
    },
    {
      "cell_type": "code",
      "metadata": {
        "colab": {
          "base_uri": "https://localhost:8080/"
        },
        "id": "ZNlztHPlC_ci",
        "outputId": "be05130c-6dae-4ee3-f64f-fa4371a5dd82"
      },
      "source": [
        "run_classifiers(X_train_spam, Y_spam_bin, clfs)\n",
        "# Pour la partie detection de spam, on regardera le recall plutot que la precision, car on veut que notre classifier trouve le maximum de spam, si il detecte un message \n",
        "# en spam alors qu'il ne l'est pas, ce n'est pas grave. Il vaut mieux faire une fausse détection que de ne pas détecter du tout\n",
        "# Le résau de neuronne MLP donne le meilleur résultat pour l'accuracy et le recall\n",
        "# Je n'ai pas tout éxécuté car c'est vraiment trop long"
      ],
      "execution_count": null,
      "outputs": [
        {
          "metadata": {
            "tags": null
          },
          "name": "stdout",
          "output_type": "stream",
          "text": [
            "BY\n",
            "Accuracy  is: 0.884 +/- 0.020\n",
            "AUC       is: 0.897 +/- 0.017\n",
            "Precision is: 0.986 +/- 0.003\n",
            "Recall    is: 0.879 +/- 0.021\n",
            "Le temps d execution est : 28.354073524475098\n",
            "RF\n",
            "Accuracy  is: 0.979 +/- 0.005\n",
            "AUC       is: 0.989 +/- 0.005\n",
            "Precision is: 0.976 +/- 0.006\n",
            "Recall    is: 1.000 +/- 0.001\n",
            "Le temps d execution est : 608.3523445129395\n",
            "KNN\n",
            "Accuracy  is: 0.914 +/- 0.013\n",
            "AUC       is: 0.835 +/- 0.034\n",
            "Precision is: 0.910 +/- 0.014\n",
            "Recall    is: 1.000 +/- 0.000\n",
            "Le temps d execution est : 79.63258290290833\n",
            "MLP\n",
            "Accuracy  is: 0.985 +/- 0.004\n",
            "AUC       is: 0.981 +/- 0.008\n",
            "Precision is: 0.983 +/- 0.004\n",
            "Recall    is: 1.000 +/- 0.001\n",
            "Le temps d execution est : 1082.698585510254\n",
            "CART\n",
            "Accuracy  is: 0.972 +/- 0.007\n",
            "AUC       is: 0.922 +/- 0.021\n",
            "Precision is: 0.978 +/- 0.008\n",
            "Recall    is: 0.990 +/- 0.003\n",
            "Le temps d execution est : 1116.2558131217957\n",
            "ID3\n",
            "Accuracy  is: 0.968 +/- 0.004\n",
            "AUC       is: 0.912 +/- 0.019\n",
            "Precision is: 0.975 +/- 0.005\n",
            "Recall    is: 0.988 +/- 0.004\n",
            "Le temps d execution est : 840.8973164558411\n"
          ]
        }
      ]
    },
    {
      "cell_type": "code",
      "metadata": {
        "id": "0gzAGFCmC5vz"
      },
      "source": [
        "from sklearn.feature_extraction.text import TfidfTransformer\n",
        "transformer = TfidfTransformer()\n",
        "X_tfidf = transformer.fit_transform(X_train_spam).toarray()"
      ],
      "execution_count": null,
      "outputs": []
    },
    {
      "cell_type": "code",
      "metadata": {
        "id": "2cx06i_Aj3lc",
        "colab": {
          "base_uri": "https://localhost:8080/"
        },
        "outputId": "4212d974-83b2-4336-a28a-9457bf3e2f93"
      },
      "source": [
        "run_classifiers(X_tfidf, Y_spam_bin, clfs)\n",
        "# Le MLP donne de très bon résultat mais est très lent\n",
        "# On peut ici priviligé le Random Forrest qui a de très bon résultat avec un temps un peu plus résonnable \n",
        "# Je n'ai pas tout éxécuté car c'est vraiment trop long"
      ],
      "execution_count": null,
      "outputs": [
        {
          "metadata": {
            "tags": null
          },
          "name": "stdout",
          "output_type": "stream",
          "text": [
            "BY\n",
            "Accuracy  is: 0.881 +/- 0.019\n",
            "AUC       is: 0.885 +/- 0.017\n",
            "Precision is: 0.981 +/- 0.004\n",
            "Recall    is: 0.879 +/- 0.021\n",
            "Le temps d execution est : 28.1969313621521\n",
            "RF\n",
            "Accuracy  is: 0.979 +/- 0.005\n",
            "AUC       is: 0.994 +/- 0.003\n",
            "Precision is: 0.976 +/- 0.006\n",
            "Recall    is: 0.999 +/- 0.001\n",
            "Le temps d execution est : 652.4053943157196\n",
            "KNN\n",
            "Accuracy  is: 0.906 +/- 0.013\n",
            "AUC       is: 0.808 +/- 0.031\n",
            "Precision is: 0.902 +/- 0.014\n",
            "Recall    is: 1.000 +/- 0.000\n",
            "Le temps d execution est : 70.5167350769043\n",
            "MLP\n",
            "Accuracy  is: 0.984 +/- 0.005\n",
            "AUC       is: 0.992 +/- 0.005\n",
            "Precision is: 0.982 +/- 0.006\n",
            "Recall    is: 0.999 +/- 0.001\n",
            "Le temps d execution est : 1173.5575745105743\n",
            "CART\n",
            "Accuracy  is: 0.972 +/- 0.009\n",
            "AUC       is: 0.926 +/- 0.017\n",
            "Precision is: 0.979 +/- 0.007\n",
            "Recall    is: 0.989 +/- 0.007\n",
            "Le temps d execution est : 1013.4163100719452\n",
            "ID3\n",
            "Accuracy  is: 0.968 +/- 0.004\n",
            "AUC       is: 0.918 +/- 0.018\n",
            "Precision is: 0.977 +/- 0.005\n",
            "Recall    is: 0.986 +/- 0.004\n",
            "Le temps d execution est : 763.0203585624695\n"
          ]
        }
      ]
    },
    {
      "cell_type": "code",
      "metadata": {
        "id": "9jKaRAIlDd7k"
      },
      "source": [
        "# Partie 3 - TruncatedSVD\n",
        "from sklearn.decomposition import TruncatedSVD\n",
        "\n",
        "svd = TruncatedSVD(random_state=1)\n",
        "X_svd = svd.fit_transform(X_tfidf)"
      ],
      "execution_count": null,
      "outputs": []
    },
    {
      "cell_type": "code",
      "metadata": {
        "colab": {
          "base_uri": "https://localhost:8080/"
        },
        "id": "hApMXL3gkAkz",
        "outputId": "440f431c-db9f-4fb4-825b-1663016a66fa"
      },
      "source": [
        "run_classifiers(X_svd, Y_spam_bin, clfs)\n",
        "# Le bagging ou le random forest peuvent etre choisi car ils ont une bonne accuracy et un bon recall"
      ],
      "execution_count": null,
      "outputs": [
        {
          "output_type": "stream",
          "name": "stdout",
          "text": [
            "BY\n",
            "Accuracy  is: 0.377 +/- 0.018\n",
            "AUC       is: 0.709 +/- 0.019\n",
            "Precision is: 0.978 +/- 0.009\n",
            "Recall    is: 0.286 +/- 0.021\n",
            "Le temps d execution est : 0.11970067024230957\n",
            "RF\n",
            "Accuracy  is: 0.888 +/- 0.018\n",
            "AUC       is: 0.817 +/- 0.033\n",
            "Precision is: 0.913 +/- 0.014\n",
            "Recall    is: 0.961 +/- 0.011\n",
            "Le temps d execution est : 11.837395191192627\n",
            "KNN\n",
            "Accuracy  is: 0.850 +/- 0.021\n",
            "AUC       is: 0.745 +/- 0.027\n",
            "Precision is: 0.892 +/- 0.015\n",
            "Recall    is: 0.941 +/- 0.014\n",
            "Le temps d execution est : 0.6543827056884766\n",
            "MLP\n",
            "Accuracy  is: 0.866 +/- 0.017\n",
            "AUC       is: 0.651 +/- 0.018\n",
            "Precision is: 0.866 +/- 0.017\n",
            "Recall    is: 1.000 +/- 0.000\n",
            "Le temps d execution est : 55.13430666923523\n",
            "CART\n",
            "Accuracy  is: 0.849 +/- 0.019\n",
            "AUC       is: 0.682 +/- 0.040\n",
            "Precision is: 0.916 +/- 0.015\n",
            "Recall    is: 0.908 +/- 0.012\n",
            "Le temps d execution est : 0.6106688976287842\n",
            "ID3\n",
            "Accuracy  is: 0.852 +/- 0.016\n",
            "AUC       is: 0.691 +/- 0.025\n",
            "Precision is: 0.919 +/- 0.012\n",
            "Recall    is: 0.910 +/- 0.014\n",
            "Le temps d execution est : 1.095174789428711\n",
            "BAG\n",
            "Accuracy  is: 0.882 +/- 0.016\n",
            "AUC       is: 0.809 +/- 0.035\n",
            "Precision is: 0.916 +/- 0.013\n",
            "Recall    is: 0.951 +/- 0.012\n",
            "Le temps d execution est : 20.645416736602783\n",
            "ADA\n",
            "Accuracy  is: 0.866 +/- 0.016\n",
            "AUC       is: 0.747 +/- 0.024\n",
            "Precision is: 0.866 +/- 0.016\n",
            "Recall    is: 1.000 +/- 0.001\n",
            "Le temps d execution est : 8.23151445388794\n",
            "STUMP\n",
            "Accuracy  is: 0.866 +/- 0.017\n",
            "AUC       is: 0.631 +/- 0.020\n",
            "Precision is: 0.866 +/- 0.017\n",
            "Recall    is: 1.000 +/- 0.000\n",
            "Le temps d execution est : 0.1561110019683838\n"
          ]
        }
      ]
    },
    {
      "cell_type": "code",
      "metadata": {
        "id": "UQbNjQL4nX8x"
      },
      "source": [
        "# Partie 4 - Pipeline\n",
        "def pipeline_traitement() :  \n",
        "  pipe = Pipeline([('count',CountVectorizer(stop_words = 'english')),\n",
        "                   ('weight',TfidfTransformer()),\n",
        "                   (\"svd\",TruncatedSVD(random_state=1))])\n",
        "  return pipe"
      ],
      "execution_count": null,
      "outputs": []
    },
    {
      "cell_type": "code",
      "metadata": {
        "id": "X_dFLyQLkfaf"
      },
      "source": [
        "pipe_nlp = pipeline_traitement()\n",
        "pip_nlp_fit = pipe_nlp.fit(X_spam)"
      ],
      "execution_count": null,
      "outputs": []
    },
    {
      "cell_type": "code",
      "metadata": {
        "id": "W7i1qRgSDiqE"
      },
      "source": [
        "# Application sur les données Yelp\n",
        "\n",
        "yelp = pd.read_csv('./yelp-text-by-stars.csv', sep=';', header = 0, encoding='ISO-8859-1').to_numpy()\n",
        "\n",
        "X_yelp = yelp[:,1]\n",
        "Y_yelp = yelp[:,0].astype(int)\n",
        "\n",
        "Y_train_yelp = np.where(Y_yelp >= 4 ,1, 0)\n",
        "\n",
        "pip_yelp = pipeline_traitement()\n",
        "X_pip_yelp_fit = pip_yelp.fit(X_yelp)\n",
        "X = X_pip_yelp_fit.fit_transform(X_yelp)"
      ],
      "execution_count": null,
      "outputs": []
    },
    {
      "cell_type": "code",
      "metadata": {
        "colab": {
          "base_uri": "https://localhost:8080/"
        },
        "id": "nWwQJn1kwJB8",
        "outputId": "b6fdb11a-c107-4dee-9eb3-d564d5dbdcd5"
      },
      "source": [
        "run_classifiers(X, Y_train_yelp, clfs)\n",
        "# Le MLP est le meilleur classifier ici, avec la plus grosse accuracy et la plus grosse precision. On choisit ici la precision car on veut dez avis juste."
      ],
      "execution_count": null,
      "outputs": [
        {
          "output_type": "stream",
          "name": "stdout",
          "text": [
            "BY\n",
            "Accuracy  is: 0.708 +/- 0.005\n",
            "AUC       is: 0.697 +/- 0.005\n",
            "Precision is: 0.716 +/- 0.006\n",
            "Recall    is: 0.924 +/- 0.005\n",
            "Le temps d execution est : 0.4682652950286865\n",
            "RF\n",
            "Accuracy  is: 0.663 +/- 0.004\n",
            "AUC       is: 0.648 +/- 0.007\n",
            "Precision is: 0.718 +/- 0.005\n",
            "Recall    is: 0.804 +/- 0.006\n",
            "Le temps d execution est : 173.0905454158783\n",
            "KNN\n",
            "Accuracy  is: 0.669 +/- 0.005\n",
            "AUC       is: 0.642 +/- 0.006\n",
            "Precision is: 0.721 +/- 0.006\n",
            "Recall    is: 0.813 +/- 0.008\n",
            "Le temps d execution est : 7.458616495132446\n",
            "MLP\n",
            "Accuracy  is: 0.713 +/- 0.006\n",
            "AUC       is: 0.708 +/- 0.006\n",
            "Precision is: 0.724 +/- 0.008\n",
            "Recall    is: 0.911 +/- 0.011\n",
            "Le temps d execution est : 306.8458733558655\n",
            "CART\n",
            "Accuracy  is: 0.611 +/- 0.005\n",
            "AUC       is: 0.569 +/- 0.004\n",
            "Precision is: 0.707 +/- 0.006\n",
            "Recall    is: 0.701 +/- 0.007\n",
            "Le temps d execution est : 9.6423819065094\n",
            "ID3\n",
            "Accuracy  is: 0.613 +/- 0.005\n",
            "AUC       is: 0.570 +/- 0.006\n",
            "Precision is: 0.707 +/- 0.006\n",
            "Recall    is: 0.704 +/- 0.006\n",
            "Le temps d execution est : 21.665942907333374\n",
            "ADA\n",
            "Accuracy  is: 0.708 +/- 0.005\n",
            "AUC       is: 0.702 +/- 0.006\n",
            "Precision is: 0.720 +/- 0.008\n",
            "Recall    is: 0.912 +/- 0.009\n",
            "Le temps d execution est : 49.84636974334717\n",
            "STUMP\n",
            "Accuracy  is: 0.705 +/- 0.005\n",
            "AUC       is: 0.613 +/- 0.005\n",
            "Precision is: 0.721 +/- 0.006\n",
            "Recall    is: 0.901 +/- 0.004\n",
            "Le temps d execution est : 0.7944419384002686\n"
          ]
        }
      ]
    }
  ]
}