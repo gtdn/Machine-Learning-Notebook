{
 "cells": [
  {
   "cell_type": "code",
   "execution_count": 1,
   "id": "de37d78d-8a6f-461d-9133-e57c0b54a8b2",
   "metadata": {},
   "outputs": [],
   "source": [
    "import numpy as np\n",
    "np.set_printoptions(threshold=10000,suppress=True)\n",
    "import pandas as pd\n",
    "import warnings\n",
    "import matplotlib.pyplot as plt\n",
    "warnings.filterwarnings('ignore')\n",
    "from sklearn.metrics import accuracy_score, precision_score, recall_score\n",
    "from sklearn.ensemble import RandomForestClassifier, BaggingClassifier, AdaBoostClassifier\n",
    "from sklearn.tree import DecisionTreeClassifier\n",
    "from sklearn.naive_bayes import GaussianNB\n",
    "from sklearn.neighbors import KNeighborsClassifier\n",
    "from sklearn.ensemble import RandomForestClassifier\n",
    "from sklearn.model_selection import KFold\n",
    "from sklearn.model_selection import cross_val_score\n",
    "from sklearn.neural_network import MLPClassifier"
   ]
  },
  {
   "cell_type": "markdown",
   "id": "cb683c77-f095-4a21-a906-342fe96a60c5",
   "metadata": {},
   "source": [
    "# Apprentissage supervisé : Feature engineering et Classification"
   ]
  },
  {
   "cell_type": "markdown",
   "id": "3addc6bd-8bb4-4105-8247-b7e0d5c5ee4a",
   "metadata": {},
   "source": [
    "# Import Data"
   ]
  },
  {
   "cell_type": "code",
   "execution_count": 2,
   "id": "9100fbb8-d35b-4531-97a2-e0229374a4be",
   "metadata": {},
   "outputs": [
    {
     "data": {
      "text/html": [
       "<div>\n",
       "<style scoped>\n",
       "    .dataframe tbody tr th:only-of-type {\n",
       "        vertical-align: middle;\n",
       "    }\n",
       "\n",
       "    .dataframe tbody tr th {\n",
       "        vertical-align: top;\n",
       "    }\n",
       "\n",
       "    .dataframe thead th {\n",
       "        text-align: right;\n",
       "    }\n",
       "</style>\n",
       "<table border=\"1\" class=\"dataframe\">\n",
       "  <thead>\n",
       "    <tr style=\"text-align: right;\">\n",
       "      <th></th>\n",
       "      <th>Seniority</th>\n",
       "      <th>Home</th>\n",
       "      <th>Time</th>\n",
       "      <th>Age</th>\n",
       "      <th>Marital</th>\n",
       "      <th>Records</th>\n",
       "      <th>Job</th>\n",
       "      <th>Expenses</th>\n",
       "      <th>Income</th>\n",
       "      <th>Assets</th>\n",
       "      <th>Debt</th>\n",
       "      <th>Amount</th>\n",
       "      <th>Price</th>\n",
       "      <th>Status</th>\n",
       "    </tr>\n",
       "  </thead>\n",
       "  <tbody>\n",
       "    <tr>\n",
       "      <th>0</th>\n",
       "      <td>9.0</td>\n",
       "      <td>1.0</td>\n",
       "      <td>60.0</td>\n",
       "      <td>30.0</td>\n",
       "      <td>0.0</td>\n",
       "      <td>1.0</td>\n",
       "      <td>1.0</td>\n",
       "      <td>73.0</td>\n",
       "      <td>129.0</td>\n",
       "      <td>0.0</td>\n",
       "      <td>0.0</td>\n",
       "      <td>800.0</td>\n",
       "      <td>846.0</td>\n",
       "      <td>1</td>\n",
       "    </tr>\n",
       "    <tr>\n",
       "      <th>1</th>\n",
       "      <td>17.0</td>\n",
       "      <td>1.0</td>\n",
       "      <td>60.0</td>\n",
       "      <td>58.0</td>\n",
       "      <td>1.0</td>\n",
       "      <td>1.0</td>\n",
       "      <td>0.0</td>\n",
       "      <td>48.0</td>\n",
       "      <td>131.0</td>\n",
       "      <td>0.0</td>\n",
       "      <td>0.0</td>\n",
       "      <td>1000.0</td>\n",
       "      <td>1658.0</td>\n",
       "      <td>1</td>\n",
       "    </tr>\n",
       "    <tr>\n",
       "      <th>2</th>\n",
       "      <td>10.0</td>\n",
       "      <td>0.0</td>\n",
       "      <td>36.0</td>\n",
       "      <td>46.0</td>\n",
       "      <td>0.0</td>\n",
       "      <td>2.0</td>\n",
       "      <td>1.0</td>\n",
       "      <td>90.0</td>\n",
       "      <td>200.0</td>\n",
       "      <td>3000.0</td>\n",
       "      <td>0.0</td>\n",
       "      <td>2000.0</td>\n",
       "      <td>2985.0</td>\n",
       "      <td>0</td>\n",
       "    </tr>\n",
       "    <tr>\n",
       "      <th>3</th>\n",
       "      <td>0.0</td>\n",
       "      <td>1.0</td>\n",
       "      <td>60.0</td>\n",
       "      <td>24.0</td>\n",
       "      <td>1.0</td>\n",
       "      <td>1.0</td>\n",
       "      <td>0.0</td>\n",
       "      <td>63.0</td>\n",
       "      <td>182.0</td>\n",
       "      <td>2500.0</td>\n",
       "      <td>0.0</td>\n",
       "      <td>900.0</td>\n",
       "      <td>1325.0</td>\n",
       "      <td>1</td>\n",
       "    </tr>\n",
       "    <tr>\n",
       "      <th>4</th>\n",
       "      <td>0.0</td>\n",
       "      <td>1.0</td>\n",
       "      <td>36.0</td>\n",
       "      <td>26.0</td>\n",
       "      <td>1.0</td>\n",
       "      <td>1.0</td>\n",
       "      <td>0.0</td>\n",
       "      <td>46.0</td>\n",
       "      <td>107.0</td>\n",
       "      <td>0.0</td>\n",
       "      <td>0.0</td>\n",
       "      <td>310.0</td>\n",
       "      <td>910.0</td>\n",
       "      <td>1</td>\n",
       "    </tr>\n",
       "  </tbody>\n",
       "</table>\n",
       "</div>"
      ],
      "text/plain": [
       "   Seniority  Home  Time   Age  Marital  Records  Job  Expenses  Income  \\\n",
       "0        9.0   1.0  60.0  30.0      0.0      1.0  1.0      73.0   129.0   \n",
       "1       17.0   1.0  60.0  58.0      1.0      1.0  0.0      48.0   131.0   \n",
       "2       10.0   0.0  36.0  46.0      0.0      2.0  1.0      90.0   200.0   \n",
       "3        0.0   1.0  60.0  24.0      1.0      1.0  0.0      63.0   182.0   \n",
       "4        0.0   1.0  36.0  26.0      1.0      1.0  0.0      46.0   107.0   \n",
       "\n",
       "   Assets  Debt  Amount   Price  Status  \n",
       "0     0.0   0.0   800.0   846.0       1  \n",
       "1     0.0   0.0  1000.0  1658.0       1  \n",
       "2  3000.0   0.0  2000.0  2985.0       0  \n",
       "3  2500.0   0.0   900.0  1325.0       1  \n",
       "4     0.0   0.0   310.0   910.0       1  "
      ]
     },
     "execution_count": 2,
     "metadata": {},
     "output_type": "execute_result"
    }
   ],
   "source": [
    "df = pd.read_csv('credit_scoring.csv', sep=';')\n",
    "df.head()"
   ]
  },
  {
   "cell_type": "code",
   "execution_count": 3,
   "id": "3b4eb27c-c6bb-4b50-848a-c31d471806de",
   "metadata": {},
   "outputs": [
    {
     "data": {
      "text/plain": [
       "(4375, 14)"
      ]
     },
     "execution_count": 3,
     "metadata": {},
     "output_type": "execute_result"
    }
   ],
   "source": [
    "df.shape"
   ]
  },
  {
   "cell_type": "code",
   "execution_count": 4,
   "id": "4a30e135-ecb3-41ae-a24f-d15252c2c193",
   "metadata": {},
   "outputs": [],
   "source": [
    "df_Y = df.iloc[:, -1]\n",
    "df_X = df.iloc[:, :-1]"
   ]
  },
  {
   "cell_type": "code",
   "execution_count": 5,
   "id": "c993b1b3-22c2-4274-8736-59dbd9ac354b",
   "metadata": {},
   "outputs": [
    {
     "data": {
      "text/plain": [
       "(4375,)"
      ]
     },
     "execution_count": 5,
     "metadata": {},
     "output_type": "execute_result"
    }
   ],
   "source": [
    "df_Y.shape"
   ]
  },
  {
   "cell_type": "code",
   "execution_count": 6,
   "id": "b83f79f7-3069-472a-a6a5-432430a00636",
   "metadata": {},
   "outputs": [
    {
     "data": {
      "text/html": [
       "<div>\n",
       "<style scoped>\n",
       "    .dataframe tbody tr th:only-of-type {\n",
       "        vertical-align: middle;\n",
       "    }\n",
       "\n",
       "    .dataframe tbody tr th {\n",
       "        vertical-align: top;\n",
       "    }\n",
       "\n",
       "    .dataframe thead th {\n",
       "        text-align: right;\n",
       "    }\n",
       "</style>\n",
       "<table border=\"1\" class=\"dataframe\">\n",
       "  <thead>\n",
       "    <tr style=\"text-align: right;\">\n",
       "      <th></th>\n",
       "      <th>Seniority</th>\n",
       "      <th>Home</th>\n",
       "      <th>Time</th>\n",
       "      <th>Age</th>\n",
       "      <th>Marital</th>\n",
       "      <th>Records</th>\n",
       "      <th>Job</th>\n",
       "      <th>Expenses</th>\n",
       "      <th>Income</th>\n",
       "      <th>Assets</th>\n",
       "      <th>Debt</th>\n",
       "      <th>Amount</th>\n",
       "      <th>Price</th>\n",
       "    </tr>\n",
       "  </thead>\n",
       "  <tbody>\n",
       "    <tr>\n",
       "      <th>0</th>\n",
       "      <td>9.0</td>\n",
       "      <td>1.0</td>\n",
       "      <td>60.0</td>\n",
       "      <td>30.0</td>\n",
       "      <td>0.0</td>\n",
       "      <td>1.0</td>\n",
       "      <td>1.0</td>\n",
       "      <td>73.0</td>\n",
       "      <td>129.0</td>\n",
       "      <td>0.0</td>\n",
       "      <td>0.0</td>\n",
       "      <td>800.0</td>\n",
       "      <td>846.0</td>\n",
       "    </tr>\n",
       "    <tr>\n",
       "      <th>1</th>\n",
       "      <td>17.0</td>\n",
       "      <td>1.0</td>\n",
       "      <td>60.0</td>\n",
       "      <td>58.0</td>\n",
       "      <td>1.0</td>\n",
       "      <td>1.0</td>\n",
       "      <td>0.0</td>\n",
       "      <td>48.0</td>\n",
       "      <td>131.0</td>\n",
       "      <td>0.0</td>\n",
       "      <td>0.0</td>\n",
       "      <td>1000.0</td>\n",
       "      <td>1658.0</td>\n",
       "    </tr>\n",
       "    <tr>\n",
       "      <th>2</th>\n",
       "      <td>10.0</td>\n",
       "      <td>0.0</td>\n",
       "      <td>36.0</td>\n",
       "      <td>46.0</td>\n",
       "      <td>0.0</td>\n",
       "      <td>2.0</td>\n",
       "      <td>1.0</td>\n",
       "      <td>90.0</td>\n",
       "      <td>200.0</td>\n",
       "      <td>3000.0</td>\n",
       "      <td>0.0</td>\n",
       "      <td>2000.0</td>\n",
       "      <td>2985.0</td>\n",
       "    </tr>\n",
       "    <tr>\n",
       "      <th>3</th>\n",
       "      <td>0.0</td>\n",
       "      <td>1.0</td>\n",
       "      <td>60.0</td>\n",
       "      <td>24.0</td>\n",
       "      <td>1.0</td>\n",
       "      <td>1.0</td>\n",
       "      <td>0.0</td>\n",
       "      <td>63.0</td>\n",
       "      <td>182.0</td>\n",
       "      <td>2500.0</td>\n",
       "      <td>0.0</td>\n",
       "      <td>900.0</td>\n",
       "      <td>1325.0</td>\n",
       "    </tr>\n",
       "    <tr>\n",
       "      <th>4</th>\n",
       "      <td>0.0</td>\n",
       "      <td>1.0</td>\n",
       "      <td>36.0</td>\n",
       "      <td>26.0</td>\n",
       "      <td>1.0</td>\n",
       "      <td>1.0</td>\n",
       "      <td>0.0</td>\n",
       "      <td>46.0</td>\n",
       "      <td>107.0</td>\n",
       "      <td>0.0</td>\n",
       "      <td>0.0</td>\n",
       "      <td>310.0</td>\n",
       "      <td>910.0</td>\n",
       "    </tr>\n",
       "    <tr>\n",
       "      <th>...</th>\n",
       "      <td>...</td>\n",
       "      <td>...</td>\n",
       "      <td>...</td>\n",
       "      <td>...</td>\n",
       "      <td>...</td>\n",
       "      <td>...</td>\n",
       "      <td>...</td>\n",
       "      <td>...</td>\n",
       "      <td>...</td>\n",
       "      <td>...</td>\n",
       "      <td>...</td>\n",
       "      <td>...</td>\n",
       "      <td>...</td>\n",
       "    </tr>\n",
       "    <tr>\n",
       "      <th>4370</th>\n",
       "      <td>1.0</td>\n",
       "      <td>1.0</td>\n",
       "      <td>60.0</td>\n",
       "      <td>39.0</td>\n",
       "      <td>0.0</td>\n",
       "      <td>1.0</td>\n",
       "      <td>0.0</td>\n",
       "      <td>69.0</td>\n",
       "      <td>92.0</td>\n",
       "      <td>0.0</td>\n",
       "      <td>0.0</td>\n",
       "      <td>900.0</td>\n",
       "      <td>1020.0</td>\n",
       "    </tr>\n",
       "    <tr>\n",
       "      <th>4371</th>\n",
       "      <td>22.0</td>\n",
       "      <td>0.0</td>\n",
       "      <td>60.0</td>\n",
       "      <td>46.0</td>\n",
       "      <td>0.0</td>\n",
       "      <td>1.0</td>\n",
       "      <td>0.0</td>\n",
       "      <td>60.0</td>\n",
       "      <td>75.0</td>\n",
       "      <td>3000.0</td>\n",
       "      <td>600.0</td>\n",
       "      <td>950.0</td>\n",
       "      <td>1263.0</td>\n",
       "    </tr>\n",
       "    <tr>\n",
       "      <th>4372</th>\n",
       "      <td>0.0</td>\n",
       "      <td>0.0</td>\n",
       "      <td>24.0</td>\n",
       "      <td>37.0</td>\n",
       "      <td>0.0</td>\n",
       "      <td>1.0</td>\n",
       "      <td>1.0</td>\n",
       "      <td>60.0</td>\n",
       "      <td>90.0</td>\n",
       "      <td>3500.0</td>\n",
       "      <td>0.0</td>\n",
       "      <td>500.0</td>\n",
       "      <td>963.0</td>\n",
       "    </tr>\n",
       "    <tr>\n",
       "      <th>4373</th>\n",
       "      <td>0.0</td>\n",
       "      <td>1.0</td>\n",
       "      <td>48.0</td>\n",
       "      <td>23.0</td>\n",
       "      <td>1.0</td>\n",
       "      <td>1.0</td>\n",
       "      <td>1.0</td>\n",
       "      <td>49.0</td>\n",
       "      <td>140.0</td>\n",
       "      <td>0.0</td>\n",
       "      <td>0.0</td>\n",
       "      <td>550.0</td>\n",
       "      <td>550.0</td>\n",
       "    </tr>\n",
       "    <tr>\n",
       "      <th>4374</th>\n",
       "      <td>5.0</td>\n",
       "      <td>0.0</td>\n",
       "      <td>60.0</td>\n",
       "      <td>32.0</td>\n",
       "      <td>0.0</td>\n",
       "      <td>1.0</td>\n",
       "      <td>1.0</td>\n",
       "      <td>60.0</td>\n",
       "      <td>140.0</td>\n",
       "      <td>4000.0</td>\n",
       "      <td>1000.0</td>\n",
       "      <td>1350.0</td>\n",
       "      <td>1650.0</td>\n",
       "    </tr>\n",
       "  </tbody>\n",
       "</table>\n",
       "<p>4375 rows × 13 columns</p>\n",
       "</div>"
      ],
      "text/plain": [
       "      Seniority  Home  Time   Age  Marital  Records  Job  Expenses  Income  \\\n",
       "0           9.0   1.0  60.0  30.0      0.0      1.0  1.0      73.0   129.0   \n",
       "1          17.0   1.0  60.0  58.0      1.0      1.0  0.0      48.0   131.0   \n",
       "2          10.0   0.0  36.0  46.0      0.0      2.0  1.0      90.0   200.0   \n",
       "3           0.0   1.0  60.0  24.0      1.0      1.0  0.0      63.0   182.0   \n",
       "4           0.0   1.0  36.0  26.0      1.0      1.0  0.0      46.0   107.0   \n",
       "...         ...   ...   ...   ...      ...      ...  ...       ...     ...   \n",
       "4370        1.0   1.0  60.0  39.0      0.0      1.0  0.0      69.0    92.0   \n",
       "4371       22.0   0.0  60.0  46.0      0.0      1.0  0.0      60.0    75.0   \n",
       "4372        0.0   0.0  24.0  37.0      0.0      1.0  1.0      60.0    90.0   \n",
       "4373        0.0   1.0  48.0  23.0      1.0      1.0  1.0      49.0   140.0   \n",
       "4374        5.0   0.0  60.0  32.0      0.0      1.0  1.0      60.0   140.0   \n",
       "\n",
       "      Assets    Debt  Amount   Price  \n",
       "0        0.0     0.0   800.0   846.0  \n",
       "1        0.0     0.0  1000.0  1658.0  \n",
       "2     3000.0     0.0  2000.0  2985.0  \n",
       "3     2500.0     0.0   900.0  1325.0  \n",
       "4        0.0     0.0   310.0   910.0  \n",
       "...      ...     ...     ...     ...  \n",
       "4370     0.0     0.0   900.0  1020.0  \n",
       "4371  3000.0   600.0   950.0  1263.0  \n",
       "4372  3500.0     0.0   500.0   963.0  \n",
       "4373     0.0     0.0   550.0   550.0  \n",
       "4374  4000.0  1000.0  1350.0  1650.0  \n",
       "\n",
       "[4375 rows x 13 columns]"
      ]
     },
     "execution_count": 6,
     "metadata": {},
     "output_type": "execute_result"
    }
   ],
   "source": [
    "df_X"
   ]
  },
  {
   "cell_type": "code",
   "execution_count": 7,
   "id": "1f56d66b-e2a5-4150-8e6a-f48d531e901d",
   "metadata": {},
   "outputs": [
    {
     "data": {
      "image/png": "[encoded data removed]",
      "text/plain": [
       "<Figure size 640x480 with 1 Axes>"
      ]
     },
     "metadata": {},
     "output_type": "display_data"
    }
   ],
   "source": [
    "plt.hist(df_Y, bins=[-0.5, 0.5, 1.5], edgecolor='black', alpha=0.7)\n",
    "\n",
    "# Ajouter des titres et des étiquettes\n",
    "plt.title('Histogramme des données binaires')\n",
    "plt.xlabel('Valeurs')\n",
    "plt.ylabel('Fréquence')\n",
    "\n",
    "# Afficher l'histogramme\n",
    "plt.show()"
   ]
  },
  {
   "cell_type": "code",
   "execution_count": 8,
   "id": "78c48256-1cbc-4933-a79a-69a4a7000cf9",
   "metadata": {},
   "outputs": [],
   "source": [
    "from sklearn.model_selection import train_test_split\n",
    "x_train, x_test, y_train, y_test = train_test_split(df_X, df_Y, test_size=0.5, random_state=1)"
   ]
  },
  {
   "cell_type": "markdown",
   "id": "291c5ed5-8e62-480c-af9e-42760243f77e",
   "metadata": {},
   "source": [
    "## 1 Training"
   ]
  },
  {
   "cell_type": "markdown",
   "id": "7714a504-4c2a-4072-ab81-17a93bd9598e",
   "metadata": {},
   "source": [
    "### Decison Tree Classifier"
   ]
  },
  {
   "cell_type": "code",
   "execution_count": 9,
   "id": "deca6db8-c967-4e38-ad1b-a7f5fb9d5f3a",
   "metadata": {},
   "outputs": [],
   "source": [
    "from sklearn import tree\n",
    "from sklearn.neighbors import KNeighborsClassifier\n",
    "\n",
    "def decision_classifier(x_train, y_train):\n",
    "    print('Decision Tree classifier')\n",
    "    clf = tree.DecisionTreeClassifier()\n",
    "    clf = clf.fit(x_train, y_train)\n",
    "\n",
    "    return clf    "
   ]
  },
  {
   "cell_type": "markdown",
   "id": "d1734011-541e-44dc-acaf-489dc0a23f4b",
   "metadata": {},
   "source": [
    "### KNN classifier"
   ]
  },
  {
   "cell_type": "code",
   "execution_count": 10,
   "id": "4c5d2ab1-505f-4ec3-a1ce-0dc6d0c9c420",
   "metadata": {},
   "outputs": [],
   "source": [
    "def knn_classifier(x_train, y_train):\n",
    "    print('KNN classifier')\n",
    "    neigh = KNeighborsClassifier(n_neighbors=3)\n",
    "    neigh = neigh.fit(x_train, y_train)\n",
    "\n",
    "    return neigh"
   ]
  },
  {
   "cell_type": "markdown",
   "id": "8254e7a8-a6e8-41b4-b578-602b89e41380",
   "metadata": {},
   "source": [
    "### MLP classifier"
   ]
  },
  {
   "cell_type": "code",
   "execution_count": 11,
   "id": "9d4c5eea-a455-48ec-9b1a-c73d0a7b13dd",
   "metadata": {},
   "outputs": [],
   "source": [
    "def mlp_classifier(x_train, y_train):\n",
    "    print('MLP classifier')\n",
    "    mlp = MLPClassifier(random_state=1, hidden_layer_sizes=(40,20))\n",
    "    mlp = mlp.fit(x_train, y_train)\n",
    "\n",
    "    return mlp "
   ]
  },
  {
   "cell_type": "code",
   "execution_count": 12,
   "id": "99af1226-2640-46ce-b675-45babfcdff71",
   "metadata": {},
   "outputs": [],
   "source": [
    "def build_and_train_model(classification_fn, x_train, x_test):\n",
    "    model = classification_fn(x_train, y_train)\n",
    "    y_pred = model.predict(x_test)\n",
    "    \n",
    "    score = model.score(x_train, y_train)\n",
    "    print(\"Training Score : \", score)    \n",
    "    \n",
    "    acc = accuracy_score(y_test, y_pred)\n",
    "    pre = precision_score(y_test, y_pred)\n",
    "    recall = recall_score(y_test, y_pred)\n",
    "    \n",
    "    print('Accuracy : ', acc)\n",
    "    print('Precision score : ', pre)\n",
    "    print('Recall score : ', recall)"
   ]
  },
  {
   "cell_type": "code",
   "execution_count": 13,
   "id": "175d75de-1079-42e1-b1bd-49c889a457e4",
   "metadata": {},
   "outputs": [
    {
     "name": "stdout",
     "output_type": "stream",
     "text": [
      "KNN classifier\n",
      "Training Score :  0.8267032464563329\n",
      "Accuracy :  0.7070383912248629\n",
      "Precision score :  0.7668364459535937\n",
      "Recall score :  0.8554292929292929\n"
     ]
    }
   ],
   "source": [
    "build_and_train_model(knn_classifier, x_train, x_test)"
   ]
  },
  {
   "cell_type": "code",
   "execution_count": 14,
   "id": "ea482053-0eb9-4a59-98c1-bc2d4f64e31a",
   "metadata": {},
   "outputs": [
    {
     "name": "stdout",
     "output_type": "stream",
     "text": [
      "Decision Tree classifier\n",
      "Training Score :  1.0\n",
      "Accuracy :  0.7239488117001828\n",
      "Precision score :  0.8141025641025641\n",
      "Recall score :  0.8017676767676768\n"
     ]
    }
   ],
   "source": [
    "build_and_train_model(decision_classifier, x_train, x_test)"
   ]
  },
  {
   "cell_type": "code",
   "execution_count": 15,
   "id": "b730f661-099e-41a4-889c-aa9f1ddbdce1",
   "metadata": {},
   "outputs": [
    {
     "name": "stdout",
     "output_type": "stream",
     "text": [
      "MLP classifier\n",
      "Training Score :  0.6735253772290809\n",
      "Accuracy :  0.6704753199268738\n",
      "Precision score :  0.8394964594807238\n",
      "Recall score :  0.6736111111111112\n"
     ]
    }
   ],
   "source": [
    "build_and_train_model(mlp_classifier, x_train, x_test)"
   ]
  },
  {
   "cell_type": "markdown",
   "id": "691954d1-736e-4175-b1dc-383ab38b3228",
   "metadata": {},
   "source": [
    "## 2. Normalisation"
   ]
  },
  {
   "cell_type": "code",
   "execution_count": 16,
   "id": "dbae07fd-2287-41a0-97e2-0f79516b3458",
   "metadata": {},
   "outputs": [],
   "source": [
    "from sklearn.preprocessing import StandardScaler\n",
    "scaler = StandardScaler()\n",
    "\n",
    "scaler.fit(x_train)\n",
    "x_train_norm = scaler.transform(x_train)\n",
    "x_test_norm = scaler.transform(x_test)"
   ]
  },
  {
   "cell_type": "code",
   "execution_count": 17,
   "id": "3418e36c-5eb7-4118-b150-74cbb834fe4a",
   "metadata": {},
   "outputs": [
    {
     "name": "stdout",
     "output_type": "stream",
     "text": [
      "KNN classifier\n",
      "Training Score :  0.8577960676726109\n",
      "Accuracy :  0.7458866544789763\n",
      "Precision score :  0.8134146341463414\n",
      "Recall score :  0.8421717171717171\n"
     ]
    }
   ],
   "source": [
    "build_and_train_model(knn_classifier, x_train_norm, x_test_norm)"
   ]
  },
  {
   "cell_type": "code",
   "execution_count": 18,
   "id": "cd7f91b2-6338-41d5-91ee-d28ab739e01c",
   "metadata": {},
   "outputs": [
    {
     "name": "stdout",
     "output_type": "stream",
     "text": [
      "Decision Tree classifier\n",
      "Training Score :  1.0\n",
      "Accuracy :  0.7212065813528337\n",
      "Precision score :  0.8145994832041343\n",
      "Recall score :  0.7960858585858586\n"
     ]
    }
   ],
   "source": [
    "build_and_train_model(decision_classifier, x_train_norm, x_test_norm)"
   ]
  },
  {
   "cell_type": "code",
   "execution_count": 19,
   "id": "af3f65ab-96a7-4905-af2b-211c24e46e3d",
   "metadata": {},
   "outputs": [
    {
     "name": "stdout",
     "output_type": "stream",
     "text": [
      "MLP classifier\n",
      "Training Score :  0.8673982624599909\n",
      "Accuracy :  0.776508226691042\n",
      "Precision score :  0.8381717109326745\n",
      "Recall score :  0.8566919191919192\n"
     ]
    }
   ],
   "source": [
    "build_and_train_model(mlp_classifier, x_train_norm, x_test_norm)"
   ]
  },
  {
   "cell_type": "markdown",
   "id": "d288a852-591b-4566-99c4-0bd00fe6d9eb",
   "metadata": {},
   "source": [
    "## 3. Réduction de dimension "
   ]
  },
  {
   "cell_type": "code",
   "execution_count": 20,
   "id": "600ae099-0899-493a-8d1f-3c7243fe21ba",
   "metadata": {},
   "outputs": [],
   "source": [
    "from sklearn.decomposition import PCA\n",
    "\n",
    "pca = PCA(n_components=3)\n",
    "pca.fit(x_train_norm)\n",
    "# Apply transform to both the train set and the test set. \n",
    "x_train_pca = np.concatenate((x_train_norm, pca.transform(x_train_norm)),axis=1)\n",
    "x_test_pca  = np.concatenate((x_test_norm, pca.transform(x_test_norm)),axis=1)"
   ]
  },
  {
   "cell_type": "code",
   "execution_count": 21,
   "id": "a9b7c1bf-2a26-4fb9-bba3-13cce7f9cb7e",
   "metadata": {},
   "outputs": [
    {
     "name": "stdout",
     "output_type": "stream",
     "text": [
      "KNN classifier\n",
      "Training Score :  0.8651120256058528\n",
      "Accuracy :  0.7362888482632541\n",
      "Precision score :  0.8098461538461539\n",
      "Recall score :  0.8308080808080808\n"
     ]
    },
    {
     "name": "stderr",
     "output_type": "stream",
     "text": [
      "  File \"C:\\Users\\bjauseau\\AppData\\Local\\anaconda3\\envs\\MLTP\\Lib\\site-packages\\joblib\\externals\\loky\\backend\\context.py\", line 282, in _count_physical_cores\n",
      "    raise ValueError(f\"found {cpu_count_physical} physical cores < 1\")\n"
     ]
    }
   ],
   "source": [
    "build_and_train_model(knn_classifier, x_train_pca, x_test_pca)"
   ]
  },
  {
   "cell_type": "code",
   "execution_count": 22,
   "id": "78faa0a2-8452-47d9-8c30-61f74fccb935",
   "metadata": {},
   "outputs": [
    {
     "name": "stdout",
     "output_type": "stream",
     "text": [
      "Decision Tree classifier\n",
      "Training Score :  1.0\n",
      "Accuracy :  0.7189213893967094\n",
      "Precision score :  0.8232154769846565\n",
      "Recall score :  0.7790404040404041\n"
     ]
    }
   ],
   "source": [
    "build_and_train_model(decision_classifier, x_train_pca, x_test_pca)"
   ]
  },
  {
   "cell_type": "code",
   "execution_count": 23,
   "id": "68250419-a7c9-40e2-bd4f-aab30ffc2b61",
   "metadata": {},
   "outputs": [
    {
     "name": "stdout",
     "output_type": "stream",
     "text": [
      "MLP classifier\n",
      "Training Score :  0.8692272519433013\n",
      "Accuracy :  0.770109689213894\n",
      "Precision score :  0.8269812462189957\n",
      "Recall score :  0.8630050505050505\n"
     ]
    }
   ],
   "source": [
    "build_and_train_model(mlp_classifier, x_train_pca, x_test_pca)"
   ]
  },
  {
   "cell_type": "markdown",
   "id": "cc62a9dc-1f73-4eb7-b019-3064ee8e991b",
   "metadata": {},
   "source": [
    "## 4. Selection de varibale"
   ]
  },
  {
   "cell_type": "code",
   "execution_count": 24,
   "id": "d22cd8c3-4f99-4fd2-8ea5-0c5ee042428a",
   "metadata": {},
   "outputs": [
    {
     "name": "stdout",
     "output_type": "stream",
     "text": [
      "Index(['Income', 'Seniority', 'Price', 'Amount', 'Age', 'Assets', 'Expenses',\n",
      "       'Records', 'Time', 'Job', 'Debt', 'Home', 'Marital'],\n",
      "      dtype='object')\n"
     ]
    },
    {
     "data": {
      "image/png": "[encoded data removed]",
      "text/plain": [
       "<Figure size 640x480 with 1 Axes>"
      ]
     },
     "metadata": {},
     "output_type": "display_data"
    }
   ],
   "source": [
    "from sklearn.ensemble import RandomForestClassifier\n",
    "clf = RandomForestClassifier(n_estimators=100)\n",
    "clf.fit(x_train_norm, y_train)\n",
    "\n",
    "importances=clf.feature_importances_\n",
    "std = np.std([tree.feature_importances_ for tree in clf.estimators_],axis=0)\n",
    "sorted_idx = np.argsort(importances)[::-1]\n",
    "features = df.columns\n",
    "print(features[sorted_idx])\n",
    "padding = np.arange(x_train_norm.size/len(x_train_norm)) + 0.5\n",
    "\n",
    "plt.barh(padding, importances[sorted_idx],xerr=std[sorted_idx], align='center')\n",
    "plt.yticks(padding, features[sorted_idx])\n",
    "plt.xlabel(\"Relative Importance\")\n",
    "plt.title(\"Variable Importance\")\n",
    "plt.show()"
   ]
  },
  {
   "cell_type": "code",
   "execution_count": 25,
   "id": "42b0ccc2-cc98-4688-9e16-3098eec7d9a5",
   "metadata": {},
   "outputs": [
    {
     "data": {
      "image/png": "[encoded data removed]",
      "text/plain": [
       "<Figure size 640x480 with 1 Axes>"
      ]
     },
     "metadata": {},
     "output_type": "display_data"
    }
   ],
   "source": [
    "KNN=KNeighborsClassifier(n_neighbors=5)\n",
    "scores=np.zeros(x_train_pca.shape[1]+1)\n",
    "\n",
    "for f in np.arange(0, x_train_pca.shape[1]+1):\n",
    "     X1_f = x_train_pca[:,sorted_idx[:f+1]]\n",
    "     X2_f = x_test_pca[:,sorted_idx[:f+1]]\n",
    "     KNN.fit(X1_f,y_train)\n",
    "     YKNN=KNN.predict(X2_f)\n",
    "     scores[f]=np.round(accuracy_score(y_test,YKNN),3)\n",
    "    \n",
    "plt.plot(scores)\n",
    "plt.xlabel(\"Nombre de Variables\")\n",
    "plt.ylabel(\"Accuracy\")\n",
    "plt.title(\"Evolution de l'accuracy en fonction des variables\")\n",
    "plt.show()"
   ]
  },
  {
   "cell_type": "code",
   "execution_count": 26,
   "id": "0d14fe8b-9b20-4fca-8548-e9b699895f86",
   "metadata": {},
   "outputs": [
    {
     "name": "stdout",
     "output_type": "stream",
     "text": [
      "Le nombre de variables optimales est : 11\n",
      "\n",
      "Son accuracy est : 0.759\n",
      "\n",
      "Les variables retenues sont : Index(['Seniority', 'Home', 'Time', 'Age', 'Marital', 'Records', 'Job',\n",
      "       'Expenses', 'Income', 'Assets', 'Debt'],\n",
      "      dtype='object')\n"
     ]
    }
   ],
   "source": [
    "max_var = np.argmax(scores)\n",
    "Xtrain_opt = x_train_pca[:,sorted_idx[:max_var]]\n",
    "Xtest_opt = x_test_pca[:,sorted_idx[:max_var]]\n",
    "\n",
    "print(\"Le nombre de variables optimales est : \" + str(max_var) + '\\n')\n",
    "print(\"Son accuracy est : \" + str(np.amax(scores))  + '\\n')\n",
    "print(\"Les variables retenues sont : \" + str(features[:max_var]))"
   ]
  },
  {
   "cell_type": "markdown",
   "id": "8cbd2719-b1b6-4824-ad90-c09e4ac3ed39",
   "metadata": {},
   "source": [
    "## 5. Parametrage des classifieurs "
   ]
  },
  {
   "cell_type": "code",
   "execution_count": 27,
   "id": "d39a1db0-cede-48fc-bb7b-9a80898bb526",
   "metadata": {},
   "outputs": [
    {
     "name": "stdout",
     "output_type": "stream",
     "text": [
      "0.7773134766034099\n",
      "{'algorithm': 'auto', 'metric': 'manhattan', 'n_neighbors': 26, 'weights': 'distance'}\n",
      "KNeighborsClassifier(metric='manhattan', n_neighbors=26, weights='distance')\n"
     ]
    }
   ],
   "source": [
    "from sklearn.model_selection import GridSearchCV\n",
    "# Tunning - KNN\n",
    "k_range        = list(range(1,31))\n",
    "weight_options = [\"uniform\", \"distance\"]\n",
    "algo           = ['auto', 'ball_tree', 'kd_tree', 'brute']\n",
    "metric         = ['euclidean','manhattan']\n",
    "param_grid = dict(n_neighbors = k_range, \n",
    "                  weights = weight_options, \n",
    "                  algorithm = algo,\n",
    "                  metric = metric)\n",
    "\n",
    "grid_knn = GridSearchCV(KNeighborsClassifier(), param_grid, cv = 10, scoring = 'accuracy')\n",
    "grid_knn.fit(x_train_norm,  y_train)\n",
    "\n",
    "print (grid_knn.best_score_)\n",
    "print (grid_knn.best_params_)\n",
    "print (grid_knn.best_estimator_)\n",
    "\n",
    "# Le meilleur résultat s'obtient avec \n",
    "# 'algorithm': 'auto'\n",
    "# 'metric': 'manhattan'\n",
    "# 'n_neighbors': 26\n",
    "# 'weights': 'distance'\n",
    "# Resultat : 0.7773134766034099"
   ]
  },
  {
   "cell_type": "markdown",
   "id": "8b4e6775-7216-4e6c-9267-b0be235c2768",
   "metadata": {},
   "source": [
    "## 6. Création d'une pipeline"
   ]
  },
  {
   "cell_type": "code",
   "execution_count": 28,
   "id": "f9cb2723-2563-4aa4-b63e-14e876f3188f",
   "metadata": {},
   "outputs": [],
   "source": [
    "from sklearn.pipeline import Pipeline\n",
    "import pickle\n",
    "\n",
    "def lauch_pipeline(classifier, pickle_name): \n",
    "    pipeline = Pipeline([\n",
    "        ('scaler', StandardScaler()), \n",
    "        (\"pca\", PCA()), \n",
    "        (\"knn\",classifier)])\n",
    "    \n",
    "    with open(pickle_name, \"wb\") as f:\n",
    "        pickle.dump(pipeline, f)\n",
    "        \n",
    "    return pipeline \n",
    "\n",
    "def get_pickle(pickle_name) :\n",
    "  with open(pickle_name, \"rb\") as f:\n",
    "    pipe = pickle.load(f)\n",
    "    return pipe"
   ]
  },
  {
   "cell_type": "code",
   "execution_count": 29,
   "id": "b16d4363-8566-4254-8ae3-120bb41cdba6",
   "metadata": {},
   "outputs": [
    {
     "name": "stdout",
     "output_type": "stream",
     "text": [
      "Accuracy:  0.7458866544789763\n",
      "Precision:  0.8134146341463414\n",
      "Recall:  0.8421717171717171\n"
     ]
    }
   ],
   "source": [
    "# Test de la pipeline\n",
    "knn = KNeighborsClassifier(n_neighbors=3)\n",
    "\n",
    "pipeline = lauch_pipeline(knn, 'knn_classifier')\n",
    "pipeline.fit(x_train, y_train)\n",
    "\n",
    "# Predictions on the test set\n",
    "y_pred = pipeline.predict(x_test)\n",
    "\n",
    "# Evaluate the model\n",
    "acc = accuracy_score(y_test, y_pred)\n",
    "pre = precision_score(y_test, y_pred)\n",
    "recall = recall_score(y_test, y_pred)\n",
    "\n",
    "print('Accuracy: ', acc)\n",
    "print('Precision: ', pre)\n",
    "print('Recall: ', recall)"
   ]
  },
  {
   "cell_type": "code",
   "execution_count": 30,
   "id": "fa6c69a3-0c75-4620-8dd2-b085a4c8eb33",
   "metadata": {},
   "outputs": [
    {
     "name": "stdout",
     "output_type": "stream",
     "text": [
      "Accuracy:  0.7458866544789763\n",
      "Precision:  0.8134146341463414\n",
      "Recall:  0.8421717171717171\n"
     ]
    }
   ],
   "source": [
    "# Test avec ouveture du pickle\n",
    "\n",
    "pipeline = get_pickle('knn_classifier')\n",
    "pipeline.fit(x_train, y_train)\n",
    "\n",
    "# Predictions on the test set\n",
    "y_pred = pipeline.predict(x_test)\n",
    "\n",
    "# Evaluate the model\n",
    "acc = accuracy_score(y_test, y_pred)\n",
    "pre = precision_score(y_test, y_pred)\n",
    "recall = recall_score(y_test, y_pred)\n",
    "\n",
    "print('Accuracy: ', acc)\n",
    "print('Precision: ', pre)\n",
    "print('Recall: ', recall)"
   ]
  },
  {
   "cell_type": "markdown",
   "id": "40727111-75e8-40d6-9a17-c0fb9c58fb0b",
   "metadata": {},
   "source": [
    "## 7. Comparaison de plusieurs algorithmes d’apprentissage"
   ]
  },
  {
   "cell_type": "code",
   "execution_count": 31,
   "id": "ebd2c92e-6381-4ed7-a055-fa045322e1f7",
   "metadata": {},
   "outputs": [],
   "source": [
    "clfs = {\n",
    "    'RF': RandomForestClassifier(n_estimators=50, random_state=1),\n",
    "    'KNN': KNeighborsClassifier(n_neighbors=10),\n",
    "    'NaiveBayesSimple': GaussianNB(),\n",
    "    'CART': DecisionTreeClassifier(),\n",
    "    'ID3': DecisionTreeClassifier(criterion='entropy'),\n",
    "    'DecisionStump': DecisionTreeClassifier(max_depth=1),\n",
    "    'MultilayerPerceptron': MLPClassifier(hidden_layer_sizes=(20, 10), max_iter=1000),\n",
    "    'kNN_5': KNeighborsClassifier(n_neighbors=5),\n",
    "    'Bagging': BaggingClassifier(n_estimators=50),\n",
    "    'AdaBoost': AdaBoostClassifier(n_estimators=50),\n",
    "    'RandomForest': RandomForestClassifier(n_estimators=50)\n",
    "}"
   ]
  },
  {
   "cell_type": "code",
   "execution_count": 32,
   "id": "e72e4ee0-df18-4f9f-8dd6-7f3ecddde774",
   "metadata": {},
   "outputs": [],
   "source": [
    "# Cross validation  Kfold\n",
    "def run_classfier(clfs, x_test, y_test):\n",
    "    kf = KFold(n_splits=10, shuffle=True, random_state=0)\n",
    "    for i in clfs:\n",
    "        clf = clfs[i]\n",
    "        cv_acc = cross_val_score(clf, x_test, y_test, cv=kf)\n",
    "        cv_auc = cross_val_score(clf, x_test, y_test, cv=kf, scoring='roc_auc')\n",
    "        cv_rec = cross_val_score(clf, x_test, y_test, cv=kf, scoring='precision')\n",
    "        cv_rcl = cross_val_score(clf, x_test, y_test, cv=kf, scoring='recall')\n",
    "        print('{0}'.format(i))  \n",
    "        print(\"Accuracy  is: {1:.3f} +/- {2:.3f}\".format(i, np.mean(cv_acc), np.std(cv_acc)))\n",
    "        print(\"AUC       is: {1:.3f} +/- {2:.3f}\".format(i, np.mean(cv_auc), np.std(cv_auc)))\n",
    "        print(\"Precision is: {1:.3f} +/- {2:.3f}\".format(i, np.mean(cv_rec), np.std(cv_rec)))\n",
    "        print(\"Recall    is: {1:.3f} +/- {2:.3f}\".format(i, np.mean(cv_rcl), np.std(cv_rcl)))"
   ]
  },
  {
   "cell_type": "code",
   "execution_count": 33,
   "id": "37f250ce-ea58-4a42-a63d-122330e51cf7",
   "metadata": {},
   "outputs": [
    {
     "name": "stdout",
     "output_type": "stream",
     "text": [
      "RF\n",
      "Accuracy  is: 0.790 +/- 0.027\n",
      "AUC       is: 0.817 +/- 0.022\n",
      "Precision is: 0.821 +/- 0.023\n",
      "Recall    is: 0.907 +/- 0.025\n",
      "KNN\n",
      "Accuracy  is: 0.726 +/- 0.017\n",
      "AUC       is: 0.660 +/- 0.037\n",
      "Precision is: 0.776 +/- 0.019\n",
      "Recall    is: 0.875 +/- 0.020\n",
      "NaiveBayesSimple\n",
      "Accuracy  is: 0.737 +/- 0.011\n",
      "AUC       is: 0.787 +/- 0.023\n",
      "Precision is: 0.866 +/- 0.024\n",
      "Recall    is: 0.754 +/- 0.023\n",
      "CART\n",
      "Accuracy  is: 0.709 +/- 0.025\n",
      "AUC       is: 0.649 +/- 0.035\n",
      "Precision is: 0.809 +/- 0.020\n",
      "Recall    is: 0.782 +/- 0.029\n",
      "ID3\n",
      "Accuracy  is: 0.725 +/- 0.034\n",
      "AUC       is: 0.661 +/- 0.042\n",
      "Precision is: 0.817 +/- 0.028\n",
      "Recall    is: 0.798 +/- 0.031\n",
      "DecisionStump\n",
      "Accuracy  is: 0.715 +/- 0.023\n",
      "AUC       is: 0.612 +/- 0.037\n",
      "Precision is: 0.734 +/- 0.031\n",
      "Recall    is: 0.957 +/- 0.067\n",
      "MultilayerPerceptron\n",
      "Accuracy  is: 0.714 +/- 0.049\n",
      "AUC       is: 0.686 +/- 0.063\n",
      "Precision is: 0.807 +/- 0.070\n",
      "Recall    is: 0.840 +/- 0.056\n",
      "kNN_5\n",
      "Accuracy  is: 0.712 +/- 0.026\n",
      "AUC       is: 0.647 +/- 0.034\n",
      "Precision is: 0.764 +/- 0.020\n",
      "Recall    is: 0.872 +/- 0.024\n",
      "Bagging\n",
      "Accuracy  is: 0.777 +/- 0.020\n",
      "AUC       is: 0.808 +/- 0.030\n",
      "Precision is: 0.825 +/- 0.020\n",
      "Recall    is: 0.888 +/- 0.025\n",
      "AdaBoost\n",
      "Accuracy  is: 0.790 +/- 0.024\n",
      "AUC       is: 0.825 +/- 0.024\n",
      "Precision is: 0.826 +/- 0.022\n",
      "Recall    is: 0.899 +/- 0.023\n",
      "RandomForest\n",
      "Accuracy  is: 0.786 +/- 0.023\n",
      "AUC       is: 0.814 +/- 0.028\n",
      "Precision is: 0.822 +/- 0.023\n",
      "Recall    is: 0.905 +/- 0.017\n"
     ]
    }
   ],
   "source": [
    "run_classfier(clfs, x_test, y_test)"
   ]
  },
  {
   "cell_type": "markdown",
   "id": "c2bc8da7-21bb-4079-a5a6-d70b40053fe7",
   "metadata": {},
   "source": [
    "# Apprentissage supervisé : Données hétérogènes"
   ]
  },
  {
   "cell_type": "code",
   "execution_count": 34,
   "id": "36642f3f-cbde-4e87-8c0b-aa85e02ad8a6",
   "metadata": {},
   "outputs": [
    {
     "data": {
      "text/html": [
       "<div>\n",
       "<style scoped>\n",
       "    .dataframe tbody tr th:only-of-type {\n",
       "        vertical-align: middle;\n",
       "    }\n",
       "\n",
       "    .dataframe tbody tr th {\n",
       "        vertical-align: top;\n",
       "    }\n",
       "\n",
       "    .dataframe thead th {\n",
       "        text-align: right;\n",
       "    }\n",
       "</style>\n",
       "<table border=\"1\" class=\"dataframe\">\n",
       "  <thead>\n",
       "    <tr style=\"text-align: right;\">\n",
       "      <th></th>\n",
       "      <th>0</th>\n",
       "      <th>1</th>\n",
       "      <th>2</th>\n",
       "      <th>3</th>\n",
       "      <th>4</th>\n",
       "      <th>5</th>\n",
       "      <th>6</th>\n",
       "      <th>7</th>\n",
       "      <th>8</th>\n",
       "      <th>9</th>\n",
       "      <th>10</th>\n",
       "      <th>11</th>\n",
       "      <th>12</th>\n",
       "      <th>13</th>\n",
       "      <th>14</th>\n",
       "      <th>15</th>\n",
       "    </tr>\n",
       "  </thead>\n",
       "  <tbody>\n",
       "    <tr>\n",
       "      <th>0</th>\n",
       "      <td>b</td>\n",
       "      <td>30.83</td>\n",
       "      <td>0.000</td>\n",
       "      <td>u</td>\n",
       "      <td>g</td>\n",
       "      <td>w</td>\n",
       "      <td>v</td>\n",
       "      <td>1.25</td>\n",
       "      <td>t</td>\n",
       "      <td>t</td>\n",
       "      <td>1</td>\n",
       "      <td>f</td>\n",
       "      <td>g</td>\n",
       "      <td>202</td>\n",
       "      <td>0</td>\n",
       "      <td>+</td>\n",
       "    </tr>\n",
       "    <tr>\n",
       "      <th>1</th>\n",
       "      <td>a</td>\n",
       "      <td>58.67</td>\n",
       "      <td>4.460</td>\n",
       "      <td>u</td>\n",
       "      <td>g</td>\n",
       "      <td>q</td>\n",
       "      <td>h</td>\n",
       "      <td>3.04</td>\n",
       "      <td>t</td>\n",
       "      <td>t</td>\n",
       "      <td>6</td>\n",
       "      <td>f</td>\n",
       "      <td>g</td>\n",
       "      <td>43</td>\n",
       "      <td>560</td>\n",
       "      <td>+</td>\n",
       "    </tr>\n",
       "    <tr>\n",
       "      <th>2</th>\n",
       "      <td>a</td>\n",
       "      <td>24.50</td>\n",
       "      <td>0.500</td>\n",
       "      <td>u</td>\n",
       "      <td>g</td>\n",
       "      <td>q</td>\n",
       "      <td>h</td>\n",
       "      <td>1.50</td>\n",
       "      <td>t</td>\n",
       "      <td>f</td>\n",
       "      <td>0</td>\n",
       "      <td>f</td>\n",
       "      <td>g</td>\n",
       "      <td>280</td>\n",
       "      <td>824</td>\n",
       "      <td>+</td>\n",
       "    </tr>\n",
       "    <tr>\n",
       "      <th>3</th>\n",
       "      <td>b</td>\n",
       "      <td>27.83</td>\n",
       "      <td>1.540</td>\n",
       "      <td>u</td>\n",
       "      <td>g</td>\n",
       "      <td>w</td>\n",
       "      <td>v</td>\n",
       "      <td>3.75</td>\n",
       "      <td>t</td>\n",
       "      <td>t</td>\n",
       "      <td>5</td>\n",
       "      <td>t</td>\n",
       "      <td>g</td>\n",
       "      <td>100</td>\n",
       "      <td>3</td>\n",
       "      <td>+</td>\n",
       "    </tr>\n",
       "    <tr>\n",
       "      <th>4</th>\n",
       "      <td>b</td>\n",
       "      <td>20.17</td>\n",
       "      <td>5.625</td>\n",
       "      <td>u</td>\n",
       "      <td>g</td>\n",
       "      <td>w</td>\n",
       "      <td>v</td>\n",
       "      <td>1.71</td>\n",
       "      <td>t</td>\n",
       "      <td>f</td>\n",
       "      <td>0</td>\n",
       "      <td>f</td>\n",
       "      <td>s</td>\n",
       "      <td>120</td>\n",
       "      <td>0</td>\n",
       "      <td>+</td>\n",
       "    </tr>\n",
       "  </tbody>\n",
       "</table>\n",
       "</div>"
      ],
      "text/plain": [
       "  0      1      2  3  4  5  6     7  8  9   10 11 12   13   14 15\n",
       "0  b  30.83  0.000  u  g  w  v  1.25  t  t   1  f  g  202    0  +\n",
       "1  a  58.67  4.460  u  g  q  h  3.04  t  t   6  f  g   43  560  +\n",
       "2  a  24.50  0.500  u  g  q  h  1.50  t  f   0  f  g  280  824  +\n",
       "3  b  27.83  1.540  u  g  w  v  3.75  t  t   5  t  g  100    3  +\n",
       "4  b  20.17  5.625  u  g  w  v  1.71  t  f   0  f  s  120    0  +"
      ]
     },
     "execution_count": 34,
     "metadata": {},
     "output_type": "execute_result"
    }
   ],
   "source": [
    "df_scoring = pd.read_csv('credit.data', sep='\\t', header = None)\n",
    "df_scoring.head()"
   ]
  },
  {
   "cell_type": "markdown",
   "id": "46c42cd5-78ce-4f9c-b272-2b48487f7faa",
   "metadata": {},
   "source": [
    "## 1. Data cleaning"
   ]
  },
  {
   "cell_type": "code",
   "execution_count": 35,
   "id": "e1152297-157f-440c-a2c0-09d8637dfa09",
   "metadata": {},
   "outputs": [],
   "source": [
    "df_scoring = df_scoring.replace('?',np.nan)\n",
    "df_scoring.dropna(inplace=True)"
   ]
  },
  {
   "cell_type": "code",
   "execution_count": 36,
   "id": "caaa8675-8c44-44db-9024-4109f4829709",
   "metadata": {},
   "outputs": [],
   "source": [
    "X = df_scoring.iloc[:, [1,2,7,10,13,14]].astype(float)\n",
    "Y = df_scoring.iloc[:,15]"
   ]
  },
  {
   "cell_type": "code",
   "execution_count": 37,
   "id": "f9f058a6-2fde-465d-a87a-0e67c20c9522",
   "metadata": {},
   "outputs": [],
   "source": [
    "Y = Y.replace('+', 1)\n",
    "Y = Y.replace('-', 0)"
   ]
  },
  {
   "cell_type": "code",
   "execution_count": 38,
   "id": "56e970f6-4a73-4826-a5b9-954aec85a525",
   "metadata": {},
   "outputs": [
    {
     "data": {
      "image/png": "[encoded data removed]",
      "text/plain": [
       "<Figure size 640x480 with 1 Axes>"
      ]
     },
     "metadata": {},
     "output_type": "display_data"
    }
   ],
   "source": [
    "plt.hist(Y, bins=[-0.5, 0.5, 1.5], edgecolor='black', alpha=0.7)\n",
    "\n",
    "# Ajouter des titres et des étiquettes\n",
    "plt.title('Histogramme des données binaires')\n",
    "plt.xlabel('Valeurs')\n",
    "plt.ylabel('Fréquence')\n",
    "\n",
    "# Afficher l'histogramme\n",
    "plt.show()"
   ]
  },
  {
   "cell_type": "code",
   "execution_count": 39,
   "id": "e3521eeb-e8b5-44f9-88c9-9bb35f7ccc81",
   "metadata": {},
   "outputs": [],
   "source": [
    "x_train, x_test, y_train, y_test = train_test_split(X, Y, test_size=0.5, random_state=1)"
   ]
  },
  {
   "cell_type": "code",
   "execution_count": 40,
   "id": "f5d94c2a-9ed9-4d1d-9162-6785cdd225df",
   "metadata": {},
   "outputs": [
    {
     "name": "stdout",
     "output_type": "stream",
     "text": [
      "RF\n",
      "Accuracy  is: 0.792 +/- 0.080\n",
      "AUC       is: 0.827 +/- 0.054\n",
      "Precision is: 0.803 +/- 0.141\n",
      "Recall    is: 0.706 +/- 0.103\n",
      "KNN\n",
      "Accuracy  is: 0.679 +/- 0.053\n",
      "AUC       is: 0.708 +/- 0.054\n",
      "Precision is: 0.694 +/- 0.128\n",
      "Recall    is: 0.502 +/- 0.135\n",
      "NaiveBayesSimple\n",
      "Accuracy  is: 0.719 +/- 0.039\n",
      "AUC       is: 0.798 +/- 0.067\n",
      "Precision is: 0.803 +/- 0.105\n",
      "Recall    is: 0.481 +/- 0.105\n",
      "CART\n",
      "Accuracy  is: 0.694 +/- 0.058\n",
      "AUC       is: 0.699 +/- 0.068\n",
      "Precision is: 0.656 +/- 0.110\n",
      "Recall    is: 0.689 +/- 0.095\n",
      "ID3\n",
      "Accuracy  is: 0.703 +/- 0.080\n",
      "AUC       is: 0.702 +/- 0.067\n",
      "Precision is: 0.665 +/- 0.099\n",
      "Recall    is: 0.686 +/- 0.108\n",
      "DecisionStump\n",
      "Accuracy  is: 0.759 +/- 0.041\n",
      "AUC       is: 0.733 +/- 0.056\n",
      "Precision is: 0.897 +/- 0.096\n",
      "Recall    is: 0.507 +/- 0.091\n",
      "MultilayerPerceptron\n",
      "Accuracy  is: 0.716 +/- 0.072\n",
      "AUC       is: 0.740 +/- 0.057\n",
      "Precision is: 0.669 +/- 0.129\n",
      "Recall    is: 0.604 +/- 0.137\n",
      "kNN_5\n",
      "Accuracy  is: 0.642 +/- 0.066\n",
      "AUC       is: 0.678 +/- 0.074\n",
      "Precision is: 0.598 +/- 0.102\n",
      "Recall    is: 0.550 +/- 0.141\n",
      "Bagging\n",
      "Accuracy  is: 0.777 +/- 0.056\n",
      "AUC       is: 0.801 +/- 0.081\n",
      "Precision is: 0.773 +/- 0.103\n",
      "Recall    is: 0.714 +/- 0.091\n",
      "AdaBoost\n",
      "Accuracy  is: 0.752 +/- 0.067\n",
      "AUC       is: 0.773 +/- 0.076\n",
      "Precision is: 0.741 +/- 0.131\n",
      "Recall    is: 0.687 +/- 0.107\n",
      "RandomForest\n",
      "Accuracy  is: 0.795 +/- 0.058\n",
      "AUC       is: 0.826 +/- 0.062\n",
      "Precision is: 0.801 +/- 0.113\n",
      "Recall    is: 0.685 +/- 0.123\n"
     ]
    }
   ],
   "source": [
    "run_classfier(clfs, x_test, y_test)"
   ]
  },
  {
   "cell_type": "markdown",
   "id": "c899746c-e862-4a24-8075-7d5a3b09d9b1",
   "metadata": {},
   "source": [
    "## 2. Normalisation"
   ]
  },
  {
   "cell_type": "code",
   "execution_count": 41,
   "id": "5f3007a5-d103-40a1-84ba-bc82284ba8e2",
   "metadata": {},
   "outputs": [],
   "source": [
    "scaler = StandardScaler()\n",
    "\n",
    "scaler.fit(x_train)\n",
    "x_train_norm = scaler.transform(x_train)\n",
    "x_test_norm = scaler.transform(x_test)"
   ]
  },
  {
   "cell_type": "markdown",
   "id": "065641c7-a491-4318-922f-6e07c3ab971c",
   "metadata": {},
   "source": [
    "## 3. Condidérer toutes les données"
   ]
  },
  {
   "cell_type": "code",
   "execution_count": 42,
   "id": "91956486-35cd-46b4-a087-d820b2c3e3e4",
   "metadata": {},
   "outputs": [
    {
     "data": {
      "text/html": [
       "<div>\n",
       "<style scoped>\n",
       "    .dataframe tbody tr th:only-of-type {\n",
       "        vertical-align: middle;\n",
       "    }\n",
       "\n",
       "    .dataframe tbody tr th {\n",
       "        vertical-align: top;\n",
       "    }\n",
       "\n",
       "    .dataframe thead th {\n",
       "        text-align: right;\n",
       "    }\n",
       "</style>\n",
       "<table border=\"1\" class=\"dataframe\">\n",
       "  <thead>\n",
       "    <tr style=\"text-align: right;\">\n",
       "      <th></th>\n",
       "      <th>0</th>\n",
       "      <th>1</th>\n",
       "      <th>2</th>\n",
       "      <th>3</th>\n",
       "      <th>4</th>\n",
       "      <th>5</th>\n",
       "      <th>6</th>\n",
       "      <th>7</th>\n",
       "      <th>8</th>\n",
       "      <th>9</th>\n",
       "      <th>10</th>\n",
       "      <th>11</th>\n",
       "      <th>12</th>\n",
       "      <th>13</th>\n",
       "      <th>14</th>\n",
       "      <th>15</th>\n",
       "    </tr>\n",
       "  </thead>\n",
       "  <tbody>\n",
       "    <tr>\n",
       "      <th>0</th>\n",
       "      <td>b</td>\n",
       "      <td>30.83</td>\n",
       "      <td>0.000</td>\n",
       "      <td>u</td>\n",
       "      <td>g</td>\n",
       "      <td>w</td>\n",
       "      <td>v</td>\n",
       "      <td>1.25</td>\n",
       "      <td>t</td>\n",
       "      <td>t</td>\n",
       "      <td>1</td>\n",
       "      <td>f</td>\n",
       "      <td>g</td>\n",
       "      <td>202</td>\n",
       "      <td>0</td>\n",
       "      <td>+</td>\n",
       "    </tr>\n",
       "    <tr>\n",
       "      <th>1</th>\n",
       "      <td>a</td>\n",
       "      <td>58.67</td>\n",
       "      <td>4.460</td>\n",
       "      <td>u</td>\n",
       "      <td>g</td>\n",
       "      <td>q</td>\n",
       "      <td>h</td>\n",
       "      <td>3.04</td>\n",
       "      <td>t</td>\n",
       "      <td>t</td>\n",
       "      <td>6</td>\n",
       "      <td>f</td>\n",
       "      <td>g</td>\n",
       "      <td>43</td>\n",
       "      <td>560</td>\n",
       "      <td>+</td>\n",
       "    </tr>\n",
       "    <tr>\n",
       "      <th>2</th>\n",
       "      <td>a</td>\n",
       "      <td>24.50</td>\n",
       "      <td>0.500</td>\n",
       "      <td>u</td>\n",
       "      <td>g</td>\n",
       "      <td>q</td>\n",
       "      <td>h</td>\n",
       "      <td>1.50</td>\n",
       "      <td>t</td>\n",
       "      <td>f</td>\n",
       "      <td>0</td>\n",
       "      <td>f</td>\n",
       "      <td>g</td>\n",
       "      <td>280</td>\n",
       "      <td>824</td>\n",
       "      <td>+</td>\n",
       "    </tr>\n",
       "    <tr>\n",
       "      <th>3</th>\n",
       "      <td>b</td>\n",
       "      <td>27.83</td>\n",
       "      <td>1.540</td>\n",
       "      <td>u</td>\n",
       "      <td>g</td>\n",
       "      <td>w</td>\n",
       "      <td>v</td>\n",
       "      <td>3.75</td>\n",
       "      <td>t</td>\n",
       "      <td>t</td>\n",
       "      <td>5</td>\n",
       "      <td>t</td>\n",
       "      <td>g</td>\n",
       "      <td>100</td>\n",
       "      <td>3</td>\n",
       "      <td>+</td>\n",
       "    </tr>\n",
       "    <tr>\n",
       "      <th>4</th>\n",
       "      <td>b</td>\n",
       "      <td>20.17</td>\n",
       "      <td>5.625</td>\n",
       "      <td>u</td>\n",
       "      <td>g</td>\n",
       "      <td>w</td>\n",
       "      <td>v</td>\n",
       "      <td>1.71</td>\n",
       "      <td>t</td>\n",
       "      <td>f</td>\n",
       "      <td>0</td>\n",
       "      <td>f</td>\n",
       "      <td>s</td>\n",
       "      <td>120</td>\n",
       "      <td>0</td>\n",
       "      <td>+</td>\n",
       "    </tr>\n",
       "  </tbody>\n",
       "</table>\n",
       "</div>"
      ],
      "text/plain": [
       "  0      1      2  3  4  5  6     7  8  9   10 11 12   13   14 15\n",
       "0  b  30.83  0.000  u  g  w  v  1.25  t  t   1  f  g  202    0  +\n",
       "1  a  58.67  4.460  u  g  q  h  3.04  t  t   6  f  g   43  560  +\n",
       "2  a  24.50  0.500  u  g  q  h  1.50  t  f   0  f  g  280  824  +\n",
       "3  b  27.83  1.540  u  g  w  v  3.75  t  t   5  t  g  100    3  +\n",
       "4  b  20.17  5.625  u  g  w  v  1.71  t  f   0  f  s  120    0  +"
      ]
     },
     "execution_count": 42,
     "metadata": {},
     "output_type": "execute_result"
    }
   ],
   "source": [
    "df_scoring.head()"
   ]
  },
  {
   "cell_type": "code",
   "execution_count": 43,
   "id": "4aeea8bf-4e7f-4453-aaa3-a0075c30614c",
   "metadata": {},
   "outputs": [],
   "source": [
    "X = df_scoring.drop(15, axis=1)\n",
    "Y = df_scoring[13] "
   ]
  },
  {
   "cell_type": "code",
   "execution_count": 44,
   "id": "907940b9-e717-44b7-891a-588798b40fcf",
   "metadata": {},
   "outputs": [
    {
     "data": {
      "text/html": [
       "<div>\n",
       "<style scoped>\n",
       "    .dataframe tbody tr th:only-of-type {\n",
       "        vertical-align: middle;\n",
       "    }\n",
       "\n",
       "    .dataframe tbody tr th {\n",
       "        vertical-align: top;\n",
       "    }\n",
       "\n",
       "    .dataframe thead th {\n",
       "        text-align: right;\n",
       "    }\n",
       "</style>\n",
       "<table border=\"1\" class=\"dataframe\">\n",
       "  <thead>\n",
       "    <tr style=\"text-align: right;\">\n",
       "      <th></th>\n",
       "      <th>0</th>\n",
       "      <th>1</th>\n",
       "      <th>2</th>\n",
       "      <th>3</th>\n",
       "      <th>4</th>\n",
       "      <th>5</th>\n",
       "      <th>6</th>\n",
       "      <th>7</th>\n",
       "      <th>8</th>\n",
       "      <th>9</th>\n",
       "      <th>10</th>\n",
       "      <th>11</th>\n",
       "      <th>12</th>\n",
       "      <th>13</th>\n",
       "      <th>14</th>\n",
       "    </tr>\n",
       "  </thead>\n",
       "  <tbody>\n",
       "    <tr>\n",
       "      <th>0</th>\n",
       "      <td>b</td>\n",
       "      <td>30.83</td>\n",
       "      <td>0.000</td>\n",
       "      <td>u</td>\n",
       "      <td>g</td>\n",
       "      <td>w</td>\n",
       "      <td>v</td>\n",
       "      <td>1.25</td>\n",
       "      <td>t</td>\n",
       "      <td>t</td>\n",
       "      <td>1</td>\n",
       "      <td>f</td>\n",
       "      <td>g</td>\n",
       "      <td>202</td>\n",
       "      <td>0</td>\n",
       "    </tr>\n",
       "    <tr>\n",
       "      <th>1</th>\n",
       "      <td>a</td>\n",
       "      <td>58.67</td>\n",
       "      <td>4.460</td>\n",
       "      <td>u</td>\n",
       "      <td>g</td>\n",
       "      <td>q</td>\n",
       "      <td>h</td>\n",
       "      <td>3.04</td>\n",
       "      <td>t</td>\n",
       "      <td>t</td>\n",
       "      <td>6</td>\n",
       "      <td>f</td>\n",
       "      <td>g</td>\n",
       "      <td>43</td>\n",
       "      <td>560</td>\n",
       "    </tr>\n",
       "    <tr>\n",
       "      <th>2</th>\n",
       "      <td>a</td>\n",
       "      <td>24.50</td>\n",
       "      <td>0.500</td>\n",
       "      <td>u</td>\n",
       "      <td>g</td>\n",
       "      <td>q</td>\n",
       "      <td>h</td>\n",
       "      <td>1.50</td>\n",
       "      <td>t</td>\n",
       "      <td>f</td>\n",
       "      <td>0</td>\n",
       "      <td>f</td>\n",
       "      <td>g</td>\n",
       "      <td>280</td>\n",
       "      <td>824</td>\n",
       "    </tr>\n",
       "    <tr>\n",
       "      <th>3</th>\n",
       "      <td>b</td>\n",
       "      <td>27.83</td>\n",
       "      <td>1.540</td>\n",
       "      <td>u</td>\n",
       "      <td>g</td>\n",
       "      <td>w</td>\n",
       "      <td>v</td>\n",
       "      <td>3.75</td>\n",
       "      <td>t</td>\n",
       "      <td>t</td>\n",
       "      <td>5</td>\n",
       "      <td>t</td>\n",
       "      <td>g</td>\n",
       "      <td>100</td>\n",
       "      <td>3</td>\n",
       "    </tr>\n",
       "    <tr>\n",
       "      <th>4</th>\n",
       "      <td>b</td>\n",
       "      <td>20.17</td>\n",
       "      <td>5.625</td>\n",
       "      <td>u</td>\n",
       "      <td>g</td>\n",
       "      <td>w</td>\n",
       "      <td>v</td>\n",
       "      <td>1.71</td>\n",
       "      <td>t</td>\n",
       "      <td>f</td>\n",
       "      <td>0</td>\n",
       "      <td>f</td>\n",
       "      <td>s</td>\n",
       "      <td>120</td>\n",
       "      <td>0</td>\n",
       "    </tr>\n",
       "  </tbody>\n",
       "</table>\n",
       "</div>"
      ],
      "text/plain": [
       "  0      1      2  3  4  5  6     7  8  9   10 11 12   13   14\n",
       "0  b  30.83  0.000  u  g  w  v  1.25  t  t   1  f  g  202    0\n",
       "1  a  58.67  4.460  u  g  q  h  3.04  t  t   6  f  g   43  560\n",
       "2  a  24.50  0.500  u  g  q  h  1.50  t  f   0  f  g  280  824\n",
       "3  b  27.83  1.540  u  g  w  v  3.75  t  t   5  t  g  100    3\n",
       "4  b  20.17  5.625  u  g  w  v  1.71  t  f   0  f  s  120    0"
      ]
     },
     "execution_count": 44,
     "metadata": {},
     "output_type": "execute_result"
    }
   ],
   "source": [
    "X.head()"
   ]
  },
  {
   "cell_type": "code",
   "execution_count": 45,
   "id": "313de903-9bc7-4acb-a003-6e04be253979",
   "metadata": {},
   "outputs": [],
   "source": [
    "# Imputer les valeurs manquantes\n",
    "from sklearn.impute import SimpleImputer\n",
    "imp_mean = SimpleImputer(missing_values=np.nan, strategy='mean')\n",
    "imp_freq = SimpleImputer(missing_values=np.nan, strategy='most_frequent')"
   ]
  },
  {
   "cell_type": "markdown",
   "id": "2bb1cbb5-628a-488a-b246-3c772792d8b8",
   "metadata": {},
   "source": [
    "### Traitement des valeurs manquantes"
   ]
  },
  {
   "cell_type": "code",
   "execution_count": 46,
   "id": "0b1c1ca1-0dd8-490f-9d1f-4ca087d7d26e",
   "metadata": {},
   "outputs": [],
   "source": [
    "# Variable catégorielle\n",
    "col_cat = [0,3,4,5,6,8,9,11]\n",
    "X_cat = np.copy(X.iloc[:, col_cat])\n",
    "\n",
    "for col_id in range(len(col_cat)):\n",
    " unique_val, val_idx = np.unique(X_cat[:, col_id], return_inverse=True)\n",
    " X_cat[:, col_id] = val_idx\n",
    "    \n",
    "imp_cat = SimpleImputer(missing_values=0, strategy='most_frequent')\n",
    "X_cat[:, range(5)] = imp_cat.fit_transform(X_cat[:, range(5)])"
   ]
  },
  {
   "cell_type": "code",
   "execution_count": 47,
   "id": "9115db5e-8896-4928-be8c-f1af2efe7811",
   "metadata": {},
   "outputs": [],
   "source": [
    "# Variable numérique\n",
    "col_num = [1,2,7,10,13,14]\n",
    "X_num = np.copy(X.iloc[:, col_num])\n",
    "X_num[X_num == '?'] = np.nan\n",
    "X_num = X_num.astype(float)\n",
    "imp_num = SimpleImputer(missing_values=np.nan, strategy='mean')\n",
    "X_num = imp_num.fit_transform(X_num)"
   ]
  },
  {
   "cell_type": "code",
   "execution_count": 48,
   "id": "c7301b22-d3e8-4032-af23-c95d76f3c5da",
   "metadata": {},
   "outputs": [],
   "source": [
    "Y = Y.replace('+', 1)\n",
    "Y = Y.replace('-', 0)"
   ]
  },
  {
   "cell_type": "code",
   "execution_count": 49,
   "id": "7f6b8b38-8061-4ed1-8434-1456c21ee844",
   "metadata": {},
   "outputs": [],
   "source": [
    "# Encoder les variables catégorielles\n",
    "from sklearn.preprocessing import OneHotEncoder\n",
    "enc = OneHotEncoder(handle_unknown='ignore')\n",
    "\n",
    "X_cat_bin = OneHotEncoder().fit_transform(X_cat).toarray()"
   ]
  },
  {
   "cell_type": "code",
   "execution_count": 50,
   "id": "f85fc53c-3ca5-4975-9148-e2eaad98d957",
   "metadata": {},
   "outputs": [
    {
     "data": {
      "text/plain": [
       "array([[1., 1., 0., ..., 1., 1., 0.],\n",
       "       [1., 1., 0., ..., 1., 1., 0.],\n",
       "       [1., 1., 0., ..., 0., 1., 0.],\n",
       "       ...,\n",
       "       [1., 0., 1., ..., 1., 0., 1.],\n",
       "       [1., 1., 0., ..., 0., 1., 0.],\n",
       "       [1., 1., 0., ..., 0., 0., 1.]])"
      ]
     },
     "execution_count": 50,
     "metadata": {},
     "output_type": "execute_result"
    }
   ],
   "source": [
    "X_cat_bin"
   ]
  },
  {
   "cell_type": "markdown",
   "id": "f3cede22-a9c7-49a2-a784-a24fc5709562",
   "metadata": {},
   "source": [
    "### Entrainement"
   ]
  },
  {
   "cell_type": "code",
   "execution_count": 51,
   "id": "d0404ca6-d00b-47d9-90a9-703054bf74a5",
   "metadata": {},
   "outputs": [],
   "source": [
    "scaler_cat = StandardScaler()\n",
    "scaler_cat.fit(X_num)\n",
    "X_num_norm = scaler_cat.transform(X_num)\n",
    "X_num_cat = np.concatenate((X_cat_bin,X_num_norm), axis=1)\n",
    "\n",
    "Y_scoring = df_scoring.iloc[:,15].values\n",
    "Y_num_cat_bin = np.where(Y_scoring=='+',1, 0)"
   ]
  },
  {
   "cell_type": "code",
   "execution_count": 52,
   "id": "e6764a3d-092b-432f-9c8b-1b5ce86d71c3",
   "metadata": {},
   "outputs": [
    {
     "name": "stdout",
     "output_type": "stream",
     "text": [
      "RF\n",
      "Accuracy  is: 0.874 +/- 0.057\n",
      "AUC       is: 0.939 +/- 0.037\n",
      "Precision is: 0.853 +/- 0.064\n",
      "Recall    is: 0.878 +/- 0.085\n",
      "KNN\n",
      "Accuracy  is: 0.853 +/- 0.050\n",
      "AUC       is: 0.913 +/- 0.051\n",
      "Precision is: 0.874 +/- 0.052\n",
      "Recall    is: 0.792 +/- 0.077\n",
      "NaiveBayesSimple\n",
      "Accuracy  is: 0.734 +/- 0.046\n",
      "AUC       is: 0.886 +/- 0.051\n",
      "Precision is: 0.923 +/- 0.070\n",
      "Recall    is: 0.460 +/- 0.121\n",
      "CART\n",
      "Accuracy  is: 0.790 +/- 0.062\n",
      "AUC       is: 0.791 +/- 0.063\n",
      "Precision is: 0.799 +/- 0.075\n",
      "Recall    is: 0.767 +/- 0.075\n",
      "ID3\n",
      "Accuracy  is: 0.815 +/- 0.051\n",
      "AUC       is: 0.807 +/- 0.050\n",
      "Precision is: 0.809 +/- 0.042\n",
      "Recall    is: 0.803 +/- 0.065\n",
      "DecisionStump\n",
      "Accuracy  is: 0.864 +/- 0.046\n",
      "AUC       is: 0.870 +/- 0.047\n",
      "Precision is: 0.796 +/- 0.057\n",
      "Recall    is: 0.940 +/- 0.058\n",
      "MultilayerPerceptron\n",
      "Accuracy  is: 0.813 +/- 0.037\n",
      "AUC       is: 0.894 +/- 0.053\n",
      "Precision is: 0.830 +/- 0.055\n",
      "Recall    is: 0.783 +/- 0.084\n",
      "kNN_5\n",
      "Accuracy  is: 0.850 +/- 0.052\n",
      "AUC       is: 0.907 +/- 0.050\n",
      "Precision is: 0.855 +/- 0.065\n",
      "Recall    is: 0.809 +/- 0.073\n",
      "Bagging\n",
      "Accuracy  is: 0.859 +/- 0.052\n",
      "AUC       is: 0.927 +/- 0.044\n",
      "Precision is: 0.852 +/- 0.065\n",
      "Recall    is: 0.861 +/- 0.082\n",
      "AdaBoost\n",
      "Accuracy  is: 0.848 +/- 0.046\n",
      "AUC       is: 0.910 +/- 0.054\n",
      "Precision is: 0.822 +/- 0.058\n",
      "Recall    is: 0.856 +/- 0.074\n",
      "RandomForest\n",
      "Accuracy  is: 0.876 +/- 0.043\n",
      "AUC       is: 0.930 +/- 0.045\n",
      "Precision is: 0.851 +/- 0.072\n",
      "Recall    is: 0.874 +/- 0.074\n"
     ]
    }
   ],
   "source": [
    "run_classfier(clfs, X_num_cat,Y_num_cat_bin)"
   ]
  },
  {
   "cell_type": "markdown",
   "id": "81856330-6a12-48d3-a325-07fc377fd6db",
   "metadata": {},
   "source": [
    "# Classsification de texte "
   ]
  },
  {
   "cell_type": "code",
   "execution_count": 53,
   "id": "e23ff61c-f271-4c22-9cc4-699d1d812044",
   "metadata": {},
   "outputs": [
    {
     "data": {
      "text/html": [
       "<div>\n",
       "<style scoped>\n",
       "    .dataframe tbody tr th:only-of-type {\n",
       "        vertical-align: middle;\n",
       "    }\n",
       "\n",
       "    .dataframe tbody tr th {\n",
       "        vertical-align: top;\n",
       "    }\n",
       "\n",
       "    .dataframe thead th {\n",
       "        text-align: right;\n",
       "    }\n",
       "</style>\n",
       "<table border=\"1\" class=\"dataframe\">\n",
       "  <thead>\n",
       "    <tr style=\"text-align: right;\">\n",
       "      <th></th>\n",
       "      <th>0</th>\n",
       "      <th>1</th>\n",
       "    </tr>\n",
       "  </thead>\n",
       "  <tbody>\n",
       "    <tr>\n",
       "      <th>0</th>\n",
       "      <td>ham</td>\n",
       "      <td>Go until jurong point, crazy.. Available only ...</td>\n",
       "    </tr>\n",
       "    <tr>\n",
       "      <th>1</th>\n",
       "      <td>ham</td>\n",
       "      <td>Ok lar... Joking wif u oni...</td>\n",
       "    </tr>\n",
       "    <tr>\n",
       "      <th>2</th>\n",
       "      <td>spam</td>\n",
       "      <td>Free entry in 2 a wkly comp to win FA Cup fina...</td>\n",
       "    </tr>\n",
       "    <tr>\n",
       "      <th>3</th>\n",
       "      <td>ham</td>\n",
       "      <td>U dun say so early hor... U c already then say...</td>\n",
       "    </tr>\n",
       "    <tr>\n",
       "      <th>4</th>\n",
       "      <td>ham</td>\n",
       "      <td>Nah I don't think he goes to usf, he lives aro...</td>\n",
       "    </tr>\n",
       "  </tbody>\n",
       "</table>\n",
       "</div>"
      ],
      "text/plain": [
       "      0                                                  1\n",
       "0   ham  Go until jurong point, crazy.. Available only ...\n",
       "1   ham                      Ok lar... Joking wif u oni...\n",
       "2  spam  Free entry in 2 a wkly comp to win FA Cup fina...\n",
       "3   ham  U dun say so early hor... U c already then say...\n",
       "4   ham  Nah I don't think he goes to usf, he lives aro..."
      ]
     },
     "execution_count": 53,
     "metadata": {},
     "output_type": "execute_result"
    }
   ],
   "source": [
    "df_spam = pd.read_csv('SMSSpamCollection.data', sep='\\t', header = None)\n",
    "df_spam.head()"
   ]
  },
  {
   "cell_type": "markdown",
   "id": "10cb9143-be3d-41af-acac-a251918159c4",
   "metadata": {},
   "source": [
    "### Count Vectorizer"
   ]
  },
  {
   "cell_type": "code",
   "execution_count": 62,
   "id": "2f53e161-ff96-4776-b7d4-7db00f620061",
   "metadata": {},
   "outputs": [],
   "source": [
    "from sklearn.feature_extraction.text import CountVectorizer\n",
    "X_spam = df_spam[1]\n",
    "\n",
    "vectorizer = CountVectorizer(stop_words='english')\n",
    "X = vectorizer.fit_transform(X_spam).toarray()"
   ]
  },
  {
   "cell_type": "code",
   "execution_count": 63,
   "id": "268e5718-f6fb-4af3-81e0-2c8bcce4fdc4",
   "metadata": {},
   "outputs": [],
   "source": [
    "Y = df_spam[0]\n",
    "Y = np.where(Y == 'ham', 1, 0)"
   ]
  },
  {
   "cell_type": "code",
   "execution_count": 64,
   "id": "933a609b-90a6-4eb8-8cc2-2ec0aa9ec0f9",
   "metadata": {},
   "outputs": [
    {
     "name": "stdout",
     "output_type": "stream",
     "text": [
      "RF\n",
      "Accuracy  is: 0.979 +/- 0.005\n",
      "AUC       is: 0.989 +/- 0.005\n",
      "Precision is: 0.976 +/- 0.006\n",
      "Recall    is: 1.000 +/- 0.001\n",
      "KNN\n",
      "Accuracy  is: 0.897 +/- 0.015\n",
      "AUC       is: 0.839 +/- 0.033\n",
      "Precision is: 0.894 +/- 0.016\n",
      "Recall    is: 1.000 +/- 0.000\n",
      "NaiveBayesSimple\n",
      "Accuracy  is: 0.884 +/- 0.020\n",
      "AUC       is: 0.897 +/- 0.017\n",
      "Precision is: 0.986 +/- 0.003\n",
      "Recall    is: 0.879 +/- 0.021\n",
      "CART\n",
      "Accuracy  is: 0.973 +/- 0.008\n",
      "AUC       is: 0.923 +/- 0.018\n",
      "Precision is: 0.977 +/- 0.007\n",
      "Recall    is: 0.990 +/- 0.004\n",
      "ID3\n",
      "Accuracy  is: 0.969 +/- 0.005\n",
      "AUC       is: 0.917 +/- 0.016\n",
      "Precision is: 0.975 +/- 0.005\n",
      "Recall    is: 0.988 +/- 0.003\n",
      "DecisionStump\n",
      "Accuracy  is: 0.891 +/- 0.012\n",
      "AUC       is: 0.599 +/- 0.022\n",
      "Precision is: 0.890 +/- 0.013\n",
      "Recall    is: 0.997 +/- 0.002\n",
      "MultilayerPerceptron\n",
      "Accuracy  is: 0.984 +/- 0.005\n",
      "AUC       is: 0.982 +/- 0.008\n",
      "Precision is: 0.983 +/- 0.004\n",
      "Recall    is: 1.000 +/- 0.001\n",
      "kNN_5\n",
      "Accuracy  is: 0.914 +/- 0.013\n",
      "AUC       is: 0.835 +/- 0.034\n",
      "Precision is: 0.910 +/- 0.014\n",
      "Recall    is: 1.000 +/- 0.000\n"
     ]
    },
    {
     "ename": "KeyboardInterrupt",
     "evalue": "",
     "output_type": "error",
     "traceback": [
      "\u001b[1;31m---------------------------------------------------------------------------\u001b[0m",
      "\u001b[1;31mKeyboardInterrupt\u001b[0m                         Traceback (most recent call last)",
      "Cell \u001b[1;32mIn[64], line 1\u001b[0m\n\u001b[1;32m----> 1\u001b[0m run_classfier(clfs, X, Y)\n",
      "Cell \u001b[1;32mIn[32], line 8\u001b[0m, in \u001b[0;36mrun_classfier\u001b[1;34m(clfs, x_test, y_test)\u001b[0m\n\u001b[0;32m      6\u001b[0m cv_acc \u001b[38;5;241m=\u001b[39m cross_val_score(clf, x_test, y_test, cv\u001b[38;5;241m=\u001b[39mkf)\n\u001b[0;32m      7\u001b[0m cv_auc \u001b[38;5;241m=\u001b[39m cross_val_score(clf, x_test, y_test, cv\u001b[38;5;241m=\u001b[39mkf, scoring\u001b[38;5;241m=\u001b[39m\u001b[38;5;124m'\u001b[39m\u001b[38;5;124mroc_auc\u001b[39m\u001b[38;5;124m'\u001b[39m)\n\u001b[1;32m----> 8\u001b[0m cv_rec \u001b[38;5;241m=\u001b[39m cross_val_score(clf, x_test, y_test, cv\u001b[38;5;241m=\u001b[39mkf, scoring\u001b[38;5;241m=\u001b[39m\u001b[38;5;124m'\u001b[39m\u001b[38;5;124mprecision\u001b[39m\u001b[38;5;124m'\u001b[39m)\n\u001b[0;32m      9\u001b[0m cv_rcl \u001b[38;5;241m=\u001b[39m cross_val_score(clf, x_test, y_test, cv\u001b[38;5;241m=\u001b[39mkf, scoring\u001b[38;5;241m=\u001b[39m\u001b[38;5;124m'\u001b[39m\u001b[38;5;124mrecall\u001b[39m\u001b[38;5;124m'\u001b[39m)\n\u001b[0;32m     10\u001b[0m \u001b[38;5;28mprint\u001b[39m(\u001b[38;5;124m'\u001b[39m\u001b[38;5;132;01m{0}\u001b[39;00m\u001b[38;5;124m'\u001b[39m\u001b[38;5;241m.\u001b[39mformat(i))  \n",
      "File \u001b[1;32m~\\AppData\\Local\\anaconda3\\envs\\MLTP\\Lib\\site-packages\\sklearn\\model_selection\\_validation.py:562\u001b[0m, in \u001b[0;36mcross_val_score\u001b[1;34m(estimator, X, y, groups, scoring, cv, n_jobs, verbose, fit_params, pre_dispatch, error_score)\u001b[0m\n\u001b[0;32m    559\u001b[0m \u001b[38;5;66;03m# To ensure multimetric format is not supported\u001b[39;00m\n\u001b[0;32m    560\u001b[0m scorer \u001b[38;5;241m=\u001b[39m check_scoring(estimator, scoring\u001b[38;5;241m=\u001b[39mscoring)\n\u001b[1;32m--> 562\u001b[0m cv_results \u001b[38;5;241m=\u001b[39m cross_validate(\n\u001b[0;32m    563\u001b[0m     estimator\u001b[38;5;241m=\u001b[39mestimator,\n\u001b[0;32m    564\u001b[0m     X\u001b[38;5;241m=\u001b[39mX,\n\u001b[0;32m    565\u001b[0m     y\u001b[38;5;241m=\u001b[39my,\n\u001b[0;32m    566\u001b[0m     groups\u001b[38;5;241m=\u001b[39mgroups,\n\u001b[0;32m    567\u001b[0m     scoring\u001b[38;5;241m=\u001b[39m{\u001b[38;5;124m\"\u001b[39m\u001b[38;5;124mscore\u001b[39m\u001b[38;5;124m\"\u001b[39m: scorer},\n\u001b[0;32m    568\u001b[0m     cv\u001b[38;5;241m=\u001b[39mcv,\n\u001b[0;32m    569\u001b[0m     n_jobs\u001b[38;5;241m=\u001b[39mn_jobs,\n\u001b[0;32m    570\u001b[0m     verbose\u001b[38;5;241m=\u001b[39mverbose,\n\u001b[0;32m    571\u001b[0m     fit_params\u001b[38;5;241m=\u001b[39mfit_params,\n\u001b[0;32m    572\u001b[0m     pre_dispatch\u001b[38;5;241m=\u001b[39mpre_dispatch,\n\u001b[0;32m    573\u001b[0m     error_score\u001b[38;5;241m=\u001b[39merror_score,\n\u001b[0;32m    574\u001b[0m )\n\u001b[0;32m    575\u001b[0m \u001b[38;5;28;01mreturn\u001b[39;00m cv_results[\u001b[38;5;124m\"\u001b[39m\u001b[38;5;124mtest_score\u001b[39m\u001b[38;5;124m\"\u001b[39m]\n",
      "File \u001b[1;32m~\\AppData\\Local\\anaconda3\\envs\\MLTP\\Lib\\site-packages\\sklearn\\utils\\_param_validation.py:214\u001b[0m, in \u001b[0;36mvalidate_params.<locals>.decorator.<locals>.wrapper\u001b[1;34m(*args, **kwargs)\u001b[0m\n\u001b[0;32m    208\u001b[0m \u001b[38;5;28;01mtry\u001b[39;00m:\n\u001b[0;32m    209\u001b[0m     \u001b[38;5;28;01mwith\u001b[39;00m config_context(\n\u001b[0;32m    210\u001b[0m         skip_parameter_validation\u001b[38;5;241m=\u001b[39m(\n\u001b[0;32m    211\u001b[0m             prefer_skip_nested_validation \u001b[38;5;129;01mor\u001b[39;00m global_skip_validation\n\u001b[0;32m    212\u001b[0m         )\n\u001b[0;32m    213\u001b[0m     ):\n\u001b[1;32m--> 214\u001b[0m         \u001b[38;5;28;01mreturn\u001b[39;00m func(\u001b[38;5;241m*\u001b[39margs, \u001b[38;5;241m*\u001b[39m\u001b[38;5;241m*\u001b[39mkwargs)\n\u001b[0;32m    215\u001b[0m \u001b[38;5;28;01mexcept\u001b[39;00m InvalidParameterError \u001b[38;5;28;01mas\u001b[39;00m e:\n\u001b[0;32m    216\u001b[0m     \u001b[38;5;66;03m# When the function is just a wrapper around an estimator, we allow\u001b[39;00m\n\u001b[0;32m    217\u001b[0m     \u001b[38;5;66;03m# the function to delegate validation to the estimator, but we replace\u001b[39;00m\n\u001b[0;32m    218\u001b[0m     \u001b[38;5;66;03m# the name of the estimator by the name of the function in the error\u001b[39;00m\n\u001b[0;32m    219\u001b[0m     \u001b[38;5;66;03m# message to avoid confusion.\u001b[39;00m\n\u001b[0;32m    220\u001b[0m     msg \u001b[38;5;241m=\u001b[39m re\u001b[38;5;241m.\u001b[39msub(\n\u001b[0;32m    221\u001b[0m         \u001b[38;5;124mr\u001b[39m\u001b[38;5;124m\"\u001b[39m\u001b[38;5;124mparameter of \u001b[39m\u001b[38;5;124m\\\u001b[39m\u001b[38;5;124mw+ must be\u001b[39m\u001b[38;5;124m\"\u001b[39m,\n\u001b[0;32m    222\u001b[0m         \u001b[38;5;124mf\u001b[39m\u001b[38;5;124m\"\u001b[39m\u001b[38;5;124mparameter of \u001b[39m\u001b[38;5;132;01m{\u001b[39;00mfunc\u001b[38;5;241m.\u001b[39m\u001b[38;5;18m__qualname__\u001b[39m\u001b[38;5;132;01m}\u001b[39;00m\u001b[38;5;124m must be\u001b[39m\u001b[38;5;124m\"\u001b[39m,\n\u001b[0;32m    223\u001b[0m         \u001b[38;5;28mstr\u001b[39m(e),\n\u001b[0;32m    224\u001b[0m     )\n",
      "File \u001b[1;32m~\\AppData\\Local\\anaconda3\\envs\\MLTP\\Lib\\site-packages\\sklearn\\model_selection\\_validation.py:309\u001b[0m, in \u001b[0;36mcross_validate\u001b[1;34m(estimator, X, y, groups, scoring, cv, n_jobs, verbose, fit_params, pre_dispatch, return_train_score, return_estimator, return_indices, error_score)\u001b[0m\n\u001b[0;32m    306\u001b[0m \u001b[38;5;66;03m# We clone the estimator to make sure that all the folds are\u001b[39;00m\n\u001b[0;32m    307\u001b[0m \u001b[38;5;66;03m# independent, and that it is pickle-able.\u001b[39;00m\n\u001b[0;32m    308\u001b[0m parallel \u001b[38;5;241m=\u001b[39m Parallel(n_jobs\u001b[38;5;241m=\u001b[39mn_jobs, verbose\u001b[38;5;241m=\u001b[39mverbose, pre_dispatch\u001b[38;5;241m=\u001b[39mpre_dispatch)\n\u001b[1;32m--> 309\u001b[0m results \u001b[38;5;241m=\u001b[39m parallel(\n\u001b[0;32m    310\u001b[0m     delayed(_fit_and_score)(\n\u001b[0;32m    311\u001b[0m         clone(estimator),\n\u001b[0;32m    312\u001b[0m         X,\n\u001b[0;32m    313\u001b[0m         y,\n\u001b[0;32m    314\u001b[0m         scorers,\n\u001b[0;32m    315\u001b[0m         train,\n\u001b[0;32m    316\u001b[0m         test,\n\u001b[0;32m    317\u001b[0m         verbose,\n\u001b[0;32m    318\u001b[0m         \u001b[38;5;28;01mNone\u001b[39;00m,\n\u001b[0;32m    319\u001b[0m         fit_params,\n\u001b[0;32m    320\u001b[0m         return_train_score\u001b[38;5;241m=\u001b[39mreturn_train_score,\n\u001b[0;32m    321\u001b[0m         return_times\u001b[38;5;241m=\u001b[39m\u001b[38;5;28;01mTrue\u001b[39;00m,\n\u001b[0;32m    322\u001b[0m         return_estimator\u001b[38;5;241m=\u001b[39mreturn_estimator,\n\u001b[0;32m    323\u001b[0m         error_score\u001b[38;5;241m=\u001b[39merror_score,\n\u001b[0;32m    324\u001b[0m     )\n\u001b[0;32m    325\u001b[0m     \u001b[38;5;28;01mfor\u001b[39;00m train, test \u001b[38;5;129;01min\u001b[39;00m indices\n\u001b[0;32m    326\u001b[0m )\n\u001b[0;32m    328\u001b[0m _warn_or_raise_about_fit_failures(results, error_score)\n\u001b[0;32m    330\u001b[0m \u001b[38;5;66;03m# For callable scoring, the return type is only know after calling. If the\u001b[39;00m\n\u001b[0;32m    331\u001b[0m \u001b[38;5;66;03m# return type is a dictionary, the error scores can now be inserted with\u001b[39;00m\n\u001b[0;32m    332\u001b[0m \u001b[38;5;66;03m# the correct key.\u001b[39;00m\n",
      "File \u001b[1;32m~\\AppData\\Local\\anaconda3\\envs\\MLTP\\Lib\\site-packages\\sklearn\\utils\\parallel.py:65\u001b[0m, in \u001b[0;36mParallel.__call__\u001b[1;34m(self, iterable)\u001b[0m\n\u001b[0;32m     60\u001b[0m config \u001b[38;5;241m=\u001b[39m get_config()\n\u001b[0;32m     61\u001b[0m iterable_with_config \u001b[38;5;241m=\u001b[39m (\n\u001b[0;32m     62\u001b[0m     (_with_config(delayed_func, config), args, kwargs)\n\u001b[0;32m     63\u001b[0m     \u001b[38;5;28;01mfor\u001b[39;00m delayed_func, args, kwargs \u001b[38;5;129;01min\u001b[39;00m iterable\n\u001b[0;32m     64\u001b[0m )\n\u001b[1;32m---> 65\u001b[0m \u001b[38;5;28;01mreturn\u001b[39;00m \u001b[38;5;28msuper\u001b[39m()\u001b[38;5;241m.\u001b[39m\u001b[38;5;21m__call__\u001b[39m(iterable_with_config)\n",
      "File \u001b[1;32m~\\AppData\\Local\\anaconda3\\envs\\MLTP\\Lib\\site-packages\\joblib\\parallel.py:1863\u001b[0m, in \u001b[0;36mParallel.__call__\u001b[1;34m(self, iterable)\u001b[0m\n\u001b[0;32m   1861\u001b[0m     output \u001b[38;5;241m=\u001b[39m \u001b[38;5;28mself\u001b[39m\u001b[38;5;241m.\u001b[39m_get_sequential_output(iterable)\n\u001b[0;32m   1862\u001b[0m     \u001b[38;5;28mnext\u001b[39m(output)\n\u001b[1;32m-> 1863\u001b[0m     \u001b[38;5;28;01mreturn\u001b[39;00m output \u001b[38;5;28;01mif\u001b[39;00m \u001b[38;5;28mself\u001b[39m\u001b[38;5;241m.\u001b[39mreturn_generator \u001b[38;5;28;01melse\u001b[39;00m \u001b[38;5;28mlist\u001b[39m(output)\n\u001b[0;32m   1865\u001b[0m \u001b[38;5;66;03m# Let's create an ID that uniquely identifies the current call. If the\u001b[39;00m\n\u001b[0;32m   1866\u001b[0m \u001b[38;5;66;03m# call is interrupted early and that the same instance is immediately\u001b[39;00m\n\u001b[0;32m   1867\u001b[0m \u001b[38;5;66;03m# re-used, this id will be used to prevent workers that were\u001b[39;00m\n\u001b[0;32m   1868\u001b[0m \u001b[38;5;66;03m# concurrently finalizing a task from the previous call to run the\u001b[39;00m\n\u001b[0;32m   1869\u001b[0m \u001b[38;5;66;03m# callback.\u001b[39;00m\n\u001b[0;32m   1870\u001b[0m \u001b[38;5;28;01mwith\u001b[39;00m \u001b[38;5;28mself\u001b[39m\u001b[38;5;241m.\u001b[39m_lock:\n",
      "File \u001b[1;32m~\\AppData\\Local\\anaconda3\\envs\\MLTP\\Lib\\site-packages\\joblib\\parallel.py:1792\u001b[0m, in \u001b[0;36mParallel._get_sequential_output\u001b[1;34m(self, iterable)\u001b[0m\n\u001b[0;32m   1790\u001b[0m \u001b[38;5;28mself\u001b[39m\u001b[38;5;241m.\u001b[39mn_dispatched_batches \u001b[38;5;241m+\u001b[39m\u001b[38;5;241m=\u001b[39m \u001b[38;5;241m1\u001b[39m\n\u001b[0;32m   1791\u001b[0m \u001b[38;5;28mself\u001b[39m\u001b[38;5;241m.\u001b[39mn_dispatched_tasks \u001b[38;5;241m+\u001b[39m\u001b[38;5;241m=\u001b[39m \u001b[38;5;241m1\u001b[39m\n\u001b[1;32m-> 1792\u001b[0m res \u001b[38;5;241m=\u001b[39m func(\u001b[38;5;241m*\u001b[39margs, \u001b[38;5;241m*\u001b[39m\u001b[38;5;241m*\u001b[39mkwargs)\n\u001b[0;32m   1793\u001b[0m \u001b[38;5;28mself\u001b[39m\u001b[38;5;241m.\u001b[39mn_completed_tasks \u001b[38;5;241m+\u001b[39m\u001b[38;5;241m=\u001b[39m \u001b[38;5;241m1\u001b[39m\n\u001b[0;32m   1794\u001b[0m \u001b[38;5;28mself\u001b[39m\u001b[38;5;241m.\u001b[39mprint_progress()\n",
      "File \u001b[1;32m~\\AppData\\Local\\anaconda3\\envs\\MLTP\\Lib\\site-packages\\sklearn\\utils\\parallel.py:127\u001b[0m, in \u001b[0;36m_FuncWrapper.__call__\u001b[1;34m(self, *args, **kwargs)\u001b[0m\n\u001b[0;32m    125\u001b[0m     config \u001b[38;5;241m=\u001b[39m {}\n\u001b[0;32m    126\u001b[0m \u001b[38;5;28;01mwith\u001b[39;00m config_context(\u001b[38;5;241m*\u001b[39m\u001b[38;5;241m*\u001b[39mconfig):\n\u001b[1;32m--> 127\u001b[0m     \u001b[38;5;28;01mreturn\u001b[39;00m \u001b[38;5;28mself\u001b[39m\u001b[38;5;241m.\u001b[39mfunction(\u001b[38;5;241m*\u001b[39margs, \u001b[38;5;241m*\u001b[39m\u001b[38;5;241m*\u001b[39mkwargs)\n",
      "File \u001b[1;32m~\\AppData\\Local\\anaconda3\\envs\\MLTP\\Lib\\site-packages\\sklearn\\model_selection\\_validation.py:729\u001b[0m, in \u001b[0;36m_fit_and_score\u001b[1;34m(estimator, X, y, scorer, train, test, verbose, parameters, fit_params, return_train_score, return_parameters, return_n_test_samples, return_times, return_estimator, split_progress, candidate_progress, error_score)\u001b[0m\n\u001b[0;32m    727\u001b[0m         estimator\u001b[38;5;241m.\u001b[39mfit(X_train, \u001b[38;5;241m*\u001b[39m\u001b[38;5;241m*\u001b[39mfit_params)\n\u001b[0;32m    728\u001b[0m     \u001b[38;5;28;01melse\u001b[39;00m:\n\u001b[1;32m--> 729\u001b[0m         estimator\u001b[38;5;241m.\u001b[39mfit(X_train, y_train, \u001b[38;5;241m*\u001b[39m\u001b[38;5;241m*\u001b[39mfit_params)\n\u001b[0;32m    731\u001b[0m \u001b[38;5;28;01mexcept\u001b[39;00m \u001b[38;5;167;01mException\u001b[39;00m:\n\u001b[0;32m    732\u001b[0m     \u001b[38;5;66;03m# Note fit time as time until error\u001b[39;00m\n\u001b[0;32m    733\u001b[0m     fit_time \u001b[38;5;241m=\u001b[39m time\u001b[38;5;241m.\u001b[39mtime() \u001b[38;5;241m-\u001b[39m start_time\n",
      "File \u001b[1;32m~\\AppData\\Local\\anaconda3\\envs\\MLTP\\Lib\\site-packages\\sklearn\\base.py:1152\u001b[0m, in \u001b[0;36m_fit_context.<locals>.decorator.<locals>.wrapper\u001b[1;34m(estimator, *args, **kwargs)\u001b[0m\n\u001b[0;32m   1145\u001b[0m     estimator\u001b[38;5;241m.\u001b[39m_validate_params()\n\u001b[0;32m   1147\u001b[0m \u001b[38;5;28;01mwith\u001b[39;00m config_context(\n\u001b[0;32m   1148\u001b[0m     skip_parameter_validation\u001b[38;5;241m=\u001b[39m(\n\u001b[0;32m   1149\u001b[0m         prefer_skip_nested_validation \u001b[38;5;129;01mor\u001b[39;00m global_skip_validation\n\u001b[0;32m   1150\u001b[0m     )\n\u001b[0;32m   1151\u001b[0m ):\n\u001b[1;32m-> 1152\u001b[0m     \u001b[38;5;28;01mreturn\u001b[39;00m fit_method(estimator, \u001b[38;5;241m*\u001b[39margs, \u001b[38;5;241m*\u001b[39m\u001b[38;5;241m*\u001b[39mkwargs)\n",
      "File \u001b[1;32m~\\AppData\\Local\\anaconda3\\envs\\MLTP\\Lib\\site-packages\\sklearn\\ensemble\\_bagging.py:338\u001b[0m, in \u001b[0;36mBaseBagging.fit\u001b[1;34m(self, X, y, sample_weight)\u001b[0m\n\u001b[0;32m    329\u001b[0m \u001b[38;5;66;03m# Convert data (X is required to be 2d and indexable)\u001b[39;00m\n\u001b[0;32m    330\u001b[0m X, y \u001b[38;5;241m=\u001b[39m \u001b[38;5;28mself\u001b[39m\u001b[38;5;241m.\u001b[39m_validate_data(\n\u001b[0;32m    331\u001b[0m     X,\n\u001b[0;32m    332\u001b[0m     y,\n\u001b[1;32m   (...)\u001b[0m\n\u001b[0;32m    336\u001b[0m     multi_output\u001b[38;5;241m=\u001b[39m\u001b[38;5;28;01mTrue\u001b[39;00m,\n\u001b[0;32m    337\u001b[0m )\n\u001b[1;32m--> 338\u001b[0m \u001b[38;5;28;01mreturn\u001b[39;00m \u001b[38;5;28mself\u001b[39m\u001b[38;5;241m.\u001b[39m_fit(X, y, \u001b[38;5;28mself\u001b[39m\u001b[38;5;241m.\u001b[39mmax_samples, sample_weight\u001b[38;5;241m=\u001b[39msample_weight)\n",
      "File \u001b[1;32m~\\AppData\\Local\\anaconda3\\envs\\MLTP\\Lib\\site-packages\\sklearn\\ensemble\\_bagging.py:473\u001b[0m, in \u001b[0;36mBaseBagging._fit\u001b[1;34m(self, X, y, max_samples, max_depth, sample_weight, check_input)\u001b[0m\n\u001b[0;32m    470\u001b[0m seeds \u001b[38;5;241m=\u001b[39m random_state\u001b[38;5;241m.\u001b[39mrandint(MAX_INT, size\u001b[38;5;241m=\u001b[39mn_more_estimators)\n\u001b[0;32m    471\u001b[0m \u001b[38;5;28mself\u001b[39m\u001b[38;5;241m.\u001b[39m_seeds \u001b[38;5;241m=\u001b[39m seeds\n\u001b[1;32m--> 473\u001b[0m all_results \u001b[38;5;241m=\u001b[39m Parallel(\n\u001b[0;32m    474\u001b[0m     n_jobs\u001b[38;5;241m=\u001b[39mn_jobs, verbose\u001b[38;5;241m=\u001b[39m\u001b[38;5;28mself\u001b[39m\u001b[38;5;241m.\u001b[39mverbose, \u001b[38;5;241m*\u001b[39m\u001b[38;5;241m*\u001b[39m\u001b[38;5;28mself\u001b[39m\u001b[38;5;241m.\u001b[39m_parallel_args()\n\u001b[0;32m    475\u001b[0m )(\n\u001b[0;32m    476\u001b[0m     delayed(_parallel_build_estimators)(\n\u001b[0;32m    477\u001b[0m         n_estimators[i],\n\u001b[0;32m    478\u001b[0m         \u001b[38;5;28mself\u001b[39m,\n\u001b[0;32m    479\u001b[0m         X,\n\u001b[0;32m    480\u001b[0m         y,\n\u001b[0;32m    481\u001b[0m         sample_weight,\n\u001b[0;32m    482\u001b[0m         seeds[starts[i] : starts[i \u001b[38;5;241m+\u001b[39m \u001b[38;5;241m1\u001b[39m]],\n\u001b[0;32m    483\u001b[0m         total_n_estimators,\n\u001b[0;32m    484\u001b[0m         verbose\u001b[38;5;241m=\u001b[39m\u001b[38;5;28mself\u001b[39m\u001b[38;5;241m.\u001b[39mverbose,\n\u001b[0;32m    485\u001b[0m         check_input\u001b[38;5;241m=\u001b[39mcheck_input,\n\u001b[0;32m    486\u001b[0m     )\n\u001b[0;32m    487\u001b[0m     \u001b[38;5;28;01mfor\u001b[39;00m i \u001b[38;5;129;01min\u001b[39;00m \u001b[38;5;28mrange\u001b[39m(n_jobs)\n\u001b[0;32m    488\u001b[0m )\n\u001b[0;32m    490\u001b[0m \u001b[38;5;66;03m# Reduce\u001b[39;00m\n\u001b[0;32m    491\u001b[0m \u001b[38;5;28mself\u001b[39m\u001b[38;5;241m.\u001b[39mestimators_ \u001b[38;5;241m+\u001b[39m\u001b[38;5;241m=\u001b[39m \u001b[38;5;28mlist\u001b[39m(\n\u001b[0;32m    492\u001b[0m     itertools\u001b[38;5;241m.\u001b[39mchain\u001b[38;5;241m.\u001b[39mfrom_iterable(t[\u001b[38;5;241m0\u001b[39m] \u001b[38;5;28;01mfor\u001b[39;00m t \u001b[38;5;129;01min\u001b[39;00m all_results)\n\u001b[0;32m    493\u001b[0m )\n",
      "File \u001b[1;32m~\\AppData\\Local\\anaconda3\\envs\\MLTP\\Lib\\site-packages\\sklearn\\utils\\parallel.py:65\u001b[0m, in \u001b[0;36mParallel.__call__\u001b[1;34m(self, iterable)\u001b[0m\n\u001b[0;32m     60\u001b[0m config \u001b[38;5;241m=\u001b[39m get_config()\n\u001b[0;32m     61\u001b[0m iterable_with_config \u001b[38;5;241m=\u001b[39m (\n\u001b[0;32m     62\u001b[0m     (_with_config(delayed_func, config), args, kwargs)\n\u001b[0;32m     63\u001b[0m     \u001b[38;5;28;01mfor\u001b[39;00m delayed_func, args, kwargs \u001b[38;5;129;01min\u001b[39;00m iterable\n\u001b[0;32m     64\u001b[0m )\n\u001b[1;32m---> 65\u001b[0m \u001b[38;5;28;01mreturn\u001b[39;00m \u001b[38;5;28msuper\u001b[39m()\u001b[38;5;241m.\u001b[39m\u001b[38;5;21m__call__\u001b[39m(iterable_with_config)\n",
      "File \u001b[1;32m~\\AppData\\Local\\anaconda3\\envs\\MLTP\\Lib\\site-packages\\joblib\\parallel.py:1863\u001b[0m, in \u001b[0;36mParallel.__call__\u001b[1;34m(self, iterable)\u001b[0m\n\u001b[0;32m   1861\u001b[0m     output \u001b[38;5;241m=\u001b[39m \u001b[38;5;28mself\u001b[39m\u001b[38;5;241m.\u001b[39m_get_sequential_output(iterable)\n\u001b[0;32m   1862\u001b[0m     \u001b[38;5;28mnext\u001b[39m(output)\n\u001b[1;32m-> 1863\u001b[0m     \u001b[38;5;28;01mreturn\u001b[39;00m output \u001b[38;5;28;01mif\u001b[39;00m \u001b[38;5;28mself\u001b[39m\u001b[38;5;241m.\u001b[39mreturn_generator \u001b[38;5;28;01melse\u001b[39;00m \u001b[38;5;28mlist\u001b[39m(output)\n\u001b[0;32m   1865\u001b[0m \u001b[38;5;66;03m# Let's create an ID that uniquely identifies the current call. If the\u001b[39;00m\n\u001b[0;32m   1866\u001b[0m \u001b[38;5;66;03m# call is interrupted early and that the same instance is immediately\u001b[39;00m\n\u001b[0;32m   1867\u001b[0m \u001b[38;5;66;03m# re-used, this id will be used to prevent workers that were\u001b[39;00m\n\u001b[0;32m   1868\u001b[0m \u001b[38;5;66;03m# concurrently finalizing a task from the previous call to run the\u001b[39;00m\n\u001b[0;32m   1869\u001b[0m \u001b[38;5;66;03m# callback.\u001b[39;00m\n\u001b[0;32m   1870\u001b[0m \u001b[38;5;28;01mwith\u001b[39;00m \u001b[38;5;28mself\u001b[39m\u001b[38;5;241m.\u001b[39m_lock:\n",
      "File \u001b[1;32m~\\AppData\\Local\\anaconda3\\envs\\MLTP\\Lib\\site-packages\\joblib\\parallel.py:1792\u001b[0m, in \u001b[0;36mParallel._get_sequential_output\u001b[1;34m(self, iterable)\u001b[0m\n\u001b[0;32m   1790\u001b[0m \u001b[38;5;28mself\u001b[39m\u001b[38;5;241m.\u001b[39mn_dispatched_batches \u001b[38;5;241m+\u001b[39m\u001b[38;5;241m=\u001b[39m \u001b[38;5;241m1\u001b[39m\n\u001b[0;32m   1791\u001b[0m \u001b[38;5;28mself\u001b[39m\u001b[38;5;241m.\u001b[39mn_dispatched_tasks \u001b[38;5;241m+\u001b[39m\u001b[38;5;241m=\u001b[39m \u001b[38;5;241m1\u001b[39m\n\u001b[1;32m-> 1792\u001b[0m res \u001b[38;5;241m=\u001b[39m func(\u001b[38;5;241m*\u001b[39margs, \u001b[38;5;241m*\u001b[39m\u001b[38;5;241m*\u001b[39mkwargs)\n\u001b[0;32m   1793\u001b[0m \u001b[38;5;28mself\u001b[39m\u001b[38;5;241m.\u001b[39mn_completed_tasks \u001b[38;5;241m+\u001b[39m\u001b[38;5;241m=\u001b[39m \u001b[38;5;241m1\u001b[39m\n\u001b[0;32m   1794\u001b[0m \u001b[38;5;28mself\u001b[39m\u001b[38;5;241m.\u001b[39mprint_progress()\n",
      "File \u001b[1;32m~\\AppData\\Local\\anaconda3\\envs\\MLTP\\Lib\\site-packages\\sklearn\\utils\\parallel.py:127\u001b[0m, in \u001b[0;36m_FuncWrapper.__call__\u001b[1;34m(self, *args, **kwargs)\u001b[0m\n\u001b[0;32m    125\u001b[0m     config \u001b[38;5;241m=\u001b[39m {}\n\u001b[0;32m    126\u001b[0m \u001b[38;5;28;01mwith\u001b[39;00m config_context(\u001b[38;5;241m*\u001b[39m\u001b[38;5;241m*\u001b[39mconfig):\n\u001b[1;32m--> 127\u001b[0m     \u001b[38;5;28;01mreturn\u001b[39;00m \u001b[38;5;28mself\u001b[39m\u001b[38;5;241m.\u001b[39mfunction(\u001b[38;5;241m*\u001b[39margs, \u001b[38;5;241m*\u001b[39m\u001b[38;5;241m*\u001b[39mkwargs)\n",
      "File \u001b[1;32m~\\AppData\\Local\\anaconda3\\envs\\MLTP\\Lib\\site-packages\\sklearn\\ensemble\\_bagging.py:141\u001b[0m, in \u001b[0;36m_parallel_build_estimators\u001b[1;34m(n_estimators, ensemble, X, y, sample_weight, seeds, total_n_estimators, verbose, check_input)\u001b[0m\n\u001b[0;32m    138\u001b[0m         curr_sample_weight[not_indices_mask] \u001b[38;5;241m=\u001b[39m \u001b[38;5;241m0\u001b[39m\n\u001b[0;32m    140\u001b[0m     X_ \u001b[38;5;241m=\u001b[39m X[:, features] \u001b[38;5;28;01mif\u001b[39;00m requires_feature_indexing \u001b[38;5;28;01melse\u001b[39;00m X\n\u001b[1;32m--> 141\u001b[0m     estimator_fit(X_, y, sample_weight\u001b[38;5;241m=\u001b[39mcurr_sample_weight)\n\u001b[0;32m    142\u001b[0m \u001b[38;5;28;01melse\u001b[39;00m:\n\u001b[0;32m    143\u001b[0m     X_ \u001b[38;5;241m=\u001b[39m X[indices][:, features] \u001b[38;5;28;01mif\u001b[39;00m requires_feature_indexing \u001b[38;5;28;01melse\u001b[39;00m X[indices]\n",
      "File \u001b[1;32m~\\AppData\\Local\\anaconda3\\envs\\MLTP\\Lib\\site-packages\\sklearn\\base.py:1152\u001b[0m, in \u001b[0;36m_fit_context.<locals>.decorator.<locals>.wrapper\u001b[1;34m(estimator, *args, **kwargs)\u001b[0m\n\u001b[0;32m   1145\u001b[0m     estimator\u001b[38;5;241m.\u001b[39m_validate_params()\n\u001b[0;32m   1147\u001b[0m \u001b[38;5;28;01mwith\u001b[39;00m config_context(\n\u001b[0;32m   1148\u001b[0m     skip_parameter_validation\u001b[38;5;241m=\u001b[39m(\n\u001b[0;32m   1149\u001b[0m         prefer_skip_nested_validation \u001b[38;5;129;01mor\u001b[39;00m global_skip_validation\n\u001b[0;32m   1150\u001b[0m     )\n\u001b[0;32m   1151\u001b[0m ):\n\u001b[1;32m-> 1152\u001b[0m     \u001b[38;5;28;01mreturn\u001b[39;00m fit_method(estimator, \u001b[38;5;241m*\u001b[39margs, \u001b[38;5;241m*\u001b[39m\u001b[38;5;241m*\u001b[39mkwargs)\n",
      "File \u001b[1;32m~\\AppData\\Local\\anaconda3\\envs\\MLTP\\Lib\\site-packages\\sklearn\\tree\\_classes.py:959\u001b[0m, in \u001b[0;36mDecisionTreeClassifier.fit\u001b[1;34m(self, X, y, sample_weight, check_input)\u001b[0m\n\u001b[0;32m    928\u001b[0m \u001b[38;5;129m@_fit_context\u001b[39m(prefer_skip_nested_validation\u001b[38;5;241m=\u001b[39m\u001b[38;5;28;01mTrue\u001b[39;00m)\n\u001b[0;32m    929\u001b[0m \u001b[38;5;28;01mdef\u001b[39;00m \u001b[38;5;21mfit\u001b[39m(\u001b[38;5;28mself\u001b[39m, X, y, sample_weight\u001b[38;5;241m=\u001b[39m\u001b[38;5;28;01mNone\u001b[39;00m, check_input\u001b[38;5;241m=\u001b[39m\u001b[38;5;28;01mTrue\u001b[39;00m):\n\u001b[0;32m    930\u001b[0m \u001b[38;5;250m    \u001b[39m\u001b[38;5;124;03m\"\"\"Build a decision tree classifier from the training set (X, y).\u001b[39;00m\n\u001b[0;32m    931\u001b[0m \n\u001b[0;32m    932\u001b[0m \u001b[38;5;124;03m    Parameters\u001b[39;00m\n\u001b[1;32m   (...)\u001b[0m\n\u001b[0;32m    956\u001b[0m \u001b[38;5;124;03m        Fitted estimator.\u001b[39;00m\n\u001b[0;32m    957\u001b[0m \u001b[38;5;124;03m    \"\"\"\u001b[39;00m\n\u001b[1;32m--> 959\u001b[0m     \u001b[38;5;28msuper\u001b[39m()\u001b[38;5;241m.\u001b[39m_fit(\n\u001b[0;32m    960\u001b[0m         X,\n\u001b[0;32m    961\u001b[0m         y,\n\u001b[0;32m    962\u001b[0m         sample_weight\u001b[38;5;241m=\u001b[39msample_weight,\n\u001b[0;32m    963\u001b[0m         check_input\u001b[38;5;241m=\u001b[39mcheck_input,\n\u001b[0;32m    964\u001b[0m     )\n\u001b[0;32m    965\u001b[0m     \u001b[38;5;28;01mreturn\u001b[39;00m \u001b[38;5;28mself\u001b[39m\n",
      "File \u001b[1;32m~\\AppData\\Local\\anaconda3\\envs\\MLTP\\Lib\\site-packages\\sklearn\\tree\\_classes.py:443\u001b[0m, in \u001b[0;36mBaseDecisionTree._fit\u001b[1;34m(self, X, y, sample_weight, check_input, missing_values_in_feature_mask)\u001b[0m\n\u001b[0;32m    432\u001b[0m \u001b[38;5;28;01melse\u001b[39;00m:\n\u001b[0;32m    433\u001b[0m     builder \u001b[38;5;241m=\u001b[39m BestFirstTreeBuilder(\n\u001b[0;32m    434\u001b[0m         splitter,\n\u001b[0;32m    435\u001b[0m         min_samples_split,\n\u001b[1;32m   (...)\u001b[0m\n\u001b[0;32m    440\u001b[0m         \u001b[38;5;28mself\u001b[39m\u001b[38;5;241m.\u001b[39mmin_impurity_decrease,\n\u001b[0;32m    441\u001b[0m     )\n\u001b[1;32m--> 443\u001b[0m builder\u001b[38;5;241m.\u001b[39mbuild(\u001b[38;5;28mself\u001b[39m\u001b[38;5;241m.\u001b[39mtree_, X, y, sample_weight, missing_values_in_feature_mask)\n\u001b[0;32m    445\u001b[0m \u001b[38;5;28;01mif\u001b[39;00m \u001b[38;5;28mself\u001b[39m\u001b[38;5;241m.\u001b[39mn_outputs_ \u001b[38;5;241m==\u001b[39m \u001b[38;5;241m1\u001b[39m \u001b[38;5;129;01mand\u001b[39;00m is_classifier(\u001b[38;5;28mself\u001b[39m):\n\u001b[0;32m    446\u001b[0m     \u001b[38;5;28mself\u001b[39m\u001b[38;5;241m.\u001b[39mn_classes_ \u001b[38;5;241m=\u001b[39m \u001b[38;5;28mself\u001b[39m\u001b[38;5;241m.\u001b[39mn_classes_[\u001b[38;5;241m0\u001b[39m]\n",
      "\u001b[1;31mKeyboardInterrupt\u001b[0m: "
     ]
    }
   ],
   "source": [
    "run_classfier(clfs, X, Y)"
   ]
  },
  {
   "cell_type": "markdown",
   "id": "1a1af997-ad19-43b6-80f5-dbf00c94fce8",
   "metadata": {},
   "source": [
    "### Tf-idf"
   ]
  },
  {
   "cell_type": "code",
   "execution_count": null,
   "id": "9284b4c0-1dd3-4b7d-8363-69cd2811ca62",
   "metadata": {},
   "outputs": [],
   "source": [
    "from sklearn.feature_extraction.text import TfidfVectorizer\n",
    "vectorizer = TfidfVectorizer()\n",
    "X = vectorizer.fit_transform(X).toarray()"
   ]
  },
  {
   "cell_type": "code",
   "execution_count": null,
   "id": "bb63b3c8-a90f-4f66-bd9b-7c146a52d259",
   "metadata": {},
   "outputs": [],
   "source": [
    "run_classfier(clfs, X, Y)"
   ]
  },
  {
   "cell_type": "markdown",
   "id": "b30d500c-71f5-4742-a8e6-fa9299b0f9fd",
   "metadata": {},
   "source": [
    "### TruncatedSVD "
   ]
  },
  {
   "cell_type": "code",
   "execution_count": null,
   "id": "5bf3b7b6-f2f3-4942-a67f-2103fea4fd55",
   "metadata": {},
   "outputs": [],
   "source": [
    "from sklearn.decomposition import TruncatedSVD\n",
    "svd = TruncatedSVD(n_components=5, n_iter=7, random_state=42)\n",
    "X = svd.fit(X)"
   ]
  },
  {
   "cell_type": "code",
   "execution_count": null,
   "id": "12530bdc-fee2-438a-8bac-15a32a536744",
   "metadata": {},
   "outputs": [],
   "source": [
    "run_classfier(clfs, X, Y)"
   ]
  },
  {
   "cell_type": "markdown",
   "id": "86c7e4bb-ef0a-4615-b4af-6557cd173d21",
   "metadata": {},
   "source": [
    "## Creation d'une pipeline"
   ]
  },
  {
   "cell_type": "code",
   "execution_count": 59,
   "id": "1f7831bd-3708-4f71-bf1a-0d4e214cc6d0",
   "metadata": {},
   "outputs": [],
   "source": [
    "def pipeline_traitement() :  \n",
    "  pipe = Pipeline([('count',CountVectorizer(stop_words = 'english')),\n",
    "                   ('weight',TfidfTransformer()),\n",
    "                   (\"svd\",TruncatedSVD(random_state=1))])\n",
    "  return pipe"
   ]
  },
  {
   "cell_type": "code",
   "execution_count": null,
   "id": "3e76818c-82e9-4b7f-b722-b5617cefadf3",
   "metadata": {},
   "outputs": [],
   "source": [
    "pipe_nlp = pipeline_traitement()\n",
    "pip_nlp_fit = pipe_nlp.fit(X_spam)"
   ]
  },
  {
   "cell_type": "code",
   "execution_count": null,
   "id": "0a2e327f-0826-44e1-8723-7f34864b5c5f",
   "metadata": {},
   "outputs": [],
   "source": []
  }
 ],
 "metadata": {
  "kernelspec": {
   "display_name": "Python 3 (ipykernel)",
   "language": "python",
   "name": "python3"
  },
  "language_info": {
   "codemirror_mode": {
    "name": "ipython",
    "version": 3
   },
   "file_extension": ".py",
   "mimetype": "text/x-python",
   "name": "python",
   "nbconvert_exporter": "python",
   "pygments_lexer": "ipython3",
   "version": "3.11.5"
  }
 },
 "nbformat": 4,
 "nbformat_minor": 5
}
