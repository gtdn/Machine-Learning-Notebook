{
  "nbformat": 4,
  "nbformat_minor": 0,
  "metadata": {
    "colab": {
      "name": "main.ipynb",
      "provenance": [],
      "collapsed_sections": []
    },
    "kernelspec": {
      "name": "python3",
      "display_name": "Python 3"
    },
    "language_info": {
      "name": "python"
    }
  },
  "cells": [
    {
      "cell_type": "code",
      "metadata": {
        "id": "Ft7uHAu5qPdf"
      },
      "source": [
        "import numpy as np\n",
        "np.set_printoptions(threshold=10000,suppress=True)\n",
        "import pandas as pd\n",
        "import warnings\n",
        "import matplotlib.pyplot as plt\n",
        "warnings.filterwarnings('ignore')\n"
      ],
      "execution_count": null,
      "outputs": []
    },
    {
      "cell_type": "code",
      "metadata": {
        "colab": {
          "base_uri": "https://localhost:8080/"
        },
        "id": "9nJnvoo0qTwF",
        "outputId": "e96cfc4c-8583-4903-aa9a-2dd8377f5dac"
      },
      "source": [
        "data = pd.read_csv('./villes.csv', sep=';')\n",
        "X = data.iloc[:, 1:13].values\n",
        "labels_villes = data.iloc[:, 0].values\n",
        "\n",
        "from sklearn.preprocessing import StandardScaler\n",
        "data.shape\n"
      ],
      "execution_count": null,
      "outputs": [
        {
          "output_type": "execute_result",
          "data": {
            "text/plain": [
              "(32, 13)"
            ]
          },
          "metadata": {},
          "execution_count": 30
        }
      ]
    },
    {
      "cell_type": "code",
      "metadata": {
        "colab": {
          "base_uri": "https://localhost:8080/",
          "height": 266
        },
        "id": "DZkGk0TsvrhV",
        "outputId": "e528fe92-a52a-412a-f1dd-d2ff32098489"
      },
      "source": [
        "data.head(7)"
      ],
      "execution_count": null,
      "outputs": [
        {
          "output_type": "execute_result",
          "data": {
            "text/html": [
              "<div>\n",
              "<style scoped>\n",
              "    .dataframe tbody tr th:only-of-type {\n",
              "        vertical-align: middle;\n",
              "    }\n",
              "\n",
              "    .dataframe tbody tr th {\n",
              "        vertical-align: top;\n",
              "    }\n",
              "\n",
              "    .dataframe thead th {\n",
              "        text-align: right;\n",
              "    }\n",
              "</style>\n",
              "<table border=\"1\" class=\"dataframe\">\n",
              "  <thead>\n",
              "    <tr style=\"text-align: right;\">\n",
              "      <th></th>\n",
              "      <th>ville</th>\n",
              "      <th>janv</th>\n",
              "      <th>fev</th>\n",
              "      <th>mars</th>\n",
              "      <th>avril</th>\n",
              "      <th>mai</th>\n",
              "      <th>juin</th>\n",
              "      <th>juil</th>\n",
              "      <th>aout</th>\n",
              "      <th>sept</th>\n",
              "      <th>oct</th>\n",
              "      <th>nov</th>\n",
              "      <th>dec</th>\n",
              "    </tr>\n",
              "  </thead>\n",
              "  <tbody>\n",
              "    <tr>\n",
              "      <th>0</th>\n",
              "      <td>ajac</td>\n",
              "      <td>7.7</td>\n",
              "      <td>8.7</td>\n",
              "      <td>10.5</td>\n",
              "      <td>12.6</td>\n",
              "      <td>15.9</td>\n",
              "      <td>19.8</td>\n",
              "      <td>22.0</td>\n",
              "      <td>22.2</td>\n",
              "      <td>20.3</td>\n",
              "      <td>16.3</td>\n",
              "      <td>11.8</td>\n",
              "      <td>8.7</td>\n",
              "    </tr>\n",
              "    <tr>\n",
              "      <th>1</th>\n",
              "      <td>ange</td>\n",
              "      <td>4.2</td>\n",
              "      <td>4.9</td>\n",
              "      <td>7.9</td>\n",
              "      <td>10.4</td>\n",
              "      <td>13.6</td>\n",
              "      <td>17.0</td>\n",
              "      <td>18.7</td>\n",
              "      <td>18.4</td>\n",
              "      <td>16.1</td>\n",
              "      <td>11.7</td>\n",
              "      <td>7.6</td>\n",
              "      <td>4.9</td>\n",
              "    </tr>\n",
              "    <tr>\n",
              "      <th>2</th>\n",
              "      <td>ango</td>\n",
              "      <td>4.6</td>\n",
              "      <td>5.4</td>\n",
              "      <td>8.9</td>\n",
              "      <td>11.3</td>\n",
              "      <td>14.5</td>\n",
              "      <td>17.2</td>\n",
              "      <td>19.5</td>\n",
              "      <td>19.4</td>\n",
              "      <td>16.9</td>\n",
              "      <td>12.5</td>\n",
              "      <td>8.1</td>\n",
              "      <td>5.3</td>\n",
              "    </tr>\n",
              "    <tr>\n",
              "      <th>3</th>\n",
              "      <td>besa</td>\n",
              "      <td>1.1</td>\n",
              "      <td>2.2</td>\n",
              "      <td>6.4</td>\n",
              "      <td>9.7</td>\n",
              "      <td>13.6</td>\n",
              "      <td>16.9</td>\n",
              "      <td>18.7</td>\n",
              "      <td>18.3</td>\n",
              "      <td>15.5</td>\n",
              "      <td>10.4</td>\n",
              "      <td>5.7</td>\n",
              "      <td>2.0</td>\n",
              "    </tr>\n",
              "    <tr>\n",
              "      <th>4</th>\n",
              "      <td>biar</td>\n",
              "      <td>7.6</td>\n",
              "      <td>8.0</td>\n",
              "      <td>10.8</td>\n",
              "      <td>12.0</td>\n",
              "      <td>14.7</td>\n",
              "      <td>17.8</td>\n",
              "      <td>19.7</td>\n",
              "      <td>19.9</td>\n",
              "      <td>18.5</td>\n",
              "      <td>14.8</td>\n",
              "      <td>10.9</td>\n",
              "      <td>8.2</td>\n",
              "    </tr>\n",
              "    <tr>\n",
              "      <th>5</th>\n",
              "      <td>bord</td>\n",
              "      <td>5.6</td>\n",
              "      <td>6.6</td>\n",
              "      <td>10.3</td>\n",
              "      <td>12.8</td>\n",
              "      <td>15.8</td>\n",
              "      <td>19.3</td>\n",
              "      <td>20.9</td>\n",
              "      <td>21.0</td>\n",
              "      <td>18.6</td>\n",
              "      <td>13.8</td>\n",
              "      <td>9.1</td>\n",
              "      <td>6.2</td>\n",
              "    </tr>\n",
              "    <tr>\n",
              "      <th>6</th>\n",
              "      <td>bres</td>\n",
              "      <td>6.1</td>\n",
              "      <td>5.8</td>\n",
              "      <td>7.8</td>\n",
              "      <td>9.2</td>\n",
              "      <td>11.6</td>\n",
              "      <td>14.4</td>\n",
              "      <td>15.6</td>\n",
              "      <td>16.0</td>\n",
              "      <td>14.7</td>\n",
              "      <td>12.0</td>\n",
              "      <td>9.0</td>\n",
              "      <td>7.0</td>\n",
              "    </tr>\n",
              "  </tbody>\n",
              "</table>\n",
              "</div>"
            ],
            "text/plain": [
              "  ville  janv  fev  mars  avril   mai  juin  juil  aout  sept   oct   nov  dec\n",
              "0  ajac   7.7  8.7  10.5   12.6  15.9  19.8  22.0  22.2  20.3  16.3  11.8  8.7\n",
              "1  ange   4.2  4.9   7.9   10.4  13.6  17.0  18.7  18.4  16.1  11.7   7.6  4.9\n",
              "2  ango   4.6  5.4   8.9   11.3  14.5  17.2  19.5  19.4  16.9  12.5   8.1  5.3\n",
              "3  besa   1.1  2.2   6.4    9.7  13.6  16.9  18.7  18.3  15.5  10.4   5.7  2.0\n",
              "4  biar   7.6  8.0  10.8   12.0  14.7  17.8  19.7  19.9  18.5  14.8  10.9  8.2\n",
              "5  bord   5.6  6.6  10.3   12.8  15.8  19.3  20.9  21.0  18.6  13.8   9.1  6.2\n",
              "6  bres   6.1  5.8   7.8    9.2  11.6  14.4  15.6  16.0  14.7  12.0   9.0  7.0"
            ]
          },
          "metadata": {},
          "execution_count": 32
        }
      ]
    },
    {
      "cell_type": "code",
      "metadata": {
        "id": "t4i80IeHrK5m"
      },
      "source": [
        "scaler = StandardScaler()\n",
        "scaler.fit(X)\n",
        "scaler.mean_\n",
        "# Permet de normaliser les donnees\n",
        "normData = scaler.transform(X)"
      ],
      "execution_count": null,
      "outputs": []
    },
    {
      "cell_type": "code",
      "metadata": {
        "colab": {
          "base_uri": "https://localhost:8080/"
        },
        "id": "3YGLdc0lsAm-",
        "outputId": "79802f47-8d27-4b12-b2a0-32112319b4a5"
      },
      "source": [
        "from sklearn.decomposition import PCA\n",
        "# PCA permet de faire une reduction de dimension \n",
        "pca = PCA()\n",
        "pca.fit(normData)\n",
        "\n",
        "X_pca_villes = pca.transform(normData)\n",
        "\n",
        "pca.explained_variance_ratio_\n",
        "# La somme des deux premieres variances > 90 %, donc elle suffit pour conserver ce minimum\n",
        "# Si il trop petit on fait une exploration de donnée avec l'ACP"
      ],
      "execution_count": null,
      "outputs": [
        {
          "output_type": "execute_result",
          "data": {
            "text/plain": [
              "array([0.87268193, 0.11720602, 0.00469563, 0.00264791, 0.00113528,\n",
              "       0.00050136, 0.00042289, 0.00032817, 0.00015166, 0.00011764,\n",
              "       0.00008364, 0.00002786])"
            ]
          },
          "metadata": {},
          "execution_count": 41
        }
      ]
    },
    {
      "cell_type": "code",
      "metadata": {
        "colab": {
          "base_uri": "https://localhost:8080/"
        },
        "id": "icTTLIxlwvyC",
        "outputId": "53940075-55e2-4b50-fd00-56b3ab098db1"
      },
      "source": [
        "pca.components_[0,:]\n",
        "# Le maximum : 0.38887938\n",
        "# Tous les mois on a peu pres la meme importance car il fait une moyenne sur tous les mois \n",
        "# 1/ racine(12)"
      ],
      "execution_count": null,
      "outputs": [
        {
          "output_type": "execute_result",
          "data": {
            "text/plain": [
              "array([0.27151028, 0.28846164, 0.3010811 , 0.30354174, 0.28353089,\n",
              "       0.27841907, 0.27290295, 0.28757774, 0.30472022, 0.3038548 ,\n",
              "       0.29242808, 0.2729549 ])"
            ]
          },
          "metadata": {},
          "execution_count": 53
        }
      ]
    },
    {
      "cell_type": "code",
      "metadata": {
        "colab": {
          "base_uri": "https://localhost:8080/"
        },
        "id": "NzoLp2t0suVW",
        "outputId": "eba17be8-6059-4aa1-a6fd-28b52bed9e8b"
      },
      "source": [
        "pca.components_[1,:]\n",
        "# Tous les mois non pas le meme poid ici, il fait une distinction environs entre ete hiver"
      ],
      "execution_count": null,
      "outputs": [
        {
          "output_type": "execute_result",
          "data": {
            "text/plain": [
              "array([ 0.39933494,  0.29907184,  0.12943051, -0.11530598, -0.32314291,\n",
              "       -0.35846763, -0.38879639, -0.3010133 , -0.11231622,  0.12249226,\n",
              "        0.26269461,  0.38693688])"
            ]
          },
          "metadata": {},
          "execution_count": 54
        }
      ]
    },
    {
      "cell_type": "code",
      "metadata": {
        "colab": {
          "base_uri": "https://localhost:8080/",
          "height": 265
        },
        "id": "z_MMtRZJtsYP",
        "outputId": "45c98da3-6c04-492c-e00b-3978d06d99e4"
      },
      "source": [
        "import matplotlib \n",
        "import matplotlib.pyplot as plt\n",
        "plt.scatter(X_pca_villes[:, 0], X_pca_villes[:, 1])\n",
        "for label, x, y in zip(labels_villes, X_pca_villes[:, 0], X_pca_villes[:, 1]):\n",
        "    plt.annotate(label, xy=(x, y), xytext=(-0.2, 0.2), textcoords='offset points')\n",
        "plt.show()\n",
        "\n",
        "# En regardant les components et le graphe on peut dire par exemple : \n",
        "# Les temperatures a ajc ou perp sont plutot élevé toutes l'annéé, et a l'inverse à Lille plutot basse\n",
        "# Lyon et bres on en moyenne la meme temperature (environ), mais lyon a de gros ecarts"
      ],
      "execution_count": null,
      "outputs": [
        {
          "output_type": "display_data",
          "data": {
            "image/png": "[encoded data removed]",
            "text/plain": [
              "<Figure size 432x288 with 1 Axes>"
            ]
          },
          "metadata": {
            "needs_background": "light"
          }
        }
      ]
    },
    {
      "cell_type": "code",
      "metadata": {
        "colab": {
          "base_uri": "https://localhost:8080/"
        },
        "id": "K4p5dhfBvzNm",
        "outputId": "39a0d438-b3b0-4608-f298-18f697e623c0"
      },
      "source": [
        "# crimes.csv\n",
        "data_crimes = pd.read_csv('./crimes.csv', sep=';')\n",
        "X_crimes = data_crimes.iloc[:, 1:8].values\n",
        "labels_villes_crimes = data_crimes.iloc[:, 0].values\n",
        "\n",
        "data_crimes.shape"
      ],
      "execution_count": null,
      "outputs": [
        {
          "output_type": "execute_result",
          "data": {
            "text/plain": [
              "(50, 8)"
            ]
          },
          "metadata": {},
          "execution_count": 57
        }
      ]
    },
    {
      "cell_type": "code",
      "metadata": {
        "id": "Z7QFU5IXxfCz"
      },
      "source": [
        "scaler.fit(X_crimes)\n",
        "# Permet de normaliser les donnees\n",
        "# on ramène toutes les valeurs de la variable entre 0 et 1\n",
        "# tout en conservant les distances entre les valeurs\n",
        "\n",
        "# la standardisation, \n",
        "# elle a pour but de ramener la moyenne μ à 0 et l’écart-type σ à 1\n",
        "\n",
        "normDataCrime = scaler.transform(X_crimes)"
      ],
      "execution_count": null,
      "outputs": []
    },
    {
      "cell_type": "code",
      "metadata": {
        "colab": {
          "base_uri": "https://localhost:8080/"
        },
        "id": "kfLRAlgPyjpn",
        "outputId": "043090b1-9d01-40f4-90b2-80a689dddfd9"
      },
      "source": [
        "pca.fit(normDataCrime)\n",
        "\n",
        "X_crimes_pca_villes = pca.transform(normDataCrime)\n",
        "\n",
        "pca.explained_variance_ratio_"
      ],
      "execution_count": null,
      "outputs": [
        {
          "output_type": "execute_result",
          "data": {
            "text/plain": [
              "array([0.58785136, 0.17696026, 0.10368809, 0.04520458, 0.03685349,\n",
              "       0.03171992, 0.01772229])"
            ]
          },
          "metadata": {},
          "execution_count": 73
        }
      ]
    },
    {
      "cell_type": "code",
      "metadata": {
        "colab": {
          "base_uri": "https://localhost:8080/",
          "height": 265
        },
        "id": "CW5DDigdzx-n",
        "outputId": "4afae315-caf6-41af-d485-73c97ece2e4a"
      },
      "source": [
        "plt.scatter(X_crimes_pca_villes[:, 0], X_crimes_pca_villes[:, 1])\n",
        "for label, x, y in zip(labels_villes_crimes, X_crimes_pca_villes[:, 0], X_crimes_pca_villes[:, 1]):\n",
        "    plt.annotate(label, xy=(x, y), xytext=(-0.2, 0.2), textcoords='offset points')\n",
        "plt.show()\n",
        "\n",
        "# En regardant les components et le graphe on peut dire par exemple : \n",
        "# On peut voir que pour le Massachusetts il y enornement de vol de voiture et tres peu de meutre\n",
        "# Ou bien pour le Nevada, il y a beaucoup de crime repartie a peu pres pareillement, on pourrait le qualifier\n",
        "# d'état dangereux. A l'inverse, on pourrait dire que l'etat South Dakota est un état plus sur.\n"
      ],
      "execution_count": null,
      "outputs": [
        {
          "output_type": "display_data",
          "data": {
            "image/png": "[encoded data removed]",
            "text/plain": [
              "<Figure size 432x288 with 1 Axes>"
            ]
          },
          "metadata": {
            "needs_background": "light"
          }
        }
      ]
    },
    {
      "cell_type": "code",
      "metadata": {
        "colab": {
          "base_uri": "https://localhost:8080/"
        },
        "id": "9x4ehpBgttpW",
        "outputId": "c879631d-901d-43ec-b9fa-d46dfa0a1b0d"
      },
      "source": [
        "pca.components_[0,:]"
      ],
      "execution_count": null,
      "outputs": [
        {
          "output_type": "execute_result",
          "data": {
            "text/plain": [
              "array([0.30027916, 0.43175936, 0.39687549, 0.3966517 , 0.44015721,\n",
              "       0.35735953, 0.29517681])"
            ]
          },
          "metadata": {},
          "execution_count": 91
        }
      ]
    },
    {
      "cell_type": "code",
      "metadata": {
        "colab": {
          "base_uri": "https://localhost:8080/"
        },
        "id": "2TKhQzcBtwmV",
        "outputId": "4feab243-5c10-4fca-e8b9-c8fdba9838a6"
      },
      "source": [
        "pca.components_[1,:]"
      ],
      "execution_count": null,
      "outputs": [
        {
          "output_type": "execute_result",
          "data": {
            "text/plain": [
              "array([-0.62917444, -0.16943512,  0.04224698, -0.34352815,  0.20334059,\n",
              "        0.40231912,  0.50242093])"
            ]
          },
          "metadata": {},
          "execution_count": 92
        }
      ]
    },
    {
      "cell_type": "code",
      "metadata": {
        "colab": {
          "base_uri": "https://localhost:8080/"
        },
        "id": "04XCPw0WuAm5",
        "outputId": "30e953a5-3f99-415b-cecc-99469a8612af"
      },
      "source": [
        "pca.explained_variance_ratio_"
      ],
      "execution_count": null,
      "outputs": [
        {
          "output_type": "execute_result",
          "data": {
            "text/plain": [
              "array([0.58785136, 0.17696026, 0.10368809, 0.04520458, 0.03685349,\n",
              "       0.03171992, 0.01772229])"
            ]
          },
          "metadata": {},
          "execution_count": 93
        }
      ]
    },
    {
      "cell_type": "code",
      "metadata": {
        "colab": {
          "base_uri": "https://localhost:8080/"
        },
        "id": "4-n4rKg75Ewj",
        "outputId": "d166415c-99f8-483e-e208-e738de6d715a"
      },
      "source": [
        "# startup\n",
        "data_startup = pd.read_csv('./50_Startups.csv', sep=';')\n",
        "X_startup = data_startup.iloc[:, 1:5].values\n",
        "startup_labels = data_startup.iloc[:, 0].values\n",
        "\n",
        "data_startup.shape"
      ],
      "execution_count": null,
      "outputs": [
        {
          "output_type": "execute_result",
          "data": {
            "text/plain": [
              "(50, 5)"
            ]
          },
          "metadata": {},
          "execution_count": 97
        }
      ]
    },
    {
      "cell_type": "code",
      "metadata": {
        "colab": {
          "base_uri": "https://localhost:8080/"
        },
        "id": "DMoWUuON5j_T",
        "outputId": "83556687-4a19-4669-df13-0b4d40d43709"
      },
      "source": [
        "scaler.fit(X_startup)\n",
        "normDataStartUp = scaler.transform(X_startup)\n",
        "\n",
        "pca.fit(normDataStartUp)\n",
        "\n",
        "X_startup_id = pca.transform(normDataStartUp)\n",
        "\n",
        "pca.explained_variance_ratio_"
      ],
      "execution_count": null,
      "outputs": [
        {
          "output_type": "execute_result",
          "data": {
            "text/plain": [
              "array([0.66804393, 0.25484695, 0.07063561, 0.00647351])"
            ]
          },
          "metadata": {},
          "execution_count": 98
        }
      ]
    },
    {
      "cell_type": "code",
      "metadata": {
        "colab": {
          "base_uri": "https://localhost:8080/"
        },
        "id": "evvpGGUguvUU",
        "outputId": "efe64786-184e-48e2-8414-7df5c7e1d275"
      },
      "source": [
        "pca.components_[0,:]"
      ],
      "execution_count": null,
      "outputs": [
        {
          "output_type": "execute_result",
          "data": {
            "text/plain": [
              "array([0.59347855, 0.14737886, 0.52064694, 0.59580992])"
            ]
          },
          "metadata": {},
          "execution_count": 99
        }
      ]
    },
    {
      "cell_type": "code",
      "metadata": {
        "colab": {
          "base_uri": "https://localhost:8080/"
        },
        "id": "WXxLWOhmu3ke",
        "outputId": "8530859c-b915-4d39-ef8d-4a729b9e01b3"
      },
      "source": [
        "pca.components_[1,:]"
      ],
      "execution_count": null,
      "outputs": [
        {
          "output_type": "execute_result",
          "data": {
            "text/plain": [
              "array([-0.04048087, -0.95051314,  0.30797098,  0.00632069])"
            ]
          },
          "metadata": {},
          "execution_count": 100
        }
      ]
    },
    {
      "cell_type": "code",
      "metadata": {
        "colab": {
          "base_uri": "https://localhost:8080/",
          "height": 265
        },
        "id": "OJTwQzfB6IW-",
        "outputId": "719f7873-6b62-4d8f-a5a0-3354b57f7ece"
      },
      "source": [
        "plt.scatter(X_startup_id[:, 0], X_startup_id[:, 1])\n",
        "for label, x, y in zip(startup_labels, X_startup_id[:, 0], X_startup_id[:, 1]):\n",
        "    plt.annotate(label, xy=(x, y), xytext=(-0.2, 0.2), textcoords='offset points')\n",
        "plt.show()\n",
        "\n",
        "# En regardant les components et le graphe on peut dire par exemple : \n",
        "# On se rend compte que la startup 49 n'a presque aucune dépense et aucun benifice, c'est peut etre une startup qui débute\n",
        "# On peut dire les startup 3 ou 4 sont en bonne santé. Et on pourrait en déduire que l'investissement\n",
        "# dans la RetD et le marketing est porteur pour un grand bénéfice. "
      ],
      "execution_count": null,
      "outputs": [
        {
          "output_type": "display_data",
          "data": {
            "image/png": "[encoded data removed]",
            "text/plain": [
              "<Figure size 432x288 with 1 Axes>"
            ]
          },
          "metadata": {
            "needs_background": "light"
          }
        }
      ]
    },
    {
      "cell_type": "code",
      "metadata": {
        "id": "iGaXKvd-7bbT"
      },
      "source": [
        "# CLUSTERING\n",
        "from sklearn import cluster\n",
        "clus_k = cluster.KMeans(3).fit(X_pca_villes)"
      ],
      "execution_count": null,
      "outputs": []
    },
    {
      "cell_type": "code",
      "metadata": {
        "colab": {
          "base_uri": "https://localhost:8080/",
          "height": 265
        },
        "id": "YA-YDVqi8goe",
        "outputId": "4904dd10-b18a-4b80-e96d-4caddd40f01d"
      },
      "source": [
        "colors = ['red','yellow','blue','pink']\n",
        "plt.scatter(X_pca_villes[:, 0], X_pca_villes[:, 1], c= clus_k.labels_, cmap=matplotlib.colors.ListedColormap(colors))\n",
        "for label, x, y in zip(labels_villes, X_pca_villes[:, 0], X_pca_villes[:, 1]):\n",
        "  plt.annotate(label, xy=(x, y), xytext=(-0.2, 0.2), textcoords='offset points')\n",
        "plt.show()"
      ],
      "execution_count": null,
      "outputs": [
        {
          "output_type": "display_data",
          "data": {
            "image/png": "[encoded data removed]",
            "text/plain": [
              "<Figure size 432x288 with 1 Axes>"
            ]
          },
          "metadata": {
            "needs_background": "light"
          }
        }
      ]
    },
    {
      "cell_type": "code",
      "metadata": {
        "id": "w-MqNogOCjH2"
      },
      "source": [
        "from sklearn.cluster import AgglomerativeClustering\n",
        "clustering = AgglomerativeClustering().fit(X_pca_villes)"
      ],
      "execution_count": null,
      "outputs": []
    },
    {
      "cell_type": "code",
      "metadata": {
        "id": "vyldwaUyEKB-",
        "colab": {
          "base_uri": "https://localhost:8080/",
          "height": 265
        },
        "outputId": "c66bb5fc-5c0a-46e6-a048-b9101ddbccdb"
      },
      "source": [
        "clus_aglo_ward = cluster.AgglomerativeClustering(n_clusters=3, linkage='ward').fit(X_pca_villes)\n",
        "\n",
        "colors = ['red','yellow','blue','pink']\n",
        "plt.scatter(X_pca_villes[:, 0], X_pca_villes[:, 1], c= clus_aglo_ward.labels_, cmap=matplotlib.colors.ListedColormap(colors))\n",
        "for label, x, y in zip(labels_villes, X_pca_villes[:, 0], X_pca_villes[:, 1]):\n",
        "  plt.annotate(label, xy=(x, y), xytext=(-0.2, 0.2), textcoords='offset points')\n",
        "plt.show()"
      ],
      "execution_count": null,
      "outputs": [
        {
          "output_type": "display_data",
          "data": {
            "image/png": "[encoded data removed]",
            "text/plain": [
              "<Figure size 432x288 with 1 Axes>"
            ]
          },
          "metadata": {
            "needs_background": "light"
          }
        }
      ]
    },
    {
      "cell_type": "code",
      "metadata": {
        "colab": {
          "base_uri": "https://localhost:8080/"
        },
        "id": "bUc-7bgs8NwR",
        "outputId": "1cc3fc77-6590-4fd1-f675-0a1464f8b328"
      },
      "source": [
        "for i in np.arange(2, 6):\n",
        "    clustering = cluster.AgglomerativeClustering(n_clusters=i, linkage='ward').fit_predict(X_pca_villes)\n",
        "    print(metrics.silhouette_score(X_pca_villes, clustering,metric='euclidean'))\n",
        "    print()"
      ],
      "execution_count": null,
      "outputs": [
        {
          "output_type": "stream",
          "name": "stdout",
          "text": [
            "0.6255577191807671\n",
            "\n",
            "0.3680782608000546\n",
            "\n",
            "0.31825056633957605\n",
            "\n",
            "0.3327321988641236\n",
            "\n"
          ]
        }
      ]
    },
    {
      "cell_type": "code",
      "metadata": {
        "colab": {
          "base_uri": "https://localhost:8080/",
          "height": 265
        },
        "id": "kLDzZ_Qt7Cal",
        "outputId": "226e375a-452a-47df-fe33-603f9c4140dc"
      },
      "source": [
        "clus_aglo_average = cluster.AgglomerativeClustering(n_clusters=3, linkage='average').fit(X_pca_villes)\n",
        "\n",
        "colors = ['red','yellow','blue','pink']\n",
        "plt.scatter(X_pca_villes[:, 0], X_pca_villes[:, 1], c= clus_aglo_average.labels_, cmap=matplotlib.colors.ListedColormap(colors))\n",
        "for label, x, y in zip(labels_villes, X_pca_villes[:, 0], X_pca_villes[:, 1]):\n",
        "  plt.annotate(label, xy=(x, y), xytext=(-0.2, 0.2), textcoords='offset points')\n",
        "plt.show()"
      ],
      "execution_count": null,
      "outputs": [
        {
          "output_type": "display_data",
          "data": {
            "image/png": "[encoded data removed]",
            "text/plain": [
              "<Figure size 432x288 with 1 Axes>"
            ]
          },
          "metadata": {
            "needs_background": "light"
          }
        }
      ]
    },
    {
      "cell_type": "code",
      "metadata": {
        "colab": {
          "base_uri": "https://localhost:8080/"
        },
        "id": "OD1VG12D8JMO",
        "outputId": "dcca8b44-e326-441d-f1c9-f7745058350e"
      },
      "source": [
        "for i in np.arange(2, 6):\n",
        "    clustering = cluster.AgglomerativeClustering(n_clusters=i, linkage='average').fit_predict(X_pca_villes)\n",
        "    print(metrics.silhouette_score(X_pca_villes, clustering,metric='euclidean'))\n",
        "    print()"
      ],
      "execution_count": null,
      "outputs": [
        {
          "output_type": "stream",
          "name": "stdout",
          "text": [
            "0.6255577191807671\n",
            "\n",
            "0.4956874462691092\n",
            "\n",
            "0.4040924812969341\n",
            "\n",
            "0.3394375281333686\n",
            "\n"
          ]
        }
      ]
    },
    {
      "cell_type": "code",
      "metadata": {
        "colab": {
          "base_uri": "https://localhost:8080/"
        },
        "id": "dq_G9L3U7HpI",
        "outputId": "5dd20c5d-cbb8-485f-9417-8564cb43c8bf"
      },
      "source": [
        "# partie 3\n",
        "for i in np.arange(2, 6):\n",
        "    clustering = cluster.AgglomerativeClustering(n_clusters=i, linkage='complete').fit_predict(X_pca_villes)\n",
        "    print(metrics.silhouette_score(X_pca_villes, clustering,metric='euclidean'))\n",
        "    print()\n",
        "\n",
        "# La premiere partition est la meilleure"
      ],
      "execution_count": null,
      "outputs": [
        {
          "output_type": "stream",
          "name": "stdout",
          "text": [
            "0.6255577191807671\n",
            "\n",
            "0.4956874462691092\n",
            "\n",
            "0.38222821542586827\n",
            "\n",
            "0.3327321988641236\n",
            "\n"
          ]
        }
      ]
    }
  ]
}