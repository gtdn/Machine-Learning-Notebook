{
 "cells": [
  {
   "cell_type": "code",
   "execution_count": 2,
   "id": "66b97df0",
   "metadata": {},
   "outputs": [],
   "source": [
    "import sklearn\n",
    "import pandas as pd\n",
    "from sklearn.ensemble import RandomForestRegressor\n",
    "from sklearn.metrics import r2_score"
   ]
  },
  {
   "cell_type": "markdown",
   "id": "a6d07e86",
   "metadata": {},
   "source": [
    "## Training model"
   ]
  },
  {
   "cell_type": "code",
   "execution_count": 3,
   "id": "15b1835a",
   "metadata": {},
   "outputs": [],
   "source": [
    "df_auto = pd.read_csv('datasets/automobiles_file1.csv')"
   ]
  },
  {
   "cell_type": "code",
   "execution_count": 4,
   "id": "176f9349",
   "metadata": {},
   "outputs": [],
   "source": [
    "df_auto_test = pd.read_csv('datasets/automobiles_test.csv')"
   ]
  },
  {
   "cell_type": "code",
   "execution_count": 6,
   "id": "14a9d33b",
   "metadata": {},
   "outputs": [],
   "source": [
    "x_train = df_auto.drop('price', axis=1)\n",
    "y_train = df_auto['price']"
   ]
  },
  {
   "cell_type": "code",
   "execution_count": 10,
   "id": "63d08ce6",
   "metadata": {},
   "outputs": [],
   "source": [
    "x_test = df_auto_test.drop('price', axis=1)\n",
    "y_test = df_auto_test['price']"
   ]
  },
  {
   "cell_type": "code",
   "execution_count": 8,
   "id": "978b9c52",
   "metadata": {},
   "outputs": [],
   "source": [
    "model = RandomForestRegressor(n_estimators=5, warm_start=True) # warm = True to re entrainer notre modèl\n",
    "rfr_model = model.fit(x_train, y_train)"
   ]
  },
  {
   "cell_type": "code",
   "execution_count": 11,
   "id": "2c01289e",
   "metadata": {},
   "outputs": [],
   "source": [
    "y_pred = rfr_model.predict(x_test)"
   ]
  },
  {
   "cell_type": "code",
   "execution_count": 12,
   "id": "ce305d3a",
   "metadata": {},
   "outputs": [
    {
     "name": "stdout",
     "output_type": "stream",
     "text": [
      "R2 score :  0.8424242674226292\n"
     ]
    }
   ],
   "source": [
    "print(\"R2 score : \", r2_score(y_test, y_pred))"
   ]
  },
  {
   "cell_type": "markdown",
   "id": "24584083",
   "metadata": {},
   "source": [
    "# To save param for the next train"
   ]
  },
  {
   "cell_type": "code",
   "execution_count": 13,
   "id": "5646f236",
   "metadata": {},
   "outputs": [],
   "source": [
    "\n",
    "rfr_model_param = {}\n",
    "rfr_model_param['model'] = rfr_model\n",
    "rfr_model_param['sklearn_version'] = sklearn.__version__\n",
    "rfr_model_param['r2_score'] = r2_score(y_test, y_pred)"
   ]
  },
  {
   "cell_type": "code",
   "execution_count": 14,
   "id": "e6ca2d50",
   "metadata": {},
   "outputs": [
    {
     "data": {
      "text/plain": [
       "{'model': RandomForestRegressor(n_estimators=5, warm_start=True),\n",
       " 'sklearn_version': '1.2.2',\n",
       " 'r2_score': 0.8424242674226292}"
      ]
     },
     "execution_count": 14,
     "metadata": {},
     "output_type": "execute_result"
    }
   ],
   "source": [
    "rfr_model_param"
   ]
  },
  {
   "cell_type": "code",
   "execution_count": 15,
   "id": "27bbab64",
   "metadata": {},
   "outputs": [],
   "source": [
    "## Export our model\n",
    "import joblib\n",
    "filename = 'models/rfr_model_checkpoint.joblib'"
   ]
  },
  {
   "cell_type": "code",
   "execution_count": 16,
   "id": "a7773d9e",
   "metadata": {},
   "outputs": [
    {
     "data": {
      "text/plain": [
       "['models/rfr_model_checkpoint.joblib']"
      ]
     },
     "execution_count": 16,
     "metadata": {},
     "output_type": "execute_result"
    }
   ],
   "source": [
    "joblib.dump(rfr_model_param, filename)"
   ]
  },
  {
   "cell_type": "code",
   "execution_count": 17,
   "id": "30babfef",
   "metadata": {},
   "outputs": [
    {
     "data": {
      "text/html": [
       "<style>#sk-container-id-1 {color: black;background-color: white;}#sk-container-id-1 pre{padding: 0;}#sk-container-id-1 div.sk-toggleable {background-color: white;}#sk-container-id-1 label.sk-toggleable__label {cursor: pointer;display: block;width: 100%;margin-bottom: 0;padding: 0.3em;box-sizing: border-box;text-align: center;}#sk-container-id-1 label.sk-toggleable__label-arrow:before {content: \"▸\";float: left;margin-right: 0.25em;color: #696969;}#sk-container-id-1 label.sk-toggleable__label-arrow:hover:before {color: black;}#sk-container-id-1 div.sk-estimator:hover label.sk-toggleable__label-arrow:before {color: black;}#sk-container-id-1 div.sk-toggleable__content {max-height: 0;max-width: 0;overflow: hidden;text-align: left;background-color: #f0f8ff;}#sk-container-id-1 div.sk-toggleable__content pre {margin: 0.2em;color: black;border-radius: 0.25em;background-color: #f0f8ff;}#sk-container-id-1 input.sk-toggleable__control:checked~div.sk-toggleable__content {max-height: 200px;max-width: 100%;overflow: auto;}#sk-container-id-1 input.sk-toggleable__control:checked~label.sk-toggleable__label-arrow:before {content: \"▾\";}#sk-container-id-1 div.sk-estimator input.sk-toggleable__control:checked~label.sk-toggleable__label {background-color: #d4ebff;}#sk-container-id-1 div.sk-label input.sk-toggleable__control:checked~label.sk-toggleable__label {background-color: #d4ebff;}#sk-container-id-1 input.sk-hidden--visually {border: 0;clip: rect(1px 1px 1px 1px);clip: rect(1px, 1px, 1px, 1px);height: 1px;margin: -1px;overflow: hidden;padding: 0;position: absolute;width: 1px;}#sk-container-id-1 div.sk-estimator {font-family: monospace;background-color: #f0f8ff;border: 1px dotted black;border-radius: 0.25em;box-sizing: border-box;margin-bottom: 0.5em;}#sk-container-id-1 div.sk-estimator:hover {background-color: #d4ebff;}#sk-container-id-1 div.sk-parallel-item::after {content: \"\";width: 100%;border-bottom: 1px solid gray;flex-grow: 1;}#sk-container-id-1 div.sk-label:hover label.sk-toggleable__label {background-color: #d4ebff;}#sk-container-id-1 div.sk-serial::before {content: \"\";position: absolute;border-left: 1px solid gray;box-sizing: border-box;top: 0;bottom: 0;left: 50%;z-index: 0;}#sk-container-id-1 div.sk-serial {display: flex;flex-direction: column;align-items: center;background-color: white;padding-right: 0.2em;padding-left: 0.2em;position: relative;}#sk-container-id-1 div.sk-item {position: relative;z-index: 1;}#sk-container-id-1 div.sk-parallel {display: flex;align-items: stretch;justify-content: center;background-color: white;position: relative;}#sk-container-id-1 div.sk-item::before, #sk-container-id-1 div.sk-parallel-item::before {content: \"\";position: absolute;border-left: 1px solid gray;box-sizing: border-box;top: 0;bottom: 0;left: 50%;z-index: -1;}#sk-container-id-1 div.sk-parallel-item {display: flex;flex-direction: column;z-index: 1;position: relative;background-color: white;}#sk-container-id-1 div.sk-parallel-item:first-child::after {align-self: flex-end;width: 50%;}#sk-container-id-1 div.sk-parallel-item:last-child::after {align-self: flex-start;width: 50%;}#sk-container-id-1 div.sk-parallel-item:only-child::after {width: 0;}#sk-container-id-1 div.sk-dashed-wrapped {border: 1px dashed gray;margin: 0 0.4em 0.5em 0.4em;box-sizing: border-box;padding-bottom: 0.4em;background-color: white;}#sk-container-id-1 div.sk-label label {font-family: monospace;font-weight: bold;display: inline-block;line-height: 1.2em;}#sk-container-id-1 div.sk-label-container {text-align: center;}#sk-container-id-1 div.sk-container {/* jupyter's `normalize.less` sets `[hidden] { display: none; }` but bootstrap.min.css set `[hidden] { display: none !important; }` so we also need the `!important` here to be able to override the default hidden behavior on the sphinx rendered scikit-learn.org. See: https://github.com/scikit-learn/scikit-learn/issues/21755 */display: inline-block !important;position: relative;}#sk-container-id-1 div.sk-text-repr-fallback {display: none;}</style><div id=\"sk-container-id-1\" class=\"sk-top-container\"><div class=\"sk-text-repr-fallback\"><pre>RandomForestRegressor(n_estimators=5, warm_start=True)</pre><b>In a Jupyter environment, please rerun this cell to show the HTML representation or trust the notebook. <br />On GitHub, the HTML representation is unable to render, please try loading this page with nbviewer.org.</b></div><div class=\"sk-container\" hidden><div class=\"sk-item\"><div class=\"sk-estimator sk-toggleable\"><input class=\"sk-toggleable__control sk-hidden--visually\" id=\"sk-estimator-id-1\" type=\"checkbox\" checked><label for=\"sk-estimator-id-1\" class=\"sk-toggleable__label sk-toggleable__label-arrow\">RandomForestRegressor</label><div class=\"sk-toggleable__content\"><pre>RandomForestRegressor(n_estimators=5, warm_start=True)</pre></div></div></div></div></div>"
      ],
      "text/plain": [
       "RandomForestRegressor(n_estimators=5, warm_start=True)"
      ]
     },
     "execution_count": 17,
     "metadata": {},
     "output_type": "execute_result"
    }
   ],
   "source": [
    "## Load and re-use\n",
    "joblib_model = joblib.load(filename)\n",
    "joblib_model['model'] "
   ]
  },
  {
   "cell_type": "code",
   "execution_count": 18,
   "id": "4c4cf249",
   "metadata": {},
   "outputs": [],
   "source": [
    "rfr_model_param['model'].n_estimators = 15"
   ]
  },
  {
   "cell_type": "markdown",
   "id": "453ba09a",
   "metadata": {},
   "source": [
    "## Re use model to train again"
   ]
  },
  {
   "cell_type": "code",
   "execution_count": 19,
   "id": "19c04934",
   "metadata": {},
   "outputs": [],
   "source": [
    "df_auto_two = pd.read_csv('datasets/automobiles_file2.csv')"
   ]
  },
  {
   "cell_type": "code",
   "execution_count": 20,
   "id": "895efb7b",
   "metadata": {},
   "outputs": [],
   "source": [
    "x_train = df_auto_two.drop('price', axis=1)\n",
    "y_train = df_auto_two['price']"
   ]
  },
  {
   "cell_type": "code",
   "execution_count": 21,
   "id": "51bffe71",
   "metadata": {},
   "outputs": [
    {
     "name": "stderr",
     "output_type": "stream",
     "text": [
      "C:\\Users\\bjauseau\\AppData\\Local\\anaconda3\\lib\\site-packages\\sklearn\\ensemble\\_forest.py:452: UserWarning: Warm-start fitting without increasing n_estimators does not fit new trees.\n",
      "  warn(\n"
     ]
    }
   ],
   "source": [
    "model_retrain = joblib_model['model'].fit(x_train, y_train)"
   ]
  },
  {
   "cell_type": "code",
   "execution_count": 22,
   "id": "135763a0",
   "metadata": {},
   "outputs": [
    {
     "name": "stdout",
     "output_type": "stream",
     "text": [
      "Score retrain :  0.9052859737042525\n"
     ]
    }
   ],
   "source": [
    "print('Score retrain : ', model_retrain.score(x_train, y_train))"
   ]
  },
  {
   "cell_type": "code",
   "execution_count": 23,
   "id": "9771932e",
   "metadata": {},
   "outputs": [],
   "source": [
    "y_pred = model_retrain.predict(x_test)"
   ]
  },
  {
   "cell_type": "code",
   "execution_count": 24,
   "id": "e801a2d7",
   "metadata": {},
   "outputs": [
    {
     "name": "stdout",
     "output_type": "stream",
     "text": [
      "R2 score :  0.8424242674226292\n"
     ]
    }
   ],
   "source": [
    "print(\"R2 score : \", r2_score(y_test, y_pred))"
   ]
  },
  {
   "cell_type": "code",
   "execution_count": 25,
   "id": "09bdca8c",
   "metadata": {},
   "outputs": [],
   "source": [
    "retrain_rfr_model_param = {}\n",
    "retrain_rfr_model_param['model'] = model_retrain\n",
    "retrain_rfr_model_param['sklearn_version'] = sklearn.__version__\n",
    "retrain_rfr_model_param['r2_score'] = r2_score(y_test, y_pred)"
   ]
  },
  {
   "cell_type": "code",
   "execution_count": 26,
   "id": "3f176383",
   "metadata": {},
   "outputs": [],
   "source": [
    "filename = 'models/retrain_rfr_model_checkpoint.joblib'"
   ]
  },
  {
   "cell_type": "code",
   "execution_count": 27,
   "id": "e8652f45",
   "metadata": {},
   "outputs": [
    {
     "data": {
      "text/plain": [
       "['models/retrain_rfr_model_checkpoint.joblib']"
      ]
     },
     "execution_count": 27,
     "metadata": {},
     "output_type": "execute_result"
    }
   ],
   "source": [
    "joblib.dump(retrain_rfr_model_param, filename)"
   ]
  },
  {
   "cell_type": "code",
   "execution_count": null,
   "id": "b69e1484",
   "metadata": {},
   "outputs": [],
   "source": []
  }
 ],
 "metadata": {
  "kernelspec": {
   "display_name": "Python 3 (ipykernel)",
   "language": "python",
   "name": "python3"
  },
  "language_info": {
   "codemirror_mode": {
    "name": "ipython",
    "version": 3
   },
   "file_extension": ".py",
   "mimetype": "text/x-python",
   "name": "python",
   "nbconvert_exporter": "python",
   "pygments_lexer": "ipython3",
   "version": "3.11.3"
  }
 },
 "nbformat": 4,
 "nbformat_minor": 5
}
