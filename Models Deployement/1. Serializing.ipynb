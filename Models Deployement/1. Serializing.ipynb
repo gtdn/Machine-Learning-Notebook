{
 "cells": [
  {
   "cell_type": "code",
   "execution_count": 3,
   "id": "f020d4b0",
   "metadata": {},
   "outputs": [],
   "source": [
    "import pandas as pd\n",
    "import numpy as np\n",
    "from sklearn.model_selection import train_test_split\n",
    "from sklearn.linear_model import LinearRegression\n",
    "from sklearn.metrics import r2_score"
   ]
  },
  {
   "cell_type": "code",
   "execution_count": 4,
   "id": "676b8e2f",
   "metadata": {},
   "outputs": [
    {
     "data": {
      "text/html": [
       "<div>\n",
       "<style scoped>\n",
       "    .dataframe tbody tr th:only-of-type {\n",
       "        vertical-align: middle;\n",
       "    }\n",
       "\n",
       "    .dataframe tbody tr th {\n",
       "        vertical-align: top;\n",
       "    }\n",
       "\n",
       "    .dataframe thead th {\n",
       "        text-align: right;\n",
       "    }\n",
       "</style>\n",
       "<table border=\"1\" class=\"dataframe\">\n",
       "  <thead>\n",
       "    <tr style=\"text-align: right;\">\n",
       "      <th></th>\n",
       "      <th>car_ID</th>\n",
       "      <th>symboling</th>\n",
       "      <th>CarName</th>\n",
       "      <th>fueltype</th>\n",
       "      <th>aspiration</th>\n",
       "      <th>doornumber</th>\n",
       "      <th>carbody</th>\n",
       "      <th>drivewheel</th>\n",
       "      <th>enginelocation</th>\n",
       "      <th>wheelbase</th>\n",
       "      <th>...</th>\n",
       "      <th>enginesize</th>\n",
       "      <th>fuelsystem</th>\n",
       "      <th>boreratio</th>\n",
       "      <th>stroke</th>\n",
       "      <th>compressionratio</th>\n",
       "      <th>horsepower</th>\n",
       "      <th>peakrpm</th>\n",
       "      <th>citympg</th>\n",
       "      <th>highwaympg</th>\n",
       "      <th>price</th>\n",
       "    </tr>\n",
       "  </thead>\n",
       "  <tbody>\n",
       "    <tr>\n",
       "      <th>0</th>\n",
       "      <td>1</td>\n",
       "      <td>3</td>\n",
       "      <td>alfa-romero giulia</td>\n",
       "      <td>gas</td>\n",
       "      <td>std</td>\n",
       "      <td>two</td>\n",
       "      <td>convertible</td>\n",
       "      <td>rwd</td>\n",
       "      <td>front</td>\n",
       "      <td>88.6</td>\n",
       "      <td>...</td>\n",
       "      <td>130</td>\n",
       "      <td>mpfi</td>\n",
       "      <td>3.47</td>\n",
       "      <td>2.68</td>\n",
       "      <td>9.0</td>\n",
       "      <td>111</td>\n",
       "      <td>5000</td>\n",
       "      <td>21</td>\n",
       "      <td>27</td>\n",
       "      <td>13495.0</td>\n",
       "    </tr>\n",
       "    <tr>\n",
       "      <th>1</th>\n",
       "      <td>2</td>\n",
       "      <td>3</td>\n",
       "      <td>alfa-romero stelvio</td>\n",
       "      <td>gas</td>\n",
       "      <td>std</td>\n",
       "      <td>two</td>\n",
       "      <td>convertible</td>\n",
       "      <td>rwd</td>\n",
       "      <td>front</td>\n",
       "      <td>88.6</td>\n",
       "      <td>...</td>\n",
       "      <td>130</td>\n",
       "      <td>mpfi</td>\n",
       "      <td>3.47</td>\n",
       "      <td>2.68</td>\n",
       "      <td>9.0</td>\n",
       "      <td>111</td>\n",
       "      <td>5000</td>\n",
       "      <td>21</td>\n",
       "      <td>27</td>\n",
       "      <td>16500.0</td>\n",
       "    </tr>\n",
       "    <tr>\n",
       "      <th>2</th>\n",
       "      <td>3</td>\n",
       "      <td>1</td>\n",
       "      <td>alfa-romero Quadrifoglio</td>\n",
       "      <td>gas</td>\n",
       "      <td>std</td>\n",
       "      <td>two</td>\n",
       "      <td>hatchback</td>\n",
       "      <td>rwd</td>\n",
       "      <td>front</td>\n",
       "      <td>94.5</td>\n",
       "      <td>...</td>\n",
       "      <td>152</td>\n",
       "      <td>mpfi</td>\n",
       "      <td>2.68</td>\n",
       "      <td>3.47</td>\n",
       "      <td>9.0</td>\n",
       "      <td>154</td>\n",
       "      <td>5000</td>\n",
       "      <td>19</td>\n",
       "      <td>26</td>\n",
       "      <td>16500.0</td>\n",
       "    </tr>\n",
       "    <tr>\n",
       "      <th>3</th>\n",
       "      <td>4</td>\n",
       "      <td>2</td>\n",
       "      <td>audi 100 ls</td>\n",
       "      <td>gas</td>\n",
       "      <td>std</td>\n",
       "      <td>four</td>\n",
       "      <td>sedan</td>\n",
       "      <td>fwd</td>\n",
       "      <td>front</td>\n",
       "      <td>99.8</td>\n",
       "      <td>...</td>\n",
       "      <td>109</td>\n",
       "      <td>mpfi</td>\n",
       "      <td>3.19</td>\n",
       "      <td>3.40</td>\n",
       "      <td>10.0</td>\n",
       "      <td>102</td>\n",
       "      <td>5500</td>\n",
       "      <td>24</td>\n",
       "      <td>30</td>\n",
       "      <td>13950.0</td>\n",
       "    </tr>\n",
       "    <tr>\n",
       "      <th>4</th>\n",
       "      <td>5</td>\n",
       "      <td>2</td>\n",
       "      <td>audi 100ls</td>\n",
       "      <td>gas</td>\n",
       "      <td>std</td>\n",
       "      <td>four</td>\n",
       "      <td>sedan</td>\n",
       "      <td>4wd</td>\n",
       "      <td>front</td>\n",
       "      <td>99.4</td>\n",
       "      <td>...</td>\n",
       "      <td>136</td>\n",
       "      <td>mpfi</td>\n",
       "      <td>3.19</td>\n",
       "      <td>3.40</td>\n",
       "      <td>8.0</td>\n",
       "      <td>115</td>\n",
       "      <td>5500</td>\n",
       "      <td>18</td>\n",
       "      <td>22</td>\n",
       "      <td>17450.0</td>\n",
       "    </tr>\n",
       "  </tbody>\n",
       "</table>\n",
       "<p>5 rows × 26 columns</p>\n",
       "</div>"
      ],
      "text/plain": [
       "   car_ID  symboling                   CarName fueltype aspiration doornumber  \\\n",
       "0       1          3        alfa-romero giulia      gas        std        two   \n",
       "1       2          3       alfa-romero stelvio      gas        std        two   \n",
       "2       3          1  alfa-romero Quadrifoglio      gas        std        two   \n",
       "3       4          2               audi 100 ls      gas        std       four   \n",
       "4       5          2                audi 100ls      gas        std       four   \n",
       "\n",
       "       carbody drivewheel enginelocation  wheelbase  ...  enginesize  \\\n",
       "0  convertible        rwd          front       88.6  ...         130   \n",
       "1  convertible        rwd          front       88.6  ...         130   \n",
       "2    hatchback        rwd          front       94.5  ...         152   \n",
       "3        sedan        fwd          front       99.8  ...         109   \n",
       "4        sedan        4wd          front       99.4  ...         136   \n",
       "\n",
       "   fuelsystem  boreratio  stroke compressionratio horsepower  peakrpm citympg  \\\n",
       "0        mpfi       3.47    2.68              9.0        111     5000      21   \n",
       "1        mpfi       3.47    2.68              9.0        111     5000      21   \n",
       "2        mpfi       2.68    3.47              9.0        154     5000      19   \n",
       "3        mpfi       3.19    3.40             10.0        102     5500      24   \n",
       "4        mpfi       3.19    3.40              8.0        115     5500      18   \n",
       "\n",
       "   highwaympg    price  \n",
       "0          27  13495.0  \n",
       "1          27  16500.0  \n",
       "2          26  16500.0  \n",
       "3          30  13950.0  \n",
       "4          22  17450.0  \n",
       "\n",
       "[5 rows x 26 columns]"
      ]
     },
     "execution_count": 4,
     "metadata": {},
     "output_type": "execute_result"
    }
   ],
   "source": [
    "auto_df = pd.read_csv('datasets/CarPrice_Assignment.csv')\n",
    "auto_df.head()"
   ]
  },
  {
   "cell_type": "markdown",
   "id": "011ff9c1",
   "metadata": {},
   "source": [
    "# JSON Serialization"
   ]
  },
  {
   "cell_type": "markdown",
   "id": "d47ace18",
   "metadata": {},
   "source": [
    "## Exploring Cleaning data"
   ]
  },
  {
   "cell_type": "code",
   "execution_count": 5,
   "id": "3be1d076",
   "metadata": {},
   "outputs": [],
   "source": [
    "auto_df.drop(['car_ID', 'symboling', 'CarName'], axis=1, inplace=True)"
   ]
  },
  {
   "cell_type": "code",
   "execution_count": 6,
   "id": "b00a5ef7",
   "metadata": {},
   "outputs": [],
   "source": [
    "## Encoder les données str to int\n",
    "auto_df = pd.get_dummies(auto_df)"
   ]
  },
  {
   "cell_type": "markdown",
   "id": "d6842dad",
   "metadata": {},
   "source": [
    "## Training model"
   ]
  },
  {
   "cell_type": "code",
   "execution_count": 7,
   "id": "19d8c2d5",
   "metadata": {},
   "outputs": [],
   "source": [
    "X = auto_df.drop('price', axis=1)\n",
    "Y = auto_df['price']"
   ]
  },
  {
   "cell_type": "code",
   "execution_count": 8,
   "id": "a576b109",
   "metadata": {},
   "outputs": [],
   "source": [
    "x_train, x_test, y_train, y_test = train_test_split(X, Y, test_size=0.2, random_state=0)\n",
    "model = LinearRegression()\n",
    "model = model.fit(x_train, y_train)"
   ]
  },
  {
   "cell_type": "code",
   "execution_count": 9,
   "id": "b4962527",
   "metadata": {},
   "outputs": [],
   "source": [
    "y_pred = model.predict(x_test)"
   ]
  },
  {
   "cell_type": "code",
   "execution_count": 10,
   "id": "c409a10a",
   "metadata": {},
   "outputs": [
    {
     "data": {
      "text/html": [
       "<div>\n",
       "<style scoped>\n",
       "    .dataframe tbody tr th:only-of-type {\n",
       "        vertical-align: middle;\n",
       "    }\n",
       "\n",
       "    .dataframe tbody tr th {\n",
       "        vertical-align: top;\n",
       "    }\n",
       "\n",
       "    .dataframe thead th {\n",
       "        text-align: right;\n",
       "    }\n",
       "</style>\n",
       "<table border=\"1\" class=\"dataframe\">\n",
       "  <thead>\n",
       "    <tr style=\"text-align: right;\">\n",
       "      <th></th>\n",
       "      <th>y_test</th>\n",
       "      <th>y_pred</th>\n",
       "    </tr>\n",
       "  </thead>\n",
       "  <tbody>\n",
       "    <tr>\n",
       "      <th>161</th>\n",
       "      <td>8358.0</td>\n",
       "      <td>6996.769125</td>\n",
       "    </tr>\n",
       "    <tr>\n",
       "      <th>171</th>\n",
       "      <td>11549.0</td>\n",
       "      <td>13154.217552</td>\n",
       "    </tr>\n",
       "    <tr>\n",
       "      <th>181</th>\n",
       "      <td>15750.0</td>\n",
       "      <td>19818.609405</td>\n",
       "    </tr>\n",
       "    <tr>\n",
       "      <th>52</th>\n",
       "      <td>6795.0</td>\n",
       "      <td>5940.460004</td>\n",
       "    </tr>\n",
       "    <tr>\n",
       "      <th>80</th>\n",
       "      <td>9959.0</td>\n",
       "      <td>9353.320217</td>\n",
       "    </tr>\n",
       "    <tr>\n",
       "      <th>156</th>\n",
       "      <td>6938.0</td>\n",
       "      <td>7682.139138</td>\n",
       "    </tr>\n",
       "    <tr>\n",
       "      <th>92</th>\n",
       "      <td>6849.0</td>\n",
       "      <td>6229.391652</td>\n",
       "    </tr>\n",
       "    <tr>\n",
       "      <th>22</th>\n",
       "      <td>6377.0</td>\n",
       "      <td>5837.605130</td>\n",
       "    </tr>\n",
       "    <tr>\n",
       "      <th>193</th>\n",
       "      <td>12290.0</td>\n",
       "      <td>10811.588613</td>\n",
       "    </tr>\n",
       "    <tr>\n",
       "      <th>18</th>\n",
       "      <td>5151.0</td>\n",
       "      <td>356.336506</td>\n",
       "    </tr>\n",
       "  </tbody>\n",
       "</table>\n",
       "</div>"
      ],
      "text/plain": [
       "      y_test        y_pred\n",
       "161   8358.0   6996.769125\n",
       "171  11549.0  13154.217552\n",
       "181  15750.0  19818.609405\n",
       "52    6795.0   5940.460004\n",
       "80    9959.0   9353.320217\n",
       "156   6938.0   7682.139138\n",
       "92    6849.0   6229.391652\n",
       "22    6377.0   5837.605130\n",
       "193  12290.0  10811.588613\n",
       "18    5151.0    356.336506"
      ]
     },
     "execution_count": 10,
     "metadata": {},
     "output_type": "execute_result"
    }
   ],
   "source": [
    "# To show our prediction and the reel values\n",
    "df_y = pd.DataFrame({'y_test' : y_test, 'y_pred' : y_pred})\n",
    "df_y.sample(10)"
   ]
  },
  {
   "cell_type": "code",
   "execution_count": 11,
   "id": "3f9ef117",
   "metadata": {},
   "outputs": [
    {
     "name": "stdout",
     "output_type": "stream",
     "text": [
      "Training score :  0.9510014290429848\n",
      "Testing score :  0.8705629244079386\n"
     ]
    }
   ],
   "source": [
    "print(\"Training score : \", model.score(x_train, y_train))\n",
    "\n",
    "score = r2_score(y_test, y_pred)\n",
    "print(\"Testing score : \", score)"
   ]
  },
  {
   "cell_type": "markdown",
   "id": "0cc6fdc6",
   "metadata": {},
   "source": [
    "## JSON Serialization"
   ]
  },
  {
   "cell_type": "code",
   "execution_count": 12,
   "id": "a0954523",
   "metadata": {},
   "outputs": [],
   "source": [
    "import json"
   ]
  },
  {
   "cell_type": "code",
   "execution_count": 13,
   "id": "5f9fc792",
   "metadata": {},
   "outputs": [
    {
     "name": "stdout",
     "output_type": "stream",
     "text": [
      "[ 8.57478757e+01 -6.24044033e+01  6.45494829e+02  7.72176065e+01\n",
      "  4.55627580e+00  9.30272943e+01 -2.26810032e+03 -3.09893913e+03\n",
      " -6.60230718e+02 -5.38721435e+00  1.69493040e+00 -1.00476142e+02\n",
      "  1.24308571e+02  3.14783471e+03 -3.14783471e+03 -8.69918810e+02\n",
      "  8.69918810e+02  7.53235430e+01 -7.53235430e+01  3.02463849e+03\n",
      " -1.08305973e+03 -6.90543343e+02 -5.78297446e+00 -1.24525244e+03\n",
      " -1.03215926e+03 -2.20097670e+02  1.25225693e+03 -5.15883946e+03\n",
      "  5.15883946e+03  3.17867601e+02  3.41060513e-12 -1.83505030e+03\n",
      "  2.41465424e+03  1.89245449e+03 -4.97319336e+03  2.18326733e+03\n",
      "  5.18951329e+03 -2.80496125e+03 -4.37485131e+03 -6.82097949e+02\n",
      "  0.00000000e+00  4.89129887e+02  2.18326733e+03  6.85903772e+02\n",
      "  3.35795690e+02 -8.61682649e+02  3.14783471e+03 -1.72386248e+03\n",
      "  6.55371147e+02 -1.80637197e+03 -4.32988210e+02] -30231.805508318423\n"
     ]
    }
   ],
   "source": [
    "## Obtain info about model\n",
    "print(model.coef_, model.intercept_)"
   ]
  },
  {
   "cell_type": "code",
   "execution_count": 15,
   "id": "ba3c942a",
   "metadata": {},
   "outputs": [],
   "source": [
    "## For a Regression model, we just need to save those coefficient\n",
    "model_param = {}\n",
    "\n",
    "model_param['coef'] = list(model.coef_)\n",
    "model_param['intercept'] = model.intercept_.tolist()"
   ]
  },
  {
   "cell_type": "code",
   "execution_count": 16,
   "id": "8296d269",
   "metadata": {},
   "outputs": [
    {
     "data": {
      "text/plain": [
       "'{\\n    \"coef\": [\\n        85.74787568553332,\\n        -62.40440326866277,\\n        645.4948289878965,\\n        77.21760650062174,\\n        4.5562758028051675,\\n        93.0272942644537,\\n        -2268.100319176822,\\n        -3098.939130831859,\\n        -660.2307179333836,\\n        -5.387214345570328,\\n        1.694930399263285,\\n        -100.47614179284096,\\n        124.30857132656683,\\n        3147.8347085674145,\\n        -3147.8347085673627,\\n        -869.9188100300985,\\n        869.9188100301453,\\n        75.32354298698277,\\n        -75.32354298696515,\\n        3024.6384893029876,\\n        -1083.0597299150506,\\n        -690.5433430511237,\\n        -5.782974458157241,\\n        -1245.2524418787084,\\n        -1032.159255350555,\\n        -220.09767018719242,\\n        1252.2569255376775,\\n        -5158.8394583782265,\\n        5158.83945837823,\\n        317.8676006931753,\\n        3.410605131648481e-12,\\n        -1835.0502980684082,\\n        2414.6542357959675,\\n        1892.454493068901,\\n        -4973.193358718142,\\n        2183.2673272285415,\\n        5189.513287019517,\\n        -2804.9612451902117,\\n        -4374.85130668969,\\n        -682.0979492534291,\\n        0.0,\\n        489.12988688533704,\\n        2183.267327228542,\\n        685.9037715238833,\\n        335.7956895692332,\\n        -861.6826491398849,\\n        3147.834708567371,\\n        -1723.8624840941727,\\n        655.3711473420251,\\n        -1806.3719740281615,\\n        -432.9882097402507\\n    ],\\n    \"intercept\": -30231.805508318423\\n}'"
      ]
     },
     "execution_count": 16,
     "metadata": {},
     "output_type": "execute_result"
    }
   ],
   "source": [
    "json_txt = json.dumps(model_param, indent=4)\n",
    "json_txt"
   ]
  },
  {
   "cell_type": "code",
   "execution_count": 17,
   "id": "d36cb158",
   "metadata": {},
   "outputs": [],
   "source": [
    "# Save model\n",
    "with open('models/regerssor_param.txt', 'w') as file:\n",
    "    file.write(json_txt)"
   ]
  },
  {
   "cell_type": "code",
   "execution_count": 22,
   "id": "c2d052ec",
   "metadata": {},
   "outputs": [],
   "source": [
    "# To open and use\n",
    "with open('models/regerssor_param.txt', 'r') as file:\n",
    "    json_text = json.load(file)\n",
    "\n",
    "json_model = LinearRegression()\n",
    "json_model.coef_ = np.array(json_text['coef'])\n",
    "json_model.intercept_ = np.array(json_text['intercept'])"
   ]
  },
  {
   "cell_type": "code",
   "execution_count": 23,
   "id": "8eec7734",
   "metadata": {},
   "outputs": [
    {
     "name": "stderr",
     "output_type": "stream",
     "text": [
      "C:\\Users\\bjauseau\\AppData\\Local\\anaconda3\\lib\\site-packages\\sklearn\\base.py:432: UserWarning: X has feature names, but LinearRegression was fitted without feature names\n",
      "  warnings.warn(\n"
     ]
    },
    {
     "data": {
      "text/plain": [
       "0.8705629244079386"
      ]
     },
     "execution_count": 23,
     "metadata": {},
     "output_type": "execute_result"
    }
   ],
   "source": [
    "# Use model\n",
    "y_pred = json_model.predict(x_test)\n",
    "r2_score(y_test, y_pred)"
   ]
  },
  {
   "cell_type": "markdown",
   "id": "e3a06fab",
   "metadata": {},
   "source": [
    "## PICKLE Serilization"
   ]
  },
  {
   "cell_type": "code",
   "execution_count": 24,
   "id": "750064c6",
   "metadata": {},
   "outputs": [],
   "source": [
    "import pickle"
   ]
  },
  {
   "cell_type": "code",
   "execution_count": 26,
   "id": "26cc00d1",
   "metadata": {},
   "outputs": [],
   "source": [
    "pickle.dump(model, open('models/model.pkl', 'wb'))"
   ]
  },
  {
   "cell_type": "code",
   "execution_count": 27,
   "id": "894a5d22",
   "metadata": {},
   "outputs": [],
   "source": [
    "## Reading and use\n",
    "pickle_model = pickle.load(open('models/model.pkl', 'rb'))"
   ]
  },
  {
   "cell_type": "code",
   "execution_count": 29,
   "id": "028a8826",
   "metadata": {},
   "outputs": [
    {
     "data": {
      "text/plain": [
       "0.8705629244079386"
      ]
     },
     "execution_count": 29,
     "metadata": {},
     "output_type": "execute_result"
    }
   ],
   "source": [
    "y_pred = pickle_model.predict(x_test)\n",
    "r2_score(y_test, y_pred)"
   ]
  },
  {
   "cell_type": "markdown",
   "id": "48d3e69d",
   "metadata": {},
   "source": [
    "## JOBLIB Serialization"
   ]
  },
  {
   "cell_type": "code",
   "execution_count": 31,
   "id": "4ed64561",
   "metadata": {},
   "outputs": [],
   "source": [
    "import joblib"
   ]
  },
  {
   "cell_type": "code",
   "execution_count": 30,
   "id": "c98aa76f",
   "metadata": {},
   "outputs": [],
   "source": [
    "filename = 'models/model.joblib'"
   ]
  },
  {
   "cell_type": "code",
   "execution_count": 32,
   "id": "ed1386b1",
   "metadata": {},
   "outputs": [
    {
     "data": {
      "text/plain": [
       "['models/model.joblib']"
      ]
     },
     "execution_count": 32,
     "metadata": {},
     "output_type": "execute_result"
    }
   ],
   "source": [
    "joblib.dump(model, filename)"
   ]
  },
  {
   "cell_type": "code",
   "execution_count": 33,
   "id": "1faf1860",
   "metadata": {},
   "outputs": [],
   "source": [
    "## Reading and use\n",
    "joblib_model = joblib.load(filename)"
   ]
  },
  {
   "cell_type": "code",
   "execution_count": 34,
   "id": "55f9a884",
   "metadata": {},
   "outputs": [
    {
     "data": {
      "text/plain": [
       "0.8705629244079386"
      ]
     },
     "execution_count": 34,
     "metadata": {},
     "output_type": "execute_result"
    }
   ],
   "source": [
    "y_pred = joblib_model.predict(x_test)\n",
    "r2_score(y_test, y_pred)"
   ]
  },
  {
   "cell_type": "code",
   "execution_count": null,
   "id": "4442efa1",
   "metadata": {},
   "outputs": [],
   "source": []
  }
 ],
 "metadata": {
  "kernelspec": {
   "display_name": "Python 3 (ipykernel)",
   "language": "python",
   "name": "python3"
  },
  "language_info": {
   "codemirror_mode": {
    "name": "ipython",
    "version": 3
   },
   "file_extension": ".py",
   "mimetype": "text/x-python",
   "name": "python",
   "nbconvert_exporter": "python",
   "pygments_lexer": "ipython3",
   "version": "3.11.3"
  }
 },
 "nbformat": 4,
 "nbformat_minor": 5
}
