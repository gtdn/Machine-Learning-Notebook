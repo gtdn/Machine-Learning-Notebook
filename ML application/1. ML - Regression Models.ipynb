{
 "cells": [
  {
   "cell_type": "code",
   "execution_count": 130,
   "id": "e110e913",
   "metadata": {},
   "outputs": [],
   "source": [
    "import pandas as pd\n",
    "import matplotlib.pyplot as plt\n",
    "import seaborn as sns "
   ]
  },
  {
   "cell_type": "code",
   "execution_count": 131,
   "id": "9b9d18b2",
   "metadata": {},
   "outputs": [],
   "source": [
    "data = pd.read_csv('datasets/boston_data.csv')"
   ]
  },
  {
   "cell_type": "markdown",
   "id": "dd747630",
   "metadata": {},
   "source": [
    "# Modele regression with numerical value"
   ]
  },
  {
   "cell_type": "markdown",
   "id": "ccefa4b0",
   "metadata": {},
   "source": [
    "## Explore Data set"
   ]
  },
  {
   "cell_type": "code",
   "execution_count": 132,
   "id": "79f987c9",
   "metadata": {},
   "outputs": [
    {
     "data": {
      "text/html": [
       "<div>\n",
       "<style scoped>\n",
       "    .dataframe tbody tr th:only-of-type {\n",
       "        vertical-align: middle;\n",
       "    }\n",
       "\n",
       "    .dataframe tbody tr th {\n",
       "        vertical-align: top;\n",
       "    }\n",
       "\n",
       "    .dataframe thead th {\n",
       "        text-align: right;\n",
       "    }\n",
       "</style>\n",
       "<table border=\"1\" class=\"dataframe\">\n",
       "  <thead>\n",
       "    <tr style=\"text-align: right;\">\n",
       "      <th></th>\n",
       "      <th>ID</th>\n",
       "      <th>indus</th>\n",
       "      <th>chas</th>\n",
       "      <th>nox</th>\n",
       "      <th>rm</th>\n",
       "      <th>age</th>\n",
       "      <th>dis</th>\n",
       "      <th>rad</th>\n",
       "      <th>tax</th>\n",
       "      <th>ptratio</th>\n",
       "      <th>lstat</th>\n",
       "      <th>medv</th>\n",
       "    </tr>\n",
       "  </thead>\n",
       "  <tbody>\n",
       "    <tr>\n",
       "      <th>0</th>\n",
       "      <td>1</td>\n",
       "      <td>2.31</td>\n",
       "      <td>0</td>\n",
       "      <td>0.538</td>\n",
       "      <td>6.575</td>\n",
       "      <td>65.2</td>\n",
       "      <td>4.0900</td>\n",
       "      <td>1</td>\n",
       "      <td>296</td>\n",
       "      <td>15.3</td>\n",
       "      <td>4.98</td>\n",
       "      <td>24.0</td>\n",
       "    </tr>\n",
       "    <tr>\n",
       "      <th>1</th>\n",
       "      <td>2</td>\n",
       "      <td>7.07</td>\n",
       "      <td>0</td>\n",
       "      <td>0.469</td>\n",
       "      <td>6.421</td>\n",
       "      <td>78.9</td>\n",
       "      <td>4.9671</td>\n",
       "      <td>2</td>\n",
       "      <td>242</td>\n",
       "      <td>17.8</td>\n",
       "      <td>9.14</td>\n",
       "      <td>21.6</td>\n",
       "    </tr>\n",
       "    <tr>\n",
       "      <th>2</th>\n",
       "      <td>4</td>\n",
       "      <td>2.18</td>\n",
       "      <td>0</td>\n",
       "      <td>0.458</td>\n",
       "      <td>6.998</td>\n",
       "      <td>45.8</td>\n",
       "      <td>6.0622</td>\n",
       "      <td>3</td>\n",
       "      <td>222</td>\n",
       "      <td>18.7</td>\n",
       "      <td>2.94</td>\n",
       "      <td>33.4</td>\n",
       "    </tr>\n",
       "    <tr>\n",
       "      <th>3</th>\n",
       "      <td>5</td>\n",
       "      <td>2.18</td>\n",
       "      <td>0</td>\n",
       "      <td>0.458</td>\n",
       "      <td>7.147</td>\n",
       "      <td>54.2</td>\n",
       "      <td>6.0622</td>\n",
       "      <td>3</td>\n",
       "      <td>222</td>\n",
       "      <td>18.7</td>\n",
       "      <td>5.33</td>\n",
       "      <td>36.2</td>\n",
       "    </tr>\n",
       "    <tr>\n",
       "      <th>4</th>\n",
       "      <td>7</td>\n",
       "      <td>7.87</td>\n",
       "      <td>0</td>\n",
       "      <td>0.524</td>\n",
       "      <td>6.012</td>\n",
       "      <td>66.6</td>\n",
       "      <td>5.5605</td>\n",
       "      <td>5</td>\n",
       "      <td>311</td>\n",
       "      <td>15.2</td>\n",
       "      <td>12.43</td>\n",
       "      <td>22.9</td>\n",
       "    </tr>\n",
       "  </tbody>\n",
       "</table>\n",
       "</div>"
      ],
      "text/plain": [
       "   ID  indus  chas    nox     rm   age     dis  rad  tax  ptratio  lstat  medv\n",
       "0   1   2.31     0  0.538  6.575  65.2  4.0900    1  296     15.3   4.98  24.0\n",
       "1   2   7.07     0  0.469  6.421  78.9  4.9671    2  242     17.8   9.14  21.6\n",
       "2   4   2.18     0  0.458  6.998  45.8  6.0622    3  222     18.7   2.94  33.4\n",
       "3   5   2.18     0  0.458  7.147  54.2  6.0622    3  222     18.7   5.33  36.2\n",
       "4   7   7.87     0  0.524  6.012  66.6  5.5605    5  311     15.2  12.43  22.9"
      ]
     },
     "execution_count": 132,
     "metadata": {},
     "output_type": "execute_result"
    }
   ],
   "source": [
    "data.head()"
   ]
  },
  {
   "cell_type": "code",
   "execution_count": 133,
   "id": "00a49e06",
   "metadata": {},
   "outputs": [
    {
     "name": "stdout",
     "output_type": "stream",
     "text": [
      "<class 'pandas.core.frame.DataFrame'>\n",
      "RangeIndex: 333 entries, 0 to 332\n",
      "Data columns (total 12 columns):\n",
      " #   Column   Non-Null Count  Dtype  \n",
      "---  ------   --------------  -----  \n",
      " 0   ID       333 non-null    int64  \n",
      " 1   indus    333 non-null    float64\n",
      " 2   chas     333 non-null    int64  \n",
      " 3   nox      333 non-null    float64\n",
      " 4   rm       333 non-null    float64\n",
      " 5   age      333 non-null    float64\n",
      " 6   dis      333 non-null    float64\n",
      " 7   rad      333 non-null    int64  \n",
      " 8   tax      333 non-null    int64  \n",
      " 9   ptratio  333 non-null    float64\n",
      " 10  lstat    333 non-null    float64\n",
      " 11  medv     333 non-null    float64\n",
      "dtypes: float64(8), int64(4)\n",
      "memory usage: 31.3 KB\n"
     ]
    }
   ],
   "source": [
    "data.info()"
   ]
  },
  {
   "cell_type": "code",
   "execution_count": 134,
   "id": "8807f233",
   "metadata": {},
   "outputs": [
    {
     "data": {
      "text/html": [
       "<div>\n",
       "<style scoped>\n",
       "    .dataframe tbody tr th:only-of-type {\n",
       "        vertical-align: middle;\n",
       "    }\n",
       "\n",
       "    .dataframe tbody tr th {\n",
       "        vertical-align: top;\n",
       "    }\n",
       "\n",
       "    .dataframe thead th {\n",
       "        text-align: right;\n",
       "    }\n",
       "</style>\n",
       "<table border=\"1\" class=\"dataframe\">\n",
       "  <thead>\n",
       "    <tr style=\"text-align: right;\">\n",
       "      <th></th>\n",
       "      <th>ID</th>\n",
       "      <th>indus</th>\n",
       "      <th>chas</th>\n",
       "      <th>nox</th>\n",
       "      <th>rm</th>\n",
       "      <th>age</th>\n",
       "      <th>dis</th>\n",
       "      <th>rad</th>\n",
       "      <th>tax</th>\n",
       "      <th>ptratio</th>\n",
       "      <th>lstat</th>\n",
       "      <th>medv</th>\n",
       "    </tr>\n",
       "  </thead>\n",
       "  <tbody>\n",
       "    <tr>\n",
       "      <th>count</th>\n",
       "      <td>333.000000</td>\n",
       "      <td>333.000000</td>\n",
       "      <td>333.000000</td>\n",
       "      <td>333.000000</td>\n",
       "      <td>333.000000</td>\n",
       "      <td>333.000000</td>\n",
       "      <td>333.000000</td>\n",
       "      <td>333.000000</td>\n",
       "      <td>333.000000</td>\n",
       "      <td>333.000000</td>\n",
       "      <td>333.000000</td>\n",
       "      <td>333.000000</td>\n",
       "    </tr>\n",
       "    <tr>\n",
       "      <th>mean</th>\n",
       "      <td>250.951952</td>\n",
       "      <td>11.293483</td>\n",
       "      <td>0.060060</td>\n",
       "      <td>0.557144</td>\n",
       "      <td>6.265619</td>\n",
       "      <td>68.226426</td>\n",
       "      <td>3.709934</td>\n",
       "      <td>9.633634</td>\n",
       "      <td>409.279279</td>\n",
       "      <td>18.448048</td>\n",
       "      <td>12.515435</td>\n",
       "      <td>22.768769</td>\n",
       "    </tr>\n",
       "    <tr>\n",
       "      <th>std</th>\n",
       "      <td>147.859438</td>\n",
       "      <td>6.998123</td>\n",
       "      <td>0.237956</td>\n",
       "      <td>0.114955</td>\n",
       "      <td>0.703952</td>\n",
       "      <td>28.133344</td>\n",
       "      <td>1.981123</td>\n",
       "      <td>8.742174</td>\n",
       "      <td>170.841988</td>\n",
       "      <td>2.151821</td>\n",
       "      <td>7.067781</td>\n",
       "      <td>9.173468</td>\n",
       "    </tr>\n",
       "    <tr>\n",
       "      <th>min</th>\n",
       "      <td>1.000000</td>\n",
       "      <td>0.740000</td>\n",
       "      <td>0.000000</td>\n",
       "      <td>0.385000</td>\n",
       "      <td>3.561000</td>\n",
       "      <td>6.000000</td>\n",
       "      <td>1.129600</td>\n",
       "      <td>1.000000</td>\n",
       "      <td>188.000000</td>\n",
       "      <td>12.600000</td>\n",
       "      <td>1.730000</td>\n",
       "      <td>5.000000</td>\n",
       "    </tr>\n",
       "    <tr>\n",
       "      <th>25%</th>\n",
       "      <td>123.000000</td>\n",
       "      <td>5.130000</td>\n",
       "      <td>0.000000</td>\n",
       "      <td>0.453000</td>\n",
       "      <td>5.884000</td>\n",
       "      <td>45.400000</td>\n",
       "      <td>2.122400</td>\n",
       "      <td>4.000000</td>\n",
       "      <td>279.000000</td>\n",
       "      <td>17.400000</td>\n",
       "      <td>7.180000</td>\n",
       "      <td>17.400000</td>\n",
       "    </tr>\n",
       "    <tr>\n",
       "      <th>50%</th>\n",
       "      <td>244.000000</td>\n",
       "      <td>9.900000</td>\n",
       "      <td>0.000000</td>\n",
       "      <td>0.538000</td>\n",
       "      <td>6.202000</td>\n",
       "      <td>76.700000</td>\n",
       "      <td>3.092300</td>\n",
       "      <td>5.000000</td>\n",
       "      <td>330.000000</td>\n",
       "      <td>19.000000</td>\n",
       "      <td>10.970000</td>\n",
       "      <td>21.600000</td>\n",
       "    </tr>\n",
       "    <tr>\n",
       "      <th>75%</th>\n",
       "      <td>377.000000</td>\n",
       "      <td>18.100000</td>\n",
       "      <td>0.000000</td>\n",
       "      <td>0.631000</td>\n",
       "      <td>6.595000</td>\n",
       "      <td>93.800000</td>\n",
       "      <td>5.116700</td>\n",
       "      <td>24.000000</td>\n",
       "      <td>666.000000</td>\n",
       "      <td>20.200000</td>\n",
       "      <td>16.420000</td>\n",
       "      <td>25.000000</td>\n",
       "    </tr>\n",
       "    <tr>\n",
       "      <th>max</th>\n",
       "      <td>506.000000</td>\n",
       "      <td>27.740000</td>\n",
       "      <td>1.000000</td>\n",
       "      <td>0.871000</td>\n",
       "      <td>8.725000</td>\n",
       "      <td>100.000000</td>\n",
       "      <td>10.710300</td>\n",
       "      <td>24.000000</td>\n",
       "      <td>711.000000</td>\n",
       "      <td>21.200000</td>\n",
       "      <td>37.970000</td>\n",
       "      <td>50.000000</td>\n",
       "    </tr>\n",
       "  </tbody>\n",
       "</table>\n",
       "</div>"
      ],
      "text/plain": [
       "               ID       indus        chas         nox          rm         age  \\\n",
       "count  333.000000  333.000000  333.000000  333.000000  333.000000  333.000000   \n",
       "mean   250.951952   11.293483    0.060060    0.557144    6.265619   68.226426   \n",
       "std    147.859438    6.998123    0.237956    0.114955    0.703952   28.133344   \n",
       "min      1.000000    0.740000    0.000000    0.385000    3.561000    6.000000   \n",
       "25%    123.000000    5.130000    0.000000    0.453000    5.884000   45.400000   \n",
       "50%    244.000000    9.900000    0.000000    0.538000    6.202000   76.700000   \n",
       "75%    377.000000   18.100000    0.000000    0.631000    6.595000   93.800000   \n",
       "max    506.000000   27.740000    1.000000    0.871000    8.725000  100.000000   \n",
       "\n",
       "              dis         rad         tax     ptratio       lstat        medv  \n",
       "count  333.000000  333.000000  333.000000  333.000000  333.000000  333.000000  \n",
       "mean     3.709934    9.633634  409.279279   18.448048   12.515435   22.768769  \n",
       "std      1.981123    8.742174  170.841988    2.151821    7.067781    9.173468  \n",
       "min      1.129600    1.000000  188.000000   12.600000    1.730000    5.000000  \n",
       "25%      2.122400    4.000000  279.000000   17.400000    7.180000   17.400000  \n",
       "50%      3.092300    5.000000  330.000000   19.000000   10.970000   21.600000  \n",
       "75%      5.116700   24.000000  666.000000   20.200000   16.420000   25.000000  \n",
       "max     10.710300   24.000000  711.000000   21.200000   37.970000   50.000000  "
      ]
     },
     "execution_count": 134,
     "metadata": {},
     "output_type": "execute_result"
    }
   ],
   "source": [
    "data.describe()"
   ]
  },
  {
   "cell_type": "markdown",
   "id": "698048fd",
   "metadata": {},
   "source": [
    "## Plot Data Set to explore"
   ]
  },
  {
   "cell_type": "code",
   "execution_count": 135,
   "id": "a4cdb152",
   "metadata": {},
   "outputs": [
    {
     "data": {
      "text/plain": [
       "Text(33.37500000000001, 0.5, 'median value of owner')"
      ]
     },
     "execution_count": 135,
     "metadata": {},
     "output_type": "execute_result"
    },
    {
     "data": {
      "image/png": "[encoded data removed]",
      "text/plain": [
       "<Figure size 500x500 with 1 Axes>"
      ]
     },
     "metadata": {},
     "output_type": "display_data"
    }
   ],
   "source": [
    "sns.lmplot(data=data, x=\"rm\", y=\"medv\")\n",
    "plt.xlabel(\"Number of room\")\n",
    "plt.ylabel(\"median value of owner\")\n",
    "# Le nombre de pièce augmente le prix de la maison"
   ]
  },
  {
   "cell_type": "code",
   "execution_count": 136,
   "id": "8290773c",
   "metadata": {},
   "outputs": [
    {
     "data": {
      "text/plain": [
       "Text(33.37500000000001, 0.5, 'median value of owner')"
      ]
     },
     "execution_count": 136,
     "metadata": {},
     "output_type": "execute_result"
    },
    {
     "data": {
      "image/png": "[encoded data removed]",
      "text/plain": [
       "<Figure size 500x500 with 1 Axes>"
      ]
     },
     "metadata": {},
     "output_type": "display_data"
    }
   ],
   "source": [
    "sns.lmplot(data=data, x=\"age\", y=\"medv\")\n",
    "plt.xlabel(\"Age\")\n",
    "plt.ylabel(\"median value of owner\")\n",
    "# Plus les maisons sont agées, plus le prix dimlinue"
   ]
  },
  {
   "cell_type": "markdown",
   "id": "9b36542d",
   "metadata": {},
   "source": [
    "## Regression Model"
   ]
  },
  {
   "cell_type": "code",
   "execution_count": 137,
   "id": "cc21ee9d",
   "metadata": {},
   "outputs": [],
   "source": [
    "from sklearn.model_selection import train_test_split\n",
    "from sklearn.linear_model import LinearRegression\n",
    "\n",
    "X = data.drop([\"medv\"], axis=1)\n",
    "Y = data[\"medv\"]\n",
    "\n",
    "x_train, x_test, y_train, y_test = train_test_split(X, Y, test_size=0.2, random_state=0)"
   ]
  },
  {
   "cell_type": "code",
   "execution_count": 138,
   "id": "bbc91722",
   "metadata": {},
   "outputs": [],
   "source": [
    "model = LinearRegression()\n",
    "model = model.fit(x_train, y_train)"
   ]
  },
  {
   "cell_type": "code",
   "execution_count": 139,
   "id": "2e1c2a45",
   "metadata": {},
   "outputs": [],
   "source": [
    "y_pred = model.predict(x_test)"
   ]
  },
  {
   "cell_type": "markdown",
   "id": "85916aca",
   "metadata": {},
   "source": [
    "## Evalution du modèle"
   ]
  },
  {
   "cell_type": "code",
   "execution_count": 140,
   "id": "a12ce463",
   "metadata": {},
   "outputs": [
    {
     "data": {
      "text/html": [
       "<div>\n",
       "<style scoped>\n",
       "    .dataframe tbody tr th:only-of-type {\n",
       "        vertical-align: middle;\n",
       "    }\n",
       "\n",
       "    .dataframe tbody tr th {\n",
       "        vertical-align: top;\n",
       "    }\n",
       "\n",
       "    .dataframe thead th {\n",
       "        text-align: right;\n",
       "    }\n",
       "</style>\n",
       "<table border=\"1\" class=\"dataframe\">\n",
       "  <thead>\n",
       "    <tr style=\"text-align: right;\">\n",
       "      <th></th>\n",
       "      <th>y_test</th>\n",
       "      <th>y_pred</th>\n",
       "    </tr>\n",
       "  </thead>\n",
       "  <tbody>\n",
       "    <tr>\n",
       "      <th>160</th>\n",
       "      <td>48.3</td>\n",
       "      <td>37.243718</td>\n",
       "    </tr>\n",
       "    <tr>\n",
       "      <th>55</th>\n",
       "      <td>23.9</td>\n",
       "      <td>27.326102</td>\n",
       "    </tr>\n",
       "    <tr>\n",
       "      <th>49</th>\n",
       "      <td>23.4</td>\n",
       "      <td>26.566240</td>\n",
       "    </tr>\n",
       "    <tr>\n",
       "      <th>59</th>\n",
       "      <td>22.5</td>\n",
       "      <td>22.850707</td>\n",
       "    </tr>\n",
       "    <tr>\n",
       "      <th>170</th>\n",
       "      <td>26.2</td>\n",
       "      <td>24.685642</td>\n",
       "    </tr>\n",
       "    <tr>\n",
       "      <th>210</th>\n",
       "      <td>16.2</td>\n",
       "      <td>20.247000</td>\n",
       "    </tr>\n",
       "    <tr>\n",
       "      <th>54</th>\n",
       "      <td>28.0</td>\n",
       "      <td>29.157086</td>\n",
       "    </tr>\n",
       "    <tr>\n",
       "      <th>60</th>\n",
       "      <td>22.2</td>\n",
       "      <td>26.985721</td>\n",
       "    </tr>\n",
       "    <tr>\n",
       "      <th>276</th>\n",
       "      <td>11.0</td>\n",
       "      <td>15.877527</td>\n",
       "    </tr>\n",
       "    <tr>\n",
       "      <th>97</th>\n",
       "      <td>13.4</td>\n",
       "      <td>13.897418</td>\n",
       "    </tr>\n",
       "  </tbody>\n",
       "</table>\n",
       "</div>"
      ],
      "text/plain": [
       "     y_test     y_pred\n",
       "160    48.3  37.243718\n",
       "55     23.9  27.326102\n",
       "49     23.4  26.566240\n",
       "59     22.5  22.850707\n",
       "170    26.2  24.685642\n",
       "210    16.2  20.247000\n",
       "54     28.0  29.157086\n",
       "60     22.2  26.985721\n",
       "276    11.0  15.877527\n",
       "97     13.4  13.897418"
      ]
     },
     "execution_count": 140,
     "metadata": {},
     "output_type": "execute_result"
    }
   ],
   "source": [
    "# To show our prediction and the reel values\n",
    "df_y = pd.DataFrame({'y_test' : y_test, 'y_pred' : y_pred})\n",
    "df_y.sample(10)"
   ]
  },
  {
   "cell_type": "code",
   "execution_count": 141,
   "id": "a590dbf4",
   "metadata": {},
   "outputs": [
    {
     "name": "stdout",
     "output_type": "stream",
     "text": [
      "Training score :  0.7191154693675492\n"
     ]
    }
   ],
   "source": [
    "print(\"Training score : \", model.score(x_train, y_train))"
   ]
  },
  {
   "cell_type": "code",
   "execution_count": 142,
   "id": "924369ca",
   "metadata": {},
   "outputs": [
    {
     "name": "stdout",
     "output_type": "stream",
     "text": [
      "Testing score :  0.6917086895657434\n"
     ]
    }
   ],
   "source": [
    "from sklearn.metrics import r2_score\n",
    "\n",
    "score = r2_score(y_test, y_pred)\n",
    "print(\"Testing score : \", score)"
   ]
  },
  {
   "cell_type": "markdown",
   "id": "1293750a",
   "metadata": {},
   "source": [
    "# Modele regression with categorical value"
   ]
  },
  {
   "cell_type": "code",
   "execution_count": 143,
   "id": "4ac09845",
   "metadata": {},
   "outputs": [
    {
     "data": {
      "text/html": [
       "<div>\n",
       "<style scoped>\n",
       "    .dataframe tbody tr th:only-of-type {\n",
       "        vertical-align: middle;\n",
       "    }\n",
       "\n",
       "    .dataframe tbody tr th {\n",
       "        vertical-align: top;\n",
       "    }\n",
       "\n",
       "    .dataframe thead th {\n",
       "        text-align: right;\n",
       "    }\n",
       "</style>\n",
       "<table border=\"1\" class=\"dataframe\">\n",
       "  <thead>\n",
       "    <tr style=\"text-align: right;\">\n",
       "      <th></th>\n",
       "      <th>carat</th>\n",
       "      <th>cut</th>\n",
       "      <th>color</th>\n",
       "      <th>clarity</th>\n",
       "      <th>depth</th>\n",
       "      <th>table</th>\n",
       "      <th>price</th>\n",
       "      <th>x</th>\n",
       "      <th>y</th>\n",
       "      <th>z</th>\n",
       "    </tr>\n",
       "  </thead>\n",
       "  <tbody>\n",
       "    <tr>\n",
       "      <th>1</th>\n",
       "      <td>0.23</td>\n",
       "      <td>Ideal</td>\n",
       "      <td>E</td>\n",
       "      <td>SI2</td>\n",
       "      <td>61.5</td>\n",
       "      <td>55.0</td>\n",
       "      <td>326</td>\n",
       "      <td>3.95</td>\n",
       "      <td>3.98</td>\n",
       "      <td>2.43</td>\n",
       "    </tr>\n",
       "    <tr>\n",
       "      <th>2</th>\n",
       "      <td>0.21</td>\n",
       "      <td>Premium</td>\n",
       "      <td>E</td>\n",
       "      <td>SI1</td>\n",
       "      <td>59.8</td>\n",
       "      <td>61.0</td>\n",
       "      <td>326</td>\n",
       "      <td>3.89</td>\n",
       "      <td>3.84</td>\n",
       "      <td>2.31</td>\n",
       "    </tr>\n",
       "    <tr>\n",
       "      <th>3</th>\n",
       "      <td>0.23</td>\n",
       "      <td>Good</td>\n",
       "      <td>E</td>\n",
       "      <td>VS1</td>\n",
       "      <td>56.9</td>\n",
       "      <td>65.0</td>\n",
       "      <td>327</td>\n",
       "      <td>4.05</td>\n",
       "      <td>4.07</td>\n",
       "      <td>2.31</td>\n",
       "    </tr>\n",
       "    <tr>\n",
       "      <th>4</th>\n",
       "      <td>0.29</td>\n",
       "      <td>Premium</td>\n",
       "      <td>I</td>\n",
       "      <td>VS2</td>\n",
       "      <td>62.4</td>\n",
       "      <td>58.0</td>\n",
       "      <td>334</td>\n",
       "      <td>4.20</td>\n",
       "      <td>4.23</td>\n",
       "      <td>2.63</td>\n",
       "    </tr>\n",
       "    <tr>\n",
       "      <th>5</th>\n",
       "      <td>0.31</td>\n",
       "      <td>Good</td>\n",
       "      <td>J</td>\n",
       "      <td>SI2</td>\n",
       "      <td>63.3</td>\n",
       "      <td>58.0</td>\n",
       "      <td>335</td>\n",
       "      <td>4.34</td>\n",
       "      <td>4.35</td>\n",
       "      <td>2.75</td>\n",
       "    </tr>\n",
       "  </tbody>\n",
       "</table>\n",
       "</div>"
      ],
      "text/plain": [
       "   carat      cut color clarity  depth  table  price     x     y     z\n",
       "1   0.23    Ideal     E     SI2   61.5   55.0    326  3.95  3.98  2.43\n",
       "2   0.21  Premium     E     SI1   59.8   61.0    326  3.89  3.84  2.31\n",
       "3   0.23     Good     E     VS1   56.9   65.0    327  4.05  4.07  2.31\n",
       "4   0.29  Premium     I     VS2   62.4   58.0    334  4.20  4.23  2.63\n",
       "5   0.31     Good     J     SI2   63.3   58.0    335  4.34  4.35  2.75"
      ]
     },
     "execution_count": 143,
     "metadata": {},
     "output_type": "execute_result"
    }
   ],
   "source": [
    "df_diamond = pd.read_csv('datasets/diamonds.csv', index_col=0)\n",
    "df_diamond.head()"
   ]
  },
  {
   "cell_type": "code",
   "execution_count": 144,
   "id": "cf9ee091",
   "metadata": {},
   "outputs": [],
   "source": [
    "df_diamond = df_diamond.sample(frac=0.2) # To select only 0.20 of dataset\n",
    "df_diamond.reset_index(inplace=True, drop=True)"
   ]
  },
  {
   "cell_type": "markdown",
   "id": "5bd38fdc",
   "metadata": {},
   "source": [
    "## Exploring data"
   ]
  },
  {
   "cell_type": "code",
   "execution_count": 145,
   "id": "e5f638c8",
   "metadata": {},
   "outputs": [
    {
     "name": "stderr",
     "output_type": "stream",
     "text": [
      "C:\\Users\\bjauseau\\AppData\\Local\\Temp\\ipykernel_17456\\1792708915.py:1: FutureWarning: The default value of numeric_only in DataFrame.corr is deprecated. In a future version, it will default to False. Select only valid columns or specify the value of numeric_only to silence this warning.\n",
      "  corr = df_diamond.corr()\n"
     ]
    },
    {
     "data": {
      "text/plain": [
       "<Axes: >"
      ]
     },
     "execution_count": 145,
     "metadata": {},
     "output_type": "execute_result"
    },
    {
     "data": {
      "image/png": "[encoded data removed]",
      "text/plain": [
       "<Figure size 500x500 with 2 Axes>"
      ]
     },
     "metadata": {},
     "output_type": "display_data"
    }
   ],
   "source": [
    "corr = df_diamond.corr()\n",
    "import seaborn as sns\n",
    "fig, ax, = plt.subplots(figsize = (5,5))\n",
    "sns.heatmap(corr, annot=True)"
   ]
  },
  {
   "cell_type": "code",
   "execution_count": 146,
   "id": "8adb4586",
   "metadata": {},
   "outputs": [
    {
     "name": "stdout",
     "output_type": "stream",
     "text": [
      "['Good' 'Very Good' 'Premium' 'Ideal' 'Fair']\n",
      "['D' 'I' 'H' 'E' 'G' 'J' 'F']\n",
      "['SI1' 'VS2' 'SI2' 'VS1' 'I1' 'VVS1' 'VVS2' 'IF']\n"
     ]
    }
   ],
   "source": [
    "print(df_diamond['cut'].unique())\n",
    "print(df_diamond['color'].unique())\n",
    "print(df_diamond['clarity'].unique())"
   ]
  },
  {
   "cell_type": "code",
   "execution_count": 147,
   "id": "78124911",
   "metadata": {},
   "outputs": [
    {
     "data": {
      "text/plain": [
       "<Axes: title={'center': 'price'}, xlabel='cut'>"
      ]
     },
     "execution_count": 147,
     "metadata": {},
     "output_type": "execute_result"
    },
    {
     "data": {
      "image/png": "[encoded data removed]",
      "text/plain": [
       "<Figure size 800x500 with 1 Axes>"
      ]
     },
     "metadata": {},
     "output_type": "display_data"
    }
   ],
   "source": [
    "# To find pattern for the price\n",
    "df_diamond.boxplot(by='cut', column=['price'], grid=False, figsize=(8,5))"
   ]
  },
  {
   "cell_type": "code",
   "execution_count": 148,
   "id": "4470f858",
   "metadata": {},
   "outputs": [
    {
     "data": {
      "text/plain": [
       "<Axes: title={'center': 'price'}, xlabel='color'>"
      ]
     },
     "execution_count": 148,
     "metadata": {},
     "output_type": "execute_result"
    },
    {
     "data": {
      "image/png": "[encoded data removed]",
      "text/plain": [
       "<Figure size 800x500 with 1 Axes>"
      ]
     },
     "metadata": {},
     "output_type": "display_data"
    }
   ],
   "source": [
    "# To find pattern for the price\n",
    "df_diamond.boxplot(by='color', column=['price'], grid=False, figsize=(8,5))"
   ]
  },
  {
   "cell_type": "code",
   "execution_count": 149,
   "id": "d3c8f5ba",
   "metadata": {},
   "outputs": [
    {
     "data": {
      "image/png": "[encoded data removed]",
      "text/plain": [
       "<Figure size 1000x800 with 1 Axes>"
      ]
     },
     "metadata": {},
     "output_type": "display_data"
    }
   ],
   "source": [
    "plt.subplots(figsize=(10,8))\n",
    "plt.scatter(df_diamond['carat'], df_diamond['price'])\n",
    "plt.xlabel('Carat')\n",
    "plt.ylabel('price')\n",
    "plt.show()"
   ]
  },
  {
   "cell_type": "markdown",
   "id": "8588790f",
   "metadata": {},
   "source": [
    "## Techniques Replace catégorie data by numbers"
   ]
  },
  {
   "cell_type": "code",
   "execution_count": 150,
   "id": "ff751bab",
   "metadata": {},
   "outputs": [],
   "source": [
    "clarity_dict = {\"IF\" : 7, \"VVS1\" : 6, \"VVS2\" : 5, \"VS1\" : 4, \"VS2\" : 3, \"SI1\" : 2, \"SI2\" : 1, \"I1\" : 0}\n",
    "df_diamond['clarity'].replace(clarity_dict, inplace=True)"
   ]
  },
  {
   "cell_type": "code",
   "execution_count": 151,
   "id": "89be9848",
   "metadata": {},
   "outputs": [
    {
     "data": {
      "text/html": [
       "<div>\n",
       "<style scoped>\n",
       "    .dataframe tbody tr th:only-of-type {\n",
       "        vertical-align: middle;\n",
       "    }\n",
       "\n",
       "    .dataframe tbody tr th {\n",
       "        vertical-align: top;\n",
       "    }\n",
       "\n",
       "    .dataframe thead th {\n",
       "        text-align: right;\n",
       "    }\n",
       "</style>\n",
       "<table border=\"1\" class=\"dataframe\">\n",
       "  <thead>\n",
       "    <tr style=\"text-align: right;\">\n",
       "      <th></th>\n",
       "      <th>carat</th>\n",
       "      <th>clarity</th>\n",
       "      <th>depth</th>\n",
       "      <th>table</th>\n",
       "      <th>price</th>\n",
       "      <th>x</th>\n",
       "      <th>y</th>\n",
       "      <th>z</th>\n",
       "      <th>cut_Fair</th>\n",
       "      <th>cut_Good</th>\n",
       "      <th>cut_Ideal</th>\n",
       "      <th>cut_Premium</th>\n",
       "      <th>cut_Very Good</th>\n",
       "      <th>color_D</th>\n",
       "      <th>color_E</th>\n",
       "      <th>color_F</th>\n",
       "      <th>color_G</th>\n",
       "      <th>color_H</th>\n",
       "      <th>color_I</th>\n",
       "      <th>color_J</th>\n",
       "    </tr>\n",
       "  </thead>\n",
       "  <tbody>\n",
       "    <tr>\n",
       "      <th>0</th>\n",
       "      <td>0.90</td>\n",
       "      <td>2</td>\n",
       "      <td>63.6</td>\n",
       "      <td>63.0</td>\n",
       "      <td>3755</td>\n",
       "      <td>6.03</td>\n",
       "      <td>6.07</td>\n",
       "      <td>3.85</td>\n",
       "      <td>0</td>\n",
       "      <td>1</td>\n",
       "      <td>0</td>\n",
       "      <td>0</td>\n",
       "      <td>0</td>\n",
       "      <td>1</td>\n",
       "      <td>0</td>\n",
       "      <td>0</td>\n",
       "      <td>0</td>\n",
       "      <td>0</td>\n",
       "      <td>0</td>\n",
       "      <td>0</td>\n",
       "    </tr>\n",
       "    <tr>\n",
       "      <th>1</th>\n",
       "      <td>2.01</td>\n",
       "      <td>3</td>\n",
       "      <td>59.6</td>\n",
       "      <td>60.0</td>\n",
       "      <td>16304</td>\n",
       "      <td>8.13</td>\n",
       "      <td>8.19</td>\n",
       "      <td>4.86</td>\n",
       "      <td>0</td>\n",
       "      <td>0</td>\n",
       "      <td>0</td>\n",
       "      <td>0</td>\n",
       "      <td>1</td>\n",
       "      <td>0</td>\n",
       "      <td>0</td>\n",
       "      <td>0</td>\n",
       "      <td>0</td>\n",
       "      <td>0</td>\n",
       "      <td>1</td>\n",
       "      <td>0</td>\n",
       "    </tr>\n",
       "    <tr>\n",
       "      <th>2</th>\n",
       "      <td>1.20</td>\n",
       "      <td>1</td>\n",
       "      <td>61.4</td>\n",
       "      <td>58.0</td>\n",
       "      <td>5779</td>\n",
       "      <td>6.81</td>\n",
       "      <td>6.77</td>\n",
       "      <td>4.17</td>\n",
       "      <td>0</td>\n",
       "      <td>0</td>\n",
       "      <td>0</td>\n",
       "      <td>1</td>\n",
       "      <td>0</td>\n",
       "      <td>0</td>\n",
       "      <td>0</td>\n",
       "      <td>0</td>\n",
       "      <td>0</td>\n",
       "      <td>1</td>\n",
       "      <td>0</td>\n",
       "      <td>0</td>\n",
       "    </tr>\n",
       "    <tr>\n",
       "      <th>3</th>\n",
       "      <td>1.53</td>\n",
       "      <td>3</td>\n",
       "      <td>61.6</td>\n",
       "      <td>58.0</td>\n",
       "      <td>16049</td>\n",
       "      <td>7.35</td>\n",
       "      <td>7.32</td>\n",
       "      <td>4.52</td>\n",
       "      <td>0</td>\n",
       "      <td>0</td>\n",
       "      <td>0</td>\n",
       "      <td>1</td>\n",
       "      <td>0</td>\n",
       "      <td>0</td>\n",
       "      <td>1</td>\n",
       "      <td>0</td>\n",
       "      <td>0</td>\n",
       "      <td>0</td>\n",
       "      <td>0</td>\n",
       "      <td>0</td>\n",
       "    </tr>\n",
       "    <tr>\n",
       "      <th>4</th>\n",
       "      <td>1.55</td>\n",
       "      <td>4</td>\n",
       "      <td>59.7</td>\n",
       "      <td>60.0</td>\n",
       "      <td>17773</td>\n",
       "      <td>7.62</td>\n",
       "      <td>7.56</td>\n",
       "      <td>4.53</td>\n",
       "      <td>0</td>\n",
       "      <td>0</td>\n",
       "      <td>0</td>\n",
       "      <td>1</td>\n",
       "      <td>0</td>\n",
       "      <td>1</td>\n",
       "      <td>0</td>\n",
       "      <td>0</td>\n",
       "      <td>0</td>\n",
       "      <td>0</td>\n",
       "      <td>0</td>\n",
       "      <td>0</td>\n",
       "    </tr>\n",
       "  </tbody>\n",
       "</table>\n",
       "</div>"
      ],
      "text/plain": [
       "   carat  clarity  depth  table  price     x     y     z  cut_Fair  cut_Good  \\\n",
       "0   0.90        2   63.6   63.0   3755  6.03  6.07  3.85         0         1   \n",
       "1   2.01        3   59.6   60.0  16304  8.13  8.19  4.86         0         0   \n",
       "2   1.20        1   61.4   58.0   5779  6.81  6.77  4.17         0         0   \n",
       "3   1.53        3   61.6   58.0  16049  7.35  7.32  4.52         0         0   \n",
       "4   1.55        4   59.7   60.0  17773  7.62  7.56  4.53         0         0   \n",
       "\n",
       "   cut_Ideal  cut_Premium  cut_Very Good  color_D  color_E  color_F  color_G  \\\n",
       "0          0            0              0        1        0        0        0   \n",
       "1          0            0              1        0        0        0        0   \n",
       "2          0            1              0        0        0        0        0   \n",
       "3          0            1              0        0        1        0        0   \n",
       "4          0            1              0        1        0        0        0   \n",
       "\n",
       "   color_H  color_I  color_J  \n",
       "0        0        0        0  \n",
       "1        0        1        0  \n",
       "2        1        0        0  \n",
       "3        0        0        0  \n",
       "4        0        0        0  "
      ]
     },
     "execution_count": 151,
     "metadata": {},
     "output_type": "execute_result"
    }
   ],
   "source": [
    "# Encodage à chaud pour les varibales ordinals\n",
    "df_diamond = pd.get_dummies(df_diamond, columns=['cut', 'color'])\n",
    "df_diamond.head()"
   ]
  },
  {
   "cell_type": "code",
   "execution_count": 152,
   "id": "9fcd6cc5",
   "metadata": {},
   "outputs": [
    {
     "data": {
      "text/html": [
       "<div>\n",
       "<style scoped>\n",
       "    .dataframe tbody tr th:only-of-type {\n",
       "        vertical-align: middle;\n",
       "    }\n",
       "\n",
       "    .dataframe tbody tr th {\n",
       "        vertical-align: top;\n",
       "    }\n",
       "\n",
       "    .dataframe thead th {\n",
       "        text-align: right;\n",
       "    }\n",
       "</style>\n",
       "<table border=\"1\" class=\"dataframe\">\n",
       "  <thead>\n",
       "    <tr style=\"text-align: right;\">\n",
       "      <th></th>\n",
       "      <th>carat</th>\n",
       "      <th>depth</th>\n",
       "      <th>table</th>\n",
       "      <th>x</th>\n",
       "      <th>y</th>\n",
       "      <th>z</th>\n",
       "    </tr>\n",
       "  </thead>\n",
       "  <tbody>\n",
       "    <tr>\n",
       "      <th>count</th>\n",
       "      <td>10788.000000</td>\n",
       "      <td>10788.000000</td>\n",
       "      <td>10788.000000</td>\n",
       "      <td>10788.000000</td>\n",
       "      <td>10788.000000</td>\n",
       "      <td>10788.000000</td>\n",
       "    </tr>\n",
       "    <tr>\n",
       "      <th>mean</th>\n",
       "      <td>0.800914</td>\n",
       "      <td>61.737514</td>\n",
       "      <td>57.470059</td>\n",
       "      <td>5.740523</td>\n",
       "      <td>5.741542</td>\n",
       "      <td>3.542941</td>\n",
       "    </tr>\n",
       "    <tr>\n",
       "      <th>std</th>\n",
       "      <td>0.475516</td>\n",
       "      <td>1.431228</td>\n",
       "      <td>2.228738</td>\n",
       "      <td>1.119101</td>\n",
       "      <td>1.111074</td>\n",
       "      <td>0.693126</td>\n",
       "    </tr>\n",
       "    <tr>\n",
       "      <th>min</th>\n",
       "      <td>0.200000</td>\n",
       "      <td>53.000000</td>\n",
       "      <td>51.600000</td>\n",
       "      <td>0.000000</td>\n",
       "      <td>0.000000</td>\n",
       "      <td>0.000000</td>\n",
       "    </tr>\n",
       "    <tr>\n",
       "      <th>25%</th>\n",
       "      <td>0.400000</td>\n",
       "      <td>61.000000</td>\n",
       "      <td>56.000000</td>\n",
       "      <td>4.730000</td>\n",
       "      <td>4.740000</td>\n",
       "      <td>2.920000</td>\n",
       "    </tr>\n",
       "    <tr>\n",
       "      <th>50%</th>\n",
       "      <td>0.700000</td>\n",
       "      <td>61.800000</td>\n",
       "      <td>57.000000</td>\n",
       "      <td>5.700000</td>\n",
       "      <td>5.710000</td>\n",
       "      <td>3.530000</td>\n",
       "    </tr>\n",
       "    <tr>\n",
       "      <th>75%</th>\n",
       "      <td>1.040000</td>\n",
       "      <td>62.500000</td>\n",
       "      <td>59.000000</td>\n",
       "      <td>6.540000</td>\n",
       "      <td>6.530000</td>\n",
       "      <td>4.030000</td>\n",
       "    </tr>\n",
       "    <tr>\n",
       "      <th>max</th>\n",
       "      <td>4.130000</td>\n",
       "      <td>72.900000</td>\n",
       "      <td>69.000000</td>\n",
       "      <td>10.140000</td>\n",
       "      <td>10.100000</td>\n",
       "      <td>6.430000</td>\n",
       "    </tr>\n",
       "  </tbody>\n",
       "</table>\n",
       "</div>"
      ],
      "text/plain": [
       "              carat         depth         table             x             y  \\\n",
       "count  10788.000000  10788.000000  10788.000000  10788.000000  10788.000000   \n",
       "mean       0.800914     61.737514     57.470059      5.740523      5.741542   \n",
       "std        0.475516      1.431228      2.228738      1.119101      1.111074   \n",
       "min        0.200000     53.000000     51.600000      0.000000      0.000000   \n",
       "25%        0.400000     61.000000     56.000000      4.730000      4.740000   \n",
       "50%        0.700000     61.800000     57.000000      5.700000      5.710000   \n",
       "75%        1.040000     62.500000     59.000000      6.540000      6.530000   \n",
       "max        4.130000     72.900000     69.000000     10.140000     10.100000   \n",
       "\n",
       "                  z  \n",
       "count  10788.000000  \n",
       "mean       3.542941  \n",
       "std        0.693126  \n",
       "min        0.000000  \n",
       "25%        2.920000  \n",
       "50%        3.530000  \n",
       "75%        4.030000  \n",
       "max        6.430000  "
      ]
     },
     "execution_count": 152,
     "metadata": {},
     "output_type": "execute_result"
    }
   ],
   "source": [
    "## Separe numeric df and no-numeric\n",
    "numeric_features = ['carat', 'depth', 'table', 'x', 'y', 'z']\n",
    "numeric_df = df_diamond[numeric_features]\n",
    "numeric_df.describe()"
   ]
  },
  {
   "cell_type": "markdown",
   "id": "5e81d7f2",
   "metadata": {},
   "source": [
    "## Normalisation"
   ]
  },
  {
   "cell_type": "code",
   "execution_count": 153,
   "id": "d3efc577",
   "metadata": {},
   "outputs": [],
   "source": [
    "from sklearn.preprocessing import scale\n",
    "numeric_array = scale(numeric_df)"
   ]
  },
  {
   "cell_type": "code",
   "execution_count": 154,
   "id": "71cba0f4",
   "metadata": {},
   "outputs": [
    {
     "data": {
      "text/html": [
       "<div>\n",
       "<style scoped>\n",
       "    .dataframe tbody tr th:only-of-type {\n",
       "        vertical-align: middle;\n",
       "    }\n",
       "\n",
       "    .dataframe tbody tr th {\n",
       "        vertical-align: top;\n",
       "    }\n",
       "\n",
       "    .dataframe thead th {\n",
       "        text-align: right;\n",
       "    }\n",
       "</style>\n",
       "<table border=\"1\" class=\"dataframe\">\n",
       "  <thead>\n",
       "    <tr style=\"text-align: right;\">\n",
       "      <th></th>\n",
       "      <th>carat</th>\n",
       "      <th>depth</th>\n",
       "      <th>table</th>\n",
       "      <th>x</th>\n",
       "      <th>y</th>\n",
       "      <th>z</th>\n",
       "    </tr>\n",
       "  </thead>\n",
       "  <tbody>\n",
       "    <tr>\n",
       "      <th>count</th>\n",
       "      <td>1.078800e+04</td>\n",
       "      <td>1.078800e+04</td>\n",
       "      <td>1.078800e+04</td>\n",
       "      <td>1.078800e+04</td>\n",
       "      <td>1.078800e+04</td>\n",
       "      <td>1.078800e+04</td>\n",
       "    </tr>\n",
       "    <tr>\n",
       "      <th>mean</th>\n",
       "      <td>2.697138e-16</td>\n",
       "      <td>6.758982e-15</td>\n",
       "      <td>-7.706109e-16</td>\n",
       "      <td>8.990460e-17</td>\n",
       "      <td>-1.435839e-16</td>\n",
       "      <td>-1.870543e-16</td>\n",
       "    </tr>\n",
       "    <tr>\n",
       "      <th>std</th>\n",
       "      <td>1.000046e+00</td>\n",
       "      <td>1.000046e+00</td>\n",
       "      <td>1.000046e+00</td>\n",
       "      <td>1.000046e+00</td>\n",
       "      <td>1.000046e+00</td>\n",
       "      <td>1.000046e+00</td>\n",
       "    </tr>\n",
       "    <tr>\n",
       "      <th>min</th>\n",
       "      <td>-1.263767e+00</td>\n",
       "      <td>-6.105191e+00</td>\n",
       "      <td>-2.633926e+00</td>\n",
       "      <td>-5.129821e+00</td>\n",
       "      <td>-5.167800e+00</td>\n",
       "      <td>-5.111779e+00</td>\n",
       "    </tr>\n",
       "    <tr>\n",
       "      <th>25%</th>\n",
       "      <td>-8.431522e-01</td>\n",
       "      <td>-5.153255e-01</td>\n",
       "      <td>-6.596233e-01</td>\n",
       "      <td>-9.030190e-01</td>\n",
       "      <td>-9.014593e-01</td>\n",
       "      <td>-8.987836e-01</td>\n",
       "    </tr>\n",
       "    <tr>\n",
       "      <th>50%</th>\n",
       "      <td>-2.122297e-01</td>\n",
       "      <td>4.366111e-02</td>\n",
       "      <td>-2.109181e-01</td>\n",
       "      <td>-3.621181e-02</td>\n",
       "      <td>-2.838964e-02</td>\n",
       "      <td>-1.867169e-02</td>\n",
       "    </tr>\n",
       "    <tr>\n",
       "      <th>75%</th>\n",
       "      <td>5.028159e-01</td>\n",
       "      <td>5.327744e-01</td>\n",
       "      <td>6.864924e-01</td>\n",
       "      <td>7.144254e-01</td>\n",
       "      <td>7.096693e-01</td>\n",
       "      <td>7.027315e-01</td>\n",
       "    </tr>\n",
       "    <tr>\n",
       "      <th>max</th>\n",
       "      <td>7.001318e+00</td>\n",
       "      <td>7.799600e+00</td>\n",
       "      <td>5.173545e+00</td>\n",
       "      <td>3.931442e+00</td>\n",
       "      <td>3.922926e+00</td>\n",
       "      <td>4.165467e+00</td>\n",
       "    </tr>\n",
       "  </tbody>\n",
       "</table>\n",
       "</div>"
      ],
      "text/plain": [
       "              carat         depth         table             x             y  \\\n",
       "count  1.078800e+04  1.078800e+04  1.078800e+04  1.078800e+04  1.078800e+04   \n",
       "mean   2.697138e-16  6.758982e-15 -7.706109e-16  8.990460e-17 -1.435839e-16   \n",
       "std    1.000046e+00  1.000046e+00  1.000046e+00  1.000046e+00  1.000046e+00   \n",
       "min   -1.263767e+00 -6.105191e+00 -2.633926e+00 -5.129821e+00 -5.167800e+00   \n",
       "25%   -8.431522e-01 -5.153255e-01 -6.596233e-01 -9.030190e-01 -9.014593e-01   \n",
       "50%   -2.122297e-01  4.366111e-02 -2.109181e-01 -3.621181e-02 -2.838964e-02   \n",
       "75%    5.028159e-01  5.327744e-01  6.864924e-01  7.144254e-01  7.096693e-01   \n",
       "max    7.001318e+00  7.799600e+00  5.173545e+00  3.931442e+00  3.922926e+00   \n",
       "\n",
       "                  z  \n",
       "count  1.078800e+04  \n",
       "mean  -1.870543e-16  \n",
       "std    1.000046e+00  \n",
       "min   -5.111779e+00  \n",
       "25%   -8.987836e-01  \n",
       "50%   -1.867169e-02  \n",
       "75%    7.027315e-01  \n",
       "max    4.165467e+00  "
      ]
     },
     "execution_count": 154,
     "metadata": {},
     "output_type": "execute_result"
    }
   ],
   "source": [
    "numeric_df = pd.DataFrame(numeric_array, columns=numeric_df.columns)\n",
    "numeric_df.describe()"
   ]
  },
  {
   "cell_type": "code",
   "execution_count": 155,
   "id": "f2a4ffa1",
   "metadata": {},
   "outputs": [
    {
     "data": {
      "text/html": [
       "<div>\n",
       "<style scoped>\n",
       "    .dataframe tbody tr th:only-of-type {\n",
       "        vertical-align: middle;\n",
       "    }\n",
       "\n",
       "    .dataframe tbody tr th {\n",
       "        vertical-align: top;\n",
       "    }\n",
       "\n",
       "    .dataframe thead th {\n",
       "        text-align: right;\n",
       "    }\n",
       "</style>\n",
       "<table border=\"1\" class=\"dataframe\">\n",
       "  <thead>\n",
       "    <tr style=\"text-align: right;\">\n",
       "      <th></th>\n",
       "      <th>clarity</th>\n",
       "      <th>price</th>\n",
       "      <th>cut_Fair</th>\n",
       "      <th>cut_Good</th>\n",
       "      <th>cut_Ideal</th>\n",
       "      <th>cut_Premium</th>\n",
       "      <th>cut_Very Good</th>\n",
       "      <th>color_D</th>\n",
       "      <th>color_E</th>\n",
       "      <th>color_F</th>\n",
       "      <th>color_G</th>\n",
       "      <th>color_H</th>\n",
       "      <th>color_I</th>\n",
       "      <th>color_J</th>\n",
       "    </tr>\n",
       "  </thead>\n",
       "  <tbody>\n",
       "    <tr>\n",
       "      <th>0</th>\n",
       "      <td>2</td>\n",
       "      <td>3755</td>\n",
       "      <td>0</td>\n",
       "      <td>1</td>\n",
       "      <td>0</td>\n",
       "      <td>0</td>\n",
       "      <td>0</td>\n",
       "      <td>1</td>\n",
       "      <td>0</td>\n",
       "      <td>0</td>\n",
       "      <td>0</td>\n",
       "      <td>0</td>\n",
       "      <td>0</td>\n",
       "      <td>0</td>\n",
       "    </tr>\n",
       "    <tr>\n",
       "      <th>1</th>\n",
       "      <td>3</td>\n",
       "      <td>16304</td>\n",
       "      <td>0</td>\n",
       "      <td>0</td>\n",
       "      <td>0</td>\n",
       "      <td>0</td>\n",
       "      <td>1</td>\n",
       "      <td>0</td>\n",
       "      <td>0</td>\n",
       "      <td>0</td>\n",
       "      <td>0</td>\n",
       "      <td>0</td>\n",
       "      <td>1</td>\n",
       "      <td>0</td>\n",
       "    </tr>\n",
       "    <tr>\n",
       "      <th>2</th>\n",
       "      <td>1</td>\n",
       "      <td>5779</td>\n",
       "      <td>0</td>\n",
       "      <td>0</td>\n",
       "      <td>0</td>\n",
       "      <td>1</td>\n",
       "      <td>0</td>\n",
       "      <td>0</td>\n",
       "      <td>0</td>\n",
       "      <td>0</td>\n",
       "      <td>0</td>\n",
       "      <td>1</td>\n",
       "      <td>0</td>\n",
       "      <td>0</td>\n",
       "    </tr>\n",
       "    <tr>\n",
       "      <th>3</th>\n",
       "      <td>3</td>\n",
       "      <td>16049</td>\n",
       "      <td>0</td>\n",
       "      <td>0</td>\n",
       "      <td>0</td>\n",
       "      <td>1</td>\n",
       "      <td>0</td>\n",
       "      <td>0</td>\n",
       "      <td>1</td>\n",
       "      <td>0</td>\n",
       "      <td>0</td>\n",
       "      <td>0</td>\n",
       "      <td>0</td>\n",
       "      <td>0</td>\n",
       "    </tr>\n",
       "    <tr>\n",
       "      <th>4</th>\n",
       "      <td>4</td>\n",
       "      <td>17773</td>\n",
       "      <td>0</td>\n",
       "      <td>0</td>\n",
       "      <td>0</td>\n",
       "      <td>1</td>\n",
       "      <td>0</td>\n",
       "      <td>1</td>\n",
       "      <td>0</td>\n",
       "      <td>0</td>\n",
       "      <td>0</td>\n",
       "      <td>0</td>\n",
       "      <td>0</td>\n",
       "      <td>0</td>\n",
       "    </tr>\n",
       "  </tbody>\n",
       "</table>\n",
       "</div>"
      ],
      "text/plain": [
       "   clarity  price  cut_Fair  cut_Good  cut_Ideal  cut_Premium  cut_Very Good  \\\n",
       "0        2   3755         0         1          0            0              0   \n",
       "1        3  16304         0         0          0            0              1   \n",
       "2        1   5779         0         0          0            1              0   \n",
       "3        3  16049         0         0          0            1              0   \n",
       "4        4  17773         0         0          0            1              0   \n",
       "\n",
       "   color_D  color_E  color_F  color_G  color_H  color_I  color_J  \n",
       "0        1        0        0        0        0        0        0  \n",
       "1        0        0        0        0        0        1        0  \n",
       "2        0        0        0        0        1        0        0  \n",
       "3        0        1        0        0        0        0        0  \n",
       "4        1        0        0        0        0        0        0  "
      ]
     },
     "execution_count": 155,
     "metadata": {},
     "output_type": "execute_result"
    }
   ],
   "source": [
    "df_diamond.drop(numeric_features, inplace=True, axis=1)\n",
    "df_diamond.head()"
   ]
  },
  {
   "cell_type": "code",
   "execution_count": 156,
   "id": "904b43eb",
   "metadata": {},
   "outputs": [],
   "source": [
    "df_diamond = pd.concat([df_diamond, numeric_df], axis=1) # to concat the data frame normalised"
   ]
  },
  {
   "cell_type": "markdown",
   "id": "43665794",
   "metadata": {},
   "source": [
    "## Linear regression application"
   ]
  },
  {
   "cell_type": "code",
   "execution_count": 159,
   "id": "d8ab159b",
   "metadata": {},
   "outputs": [],
   "source": [
    "from sklearn.model_selection import train_test_split\n",
    "from sklearn.linear_model import LinearRegression\n",
    "\n",
    "X = df_diamond.drop([\"price\"], axis=1)\n",
    "Y = df_diamond[\"price\"]\n",
    "\n",
    "x_train, x_test, y_train, y_test = train_test_split(X, Y, test_size=0.2, random_state=0)"
   ]
  },
  {
   "cell_type": "code",
   "execution_count": 160,
   "id": "2c74551d",
   "metadata": {},
   "outputs": [],
   "source": [
    "model = LinearRegression()\n",
    "model = model.fit(x_train, y_train)\n",
    "y_pred = model.predict(x_test)"
   ]
  },
  {
   "cell_type": "code",
   "execution_count": 161,
   "id": "67632464",
   "metadata": {},
   "outputs": [
    {
     "data": {
      "text/html": [
       "<div>\n",
       "<style scoped>\n",
       "    .dataframe tbody tr th:only-of-type {\n",
       "        vertical-align: middle;\n",
       "    }\n",
       "\n",
       "    .dataframe tbody tr th {\n",
       "        vertical-align: top;\n",
       "    }\n",
       "\n",
       "    .dataframe thead th {\n",
       "        text-align: right;\n",
       "    }\n",
       "</style>\n",
       "<table border=\"1\" class=\"dataframe\">\n",
       "  <thead>\n",
       "    <tr style=\"text-align: right;\">\n",
       "      <th></th>\n",
       "      <th>y_test</th>\n",
       "      <th>y_pred</th>\n",
       "    </tr>\n",
       "  </thead>\n",
       "  <tbody>\n",
       "    <tr>\n",
       "      <th>9447</th>\n",
       "      <td>3045</td>\n",
       "      <td>3929.0</td>\n",
       "    </tr>\n",
       "    <tr>\n",
       "      <th>1678</th>\n",
       "      <td>1547</td>\n",
       "      <td>1745.0</td>\n",
       "    </tr>\n",
       "    <tr>\n",
       "      <th>265</th>\n",
       "      <td>16340</td>\n",
       "      <td>12992.0</td>\n",
       "    </tr>\n",
       "    <tr>\n",
       "      <th>10040</th>\n",
       "      <td>618</td>\n",
       "      <td>461.0</td>\n",
       "    </tr>\n",
       "    <tr>\n",
       "      <th>8839</th>\n",
       "      <td>2342</td>\n",
       "      <td>2186.0</td>\n",
       "    </tr>\n",
       "    <tr>\n",
       "      <th>10133</th>\n",
       "      <td>2343</td>\n",
       "      <td>2347.0</td>\n",
       "    </tr>\n",
       "    <tr>\n",
       "      <th>3716</th>\n",
       "      <td>345</td>\n",
       "      <td>-1057.0</td>\n",
       "    </tr>\n",
       "    <tr>\n",
       "      <th>6850</th>\n",
       "      <td>17036</td>\n",
       "      <td>13164.0</td>\n",
       "    </tr>\n",
       "    <tr>\n",
       "      <th>6067</th>\n",
       "      <td>977</td>\n",
       "      <td>1233.0</td>\n",
       "    </tr>\n",
       "    <tr>\n",
       "      <th>9927</th>\n",
       "      <td>6499</td>\n",
       "      <td>6339.0</td>\n",
       "    </tr>\n",
       "  </tbody>\n",
       "</table>\n",
       "</div>"
      ],
      "text/plain": [
       "       y_test   y_pred\n",
       "9447     3045   3929.0\n",
       "1678     1547   1745.0\n",
       "265     16340  12992.0\n",
       "10040     618    461.0\n",
       "8839     2342   2186.0\n",
       "10133    2343   2347.0\n",
       "3716      345  -1057.0\n",
       "6850    17036  13164.0\n",
       "6067      977   1233.0\n",
       "9927     6499   6339.0"
      ]
     },
     "execution_count": 161,
     "metadata": {},
     "output_type": "execute_result"
    }
   ],
   "source": [
    "# To show our prediction and the reel values\n",
    "df_y = pd.DataFrame({'y_test' : y_test, 'y_pred' : y_pred})\n",
    "df_y.sample(10)"
   ]
  },
  {
   "cell_type": "code",
   "execution_count": 162,
   "id": "82f7b7a9",
   "metadata": {},
   "outputs": [
    {
     "name": "stdout",
     "output_type": "stream",
     "text": [
      "Training score :  0.908058225626405\n",
      "Testing score :  0.914704530127647\n"
     ]
    }
   ],
   "source": [
    "from sklearn.metrics import r2_score\n",
    "print(\"Training score : \", model.score(x_train, y_train))\n",
    "\n",
    "score = r2_score(y_test, y_pred)\n",
    "print(\"Testing score : \", score)"
   ]
  },
  {
   "cell_type": "markdown",
   "id": "a11fcc85",
   "metadata": {},
   "source": [
    "## Exemple of differents techniques of regression"
   ]
  },
  {
   "cell_type": "code",
   "execution_count": 163,
   "id": "eba6d53b",
   "metadata": {},
   "outputs": [],
   "source": [
    "def linear_model(x_train, y_train):\n",
    "    print(\"Linear Regression\")\n",
    "    linear_regression = LinearRegression()\n",
    "    \n",
    "    linear_regression.fit(x_train, y_train)\n",
    "    \n",
    "    return linear_regression"
   ]
  },
  {
   "cell_type": "code",
   "execution_count": 164,
   "id": "1552493a",
   "metadata": {},
   "outputs": [],
   "source": [
    "from sklearn.linear_model import Lasso\n",
    "def lasso_model(x_train, y_train):\n",
    "    print(\"Lasso Regression\")\n",
    "    lasso_regression = Lasso(alpha=0.8, max_iter=10000)\n",
    "    \n",
    "    lasso_regression.fit(x_train, y_train)\n",
    "    \n",
    "    return lasso_regression"
   ]
  },
  {
   "cell_type": "code",
   "execution_count": 166,
   "id": "4be5dbaf",
   "metadata": {},
   "outputs": [],
   "source": [
    "from sklearn.linear_model import Ridge\n",
    "def ridge_model(x_train, y_train):\n",
    "    print(\"Ridge Regression\")\n",
    "    ridge_regression = Ridge(alpha=0.9)\n",
    "    \n",
    "    ridge_regression.fit(x_train, y_train)\n",
    "    \n",
    "    return ridge_regression"
   ]
  },
  {
   "cell_type": "code",
   "execution_count": 177,
   "id": "22b08473",
   "metadata": {},
   "outputs": [],
   "source": [
    "from sklearn.linear_model import SGDRegressor\n",
    "def sgd_model(x_train, y_train):\n",
    "    print(\"SGD Regression\")\n",
    "    sgd_regression = SGDRegressor(alpha=0.9)\n",
    "    \n",
    "    sgd_regression.fit(x_train, y_train)\n",
    "    \n",
    "    return sgd_regression"
   ]
  },
  {
   "cell_type": "code",
   "execution_count": 173,
   "id": "259ad2b0",
   "metadata": {},
   "outputs": [],
   "source": [
    "def build_and_train_model(data, target_name, reg_fn):\n",
    "    \n",
    "    X = data.drop(target_name, axis=1)\n",
    "    Y = data[target_name]\n",
    "    \n",
    "    x_train, x_test, y_train, y_test = \\\n",
    "        train_test_split(X, Y, test_size=0.2, random_state=0)\n",
    "    \n",
    "    model = reg_fn(x_train, y_train)\n",
    "    \n",
    "    score = model.score(x_train, y_train)\n",
    "    print(\"Training Score : \", score)\n",
    "    \n",
    "    y_pred = model.predict(x_test)\n",
    "    r_score = r2_score(y_test, y_pred)\n",
    "    print(\"Testing Score : \", r_score)\n",
    "    \n",
    "    return {'model' : model,\n",
    "            'x_train' : x_train, 'x_test' : x_test,\n",
    "            'y_train' : y_train, 'y_test' : y_test,\n",
    "            'y_pred' : y_pred}"
   ]
  },
  {
   "cell_type": "code",
   "execution_count": 174,
   "id": "7648bca2",
   "metadata": {},
   "outputs": [
    {
     "name": "stdout",
     "output_type": "stream",
     "text": [
      "Linear Regression\n",
      "Training Score :  0.908058225626405\n",
      "Testing Score :  0.914704530127647\n"
     ]
    }
   ],
   "source": [
    "linear_reg = build_and_train_model(df_diamond, \"price\", linear_model)"
   ]
  },
  {
   "cell_type": "code",
   "execution_count": 175,
   "id": "45136f64",
   "metadata": {},
   "outputs": [
    {
     "name": "stdout",
     "output_type": "stream",
     "text": [
      "Lasso Regression\n",
      "Training Score :  0.9079857042208584\n",
      "Testing Score :  0.914407212172395\n"
     ]
    }
   ],
   "source": [
    "lasso_reg = build_and_train_model(df_diamond, \"price\", lasso_model)"
   ]
  },
  {
   "cell_type": "code",
   "execution_count": 176,
   "id": "e56915c7",
   "metadata": {},
   "outputs": [
    {
     "name": "stdout",
     "output_type": "stream",
     "text": [
      "Ridge Regression\n",
      "Training Score :  0.9080554218475139\n",
      "Testing Score :  0.9146986993606084\n"
     ]
    }
   ],
   "source": [
    "ridge_reg = build_and_train_model(df_diamond, \"price\", ridge_model)"
   ]
  },
  {
   "cell_type": "code",
   "execution_count": 179,
   "id": "9a78d5c7",
   "metadata": {},
   "outputs": [
    {
     "name": "stdout",
     "output_type": "stream",
     "text": [
      "SGD Regression\n",
      "Training Score :  0.809500866199512\n",
      "Testing Score :  0.8280678857858026\n"
     ]
    }
   ],
   "source": [
    "sgd_reg = build_and_train_model(df_diamond, \"price\", sgd_model)"
   ]
  },
  {
   "cell_type": "code",
   "execution_count": null,
   "id": "99293256",
   "metadata": {},
   "outputs": [],
   "source": []
  },
  {
   "cell_type": "code",
   "execution_count": null,
   "id": "f13223e3",
   "metadata": {},
   "outputs": [],
   "source": []
  }
 ],
 "metadata": {
  "kernelspec": {
   "display_name": "Python 3 (ipykernel)",
   "language": "python",
   "name": "python3"
  },
  "language_info": {
   "codemirror_mode": {
    "name": "ipython",
    "version": 3
   },
   "file_extension": ".py",
   "mimetype": "text/x-python",
   "name": "python",
   "nbconvert_exporter": "python",
   "pygments_lexer": "ipython3",
   "version": "3.11.5"
  }
 },
 "nbformat": 4,
 "nbformat_minor": 5
}
